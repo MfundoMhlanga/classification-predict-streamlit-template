{
  "nbformat": 4,
  "nbformat_minor": 5,
  "metadata": {
    "kernelspec": {
      "display_name": "Python 3",
      "language": "python",
      "name": "python3"
    },
    "language_info": {
      "codemirror_mode": {
        "name": "ipython",
        "version": 3
      },
      "file_extension": ".py",
      "mimetype": "text/x-python",
      "name": "python",
      "nbconvert_exporter": "python",
      "pygments_lexer": "ipython3",
      "version": "3.8.8"
    },
    "colab": {
      "name": "Classification_Predict.ipynb",
      "provenance": [],
      "include_colab_link": true
    }
  },
  "cells": [
    {
      "cell_type": "markdown",
      "metadata": {
        "id": "view-in-github",
        "colab_type": "text"
      },
      "source": [
        "<a href=\"https://colab.research.google.com/github/MfundoMhlanga/classification-predict-streamlit-template/blob/master/Classification_Predict.ipynb\" target=\"_parent\"><img src=\"https://colab.research.google.com/assets/colab-badge.svg\" alt=\"Open In Colab\"/></a>"
      ]
    },
    {
      "cell_type": "code",
      "metadata": {
        "id": "c85f8dfa"
      },
      "source": [
        "import pandas as pd\n",
        "import numpy as np\n",
        "from sklearn.model_selection import train_test_split\n",
        "from sklearn.feature_extraction.text import CountVectorizer\n",
        "from sklearn.linear_model import LogisticRegression\n",
        "import matplotlib.pyplot as plt\n",
        "plt.style.use('classic')\n",
        "import seaborn as sns\n",
        "\n",
        "from sklearn.preprocessing import StandardScaler\n",
        "from sklearn.svm import SVC\n",
        "from sklearn.metrics import confusion_matrix\n",
        "from sklearn.metrics import precision_score, recall_score, f1_score, accuracy_score\n",
        "import matplotlib.pyplot as plt\n",
        "from sklearn import metrics\n",
        "from sklearn.naive_bayes import MultinomialNB\n",
        "from sklearn.feature_extraction.text import TfidfVectorizer\n",
        "from sklearn.feature_extraction.text import HashingVectorizer\n",
        "from sklearn.neighbors import KNeighborsClassifier"
      ],
      "id": "c85f8dfa",
      "execution_count": null,
      "outputs": []
    },
    {
      "cell_type": "code",
      "metadata": {
        "id": "0a9902d6",
        "outputId": "6995349a-b976-4d8a-8cfa-bcd970ebc2cc"
      },
      "source": [
        "df = pd.read_csv('https://raw.githubusercontent.com/MfundoMhlanga/classification-predict-streamlit-template/master/train.csv')\n",
        "df.head()"
      ],
      "id": "0a9902d6",
      "execution_count": null,
      "outputs": [
        {
          "data": {
            "text/html": [
              "<div>\n",
              "<style scoped>\n",
              "    .dataframe tbody tr th:only-of-type {\n",
              "        vertical-align: middle;\n",
              "    }\n",
              "\n",
              "    .dataframe tbody tr th {\n",
              "        vertical-align: top;\n",
              "    }\n",
              "\n",
              "    .dataframe thead th {\n",
              "        text-align: right;\n",
              "    }\n",
              "</style>\n",
              "<table border=\"1\" class=\"dataframe\">\n",
              "  <thead>\n",
              "    <tr style=\"text-align: right;\">\n",
              "      <th></th>\n",
              "      <th>sentiment</th>\n",
              "      <th>message</th>\n",
              "      <th>tweetid</th>\n",
              "    </tr>\n",
              "  </thead>\n",
              "  <tbody>\n",
              "    <tr>\n",
              "      <th>0</th>\n",
              "      <td>1</td>\n",
              "      <td>PolySciMajor EPA chief doesn't think carbon di...</td>\n",
              "      <td>625221</td>\n",
              "    </tr>\n",
              "    <tr>\n",
              "      <th>1</th>\n",
              "      <td>1</td>\n",
              "      <td>It's not like we lack evidence of anthropogeni...</td>\n",
              "      <td>126103</td>\n",
              "    </tr>\n",
              "    <tr>\n",
              "      <th>2</th>\n",
              "      <td>2</td>\n",
              "      <td>RT @RawStory: Researchers say we have three ye...</td>\n",
              "      <td>698562</td>\n",
              "    </tr>\n",
              "    <tr>\n",
              "      <th>3</th>\n",
              "      <td>1</td>\n",
              "      <td>#TodayinMaker# WIRED : 2016 was a pivotal year...</td>\n",
              "      <td>573736</td>\n",
              "    </tr>\n",
              "    <tr>\n",
              "      <th>4</th>\n",
              "      <td>1</td>\n",
              "      <td>RT @SoyNovioDeTodas: It's 2016, and a racist, ...</td>\n",
              "      <td>466954</td>\n",
              "    </tr>\n",
              "  </tbody>\n",
              "</table>\n",
              "</div>"
            ],
            "text/plain": [
              "   sentiment                                            message  tweetid\n",
              "0          1  PolySciMajor EPA chief doesn't think carbon di...   625221\n",
              "1          1  It's not like we lack evidence of anthropogeni...   126103\n",
              "2          2  RT @RawStory: Researchers say we have three ye...   698562\n",
              "3          1  #TodayinMaker# WIRED : 2016 was a pivotal year...   573736\n",
              "4          1  RT @SoyNovioDeTodas: It's 2016, and a racist, ...   466954"
            ]
          },
          "execution_count": 150,
          "metadata": {},
          "output_type": "execute_result"
        }
      ]
    },
    {
      "cell_type": "code",
      "metadata": {
        "id": "b9935ae3"
      },
      "source": [
        "df = df[:10546]"
      ],
      "id": "b9935ae3",
      "execution_count": null,
      "outputs": []
    },
    {
      "cell_type": "code",
      "metadata": {
        "id": "173b9128",
        "outputId": "66e382c4-daf7-4ff2-fb67-900679c5a02d"
      },
      "source": [
        "plt.hist(df['sentiment'])"
      ],
      "id": "173b9128",
      "execution_count": null,
      "outputs": [
        {
          "data": {
            "text/plain": [
              "(array([ 865.,    0.,    0., 1587.,    0.,    0., 5636.,    0.,    0.,\n",
              "        2458.]),\n",
              " array([-1. , -0.7, -0.4, -0.1,  0.2,  0.5,  0.8,  1.1,  1.4,  1.7,  2. ]),\n",
              " <BarContainer object of 10 artists>)"
            ]
          },
          "execution_count": 90,
          "metadata": {},
          "output_type": "execute_result"
        },
        {
          "data": {
            "image/png": "[encoded data removed]",
            "text/plain": [
              "<Figure size 640x480 with 1 Axes>"
            ]
          },
          "metadata": {},
          "output_type": "display_data"
        }
      ]
    },
    {
      "cell_type": "code",
      "metadata": {
        "id": "a12aacc1"
      },
      "source": [
        "y=df.sentiment\n",
        "X_train, X_test, y_train, y_test = train_test_split(df['message'], y, test_size=0.2, random_state=42)"
      ],
      "id": "a12aacc1",
      "execution_count": null,
      "outputs": []
    },
    {
      "cell_type": "markdown",
      "metadata": {
        "id": "f5877002"
      },
      "source": [
        "# Pre-Processing using vectors"
      ],
      "id": "f5877002"
    },
    {
      "cell_type": "markdown",
      "metadata": {
        "id": "5292ff13"
      },
      "source": [
        "Count Vectorizer"
      ],
      "id": "5292ff13"
    },
    {
      "cell_type": "code",
      "metadata": {
        "id": "18abe2bf"
      },
      "source": [
        "count_vectorizer = CountVectorizer(stop_words = 'english')\n",
        "count_train = count_vectorizer.fit_transform(X_train.values)\n",
        "count_test = count_vectorizer.transform(X_test.values)"
      ],
      "id": "18abe2bf",
      "execution_count": null,
      "outputs": []
    },
    {
      "cell_type": "markdown",
      "metadata": {
        "id": "d82923c8"
      },
      "source": [
        "TF-IDF "
      ],
      "id": "d82923c8"
    },
    {
      "cell_type": "code",
      "metadata": {
        "id": "a4eaf286"
      },
      "source": [
        "tfidf_vectorizer = TfidfVectorizer(stop_words = 'english', max_df = 0.7)"
      ],
      "id": "a4eaf286",
      "execution_count": null,
      "outputs": []
    },
    {
      "cell_type": "code",
      "metadata": {
        "id": "da6cdd7e"
      },
      "source": [
        "tfidf_train = tfidf_vectorizer.fit_transform(X_train.values)\n",
        "tfidf_test = tfidf_vectorizer.transform(X_test.values)"
      ],
      "id": "da6cdd7e",
      "execution_count": null,
      "outputs": []
    },
    {
      "cell_type": "markdown",
      "metadata": {
        "id": "f0279c24"
      },
      "source": [
        "Harshing Vectorizer"
      ],
      "id": "f0279c24"
    },
    {
      "cell_type": "code",
      "metadata": {
        "id": "e2cdf44c"
      },
      "source": [
        "hvectorizer = HashingVectorizer(n_features = 2, stop_words = 'english')\n",
        "hvectorizer_train = hvectorizer.fit_transform(X_train.values)\n",
        "hvectorizer_test = hvectorizer.transform(X_test.values)"
      ],
      "id": "e2cdf44c",
      "execution_count": null,
      "outputs": []
    },
    {
      "cell_type": "markdown",
      "metadata": {
        "id": "f8719b6d"
      },
      "source": [
        "## Models"
      ],
      "id": "f8719b6d"
    },
    {
      "cell_type": "markdown",
      "metadata": {
        "id": "e27a5a9d"
      },
      "source": [
        "NB Classifier"
      ],
      "id": "e27a5a9d"
    },
    {
      "cell_type": "code",
      "metadata": {
        "id": "f61c0db9"
      },
      "source": [
        "nb_classifier = MultinomialNB()"
      ],
      "id": "f61c0db9",
      "execution_count": null,
      "outputs": []
    },
    {
      "cell_type": "code",
      "metadata": {
        "id": "f9f8b62f"
      },
      "source": [
        "#Train and fit the CountVectorizer\n",
        "\n",
        "nb_classifier.fit(count_train, y_train)\n",
        "pred_cv_nbc = nb_classifier.predict(count_test)"
      ],
      "id": "f9f8b62f",
      "execution_count": null,
      "outputs": []
    },
    {
      "cell_type": "code",
      "metadata": {
        "id": "1a9a4254"
      },
      "source": [
        "#Train and fit the tfidf-Vectorizer\n",
        "\n",
        "nb_classifier.fit(tfidf_train, y_train)\n",
        "pred_tfidf_nbc = nb_classifier.predict(tfidf_test)"
      ],
      "id": "1a9a4254",
      "execution_count": null,
      "outputs": []
    },
    {
      "cell_type": "markdown",
      "metadata": {
        "id": "c5a625cb"
      },
      "source": [
        "Support Vector Classification"
      ],
      "id": "c5a625cb"
    },
    {
      "cell_type": "code",
      "metadata": {
        "id": "d77f089a"
      },
      "source": [
        "svc = SVC(kernel='linear', C=10.0, random_state=1)"
      ],
      "id": "d77f089a",
      "execution_count": null,
      "outputs": []
    },
    {
      "cell_type": "code",
      "metadata": {
        "id": "d2b316a7"
      },
      "source": [
        "#Train and fit the CountVectorizer\n",
        "\n",
        "svc.fit(count_train, y_train)\n",
        "pred_cv_svc = svc.predict(count_test)"
      ],
      "id": "d2b316a7",
      "execution_count": null,
      "outputs": []
    },
    {
      "cell_type": "code",
      "metadata": {
        "id": "99f0a05e"
      },
      "source": [
        "#Train and fit the tfidf-Vectorizer\n",
        "\n",
        "svc.fit(tfidf_train, y_train)\n",
        "pred_tfidf_svc = svc.predict(tfidf_test)"
      ],
      "id": "99f0a05e",
      "execution_count": null,
      "outputs": []
    },
    {
      "cell_type": "markdown",
      "metadata": {
        "id": "26cda899"
      },
      "source": [
        "KNN Classifier"
      ],
      "id": "26cda899"
    },
    {
      "cell_type": "code",
      "metadata": {
        "id": "5ae15f3a"
      },
      "source": [
        "knn = KNeighborsClassifier(n_neighbors = 5, metric = 'minkowski', p = 2)"
      ],
      "id": "5ae15f3a",
      "execution_count": null,
      "outputs": []
    },
    {
      "cell_type": "code",
      "metadata": {
        "id": "562d8178"
      },
      "source": [
        "#Train and fit the CountVectorizer\n",
        "\n",
        "knn.fit(count_train, y_train)\n",
        "pred_cv_knn = knn.predict(count_test)"
      ],
      "id": "562d8178",
      "execution_count": null,
      "outputs": []
    },
    {
      "cell_type": "code",
      "metadata": {
        "id": "e04151ac"
      },
      "source": [
        "#Train and fit the tfidf-Vectorizer\n",
        "\n",
        "knn.fit(tfidf_train, y_train)\n",
        "pred_tfidf_knn = knn.predict(tfidf_test)"
      ],
      "id": "e04151ac",
      "execution_count": null,
      "outputs": []
    },
    {
      "cell_type": "markdown",
      "metadata": {
        "id": "4ffa3ab3"
      },
      "source": [
        "## Model Performance"
      ],
      "id": "4ffa3ab3"
    },
    {
      "cell_type": "code",
      "metadata": {
        "id": "b337b9e3"
      },
      "source": [
        "score_tfidf_nbc = metrics.accuracy_score(y_test ,pred_tfidf_nbc)\n",
        "score_tfidf_svc = metrics.accuracy_score(y_test ,pred_tfidf_svc)\n",
        "score_tfidf_knn = metrics.accuracy_score(y_test ,pred_tfidf_knn)\n"
      ],
      "id": "b337b9e3",
      "execution_count": null,
      "outputs": []
    },
    {
      "cell_type": "code",
      "metadata": {
        "id": "b2a05246"
      },
      "source": [
        "score_tfidf_df = pd.DataFrame({'N-B Classifer': [score_cv_nbc, score_tfidf_nbc],\n",
        "                              'SV Classifer': [score_cv_svc, score_tfidf_svc],\n",
        "                              'KNN Classifer': [score_cv_knn, score_tfidf_knn]},index = ['CountVectorizer','tfidf-Vectorizer'])"
      ],
      "id": "b2a05246",
      "execution_count": null,
      "outputs": []
    },
    {
      "cell_type": "code",
      "metadata": {
        "id": "28ba40c2",
        "outputId": "653233f4-4188-49ab-88bd-008b34e8260a"
      },
      "source": [
        "score_tfidf_df"
      ],
      "id": "28ba40c2",
      "execution_count": null,
      "outputs": [
        {
          "data": {
            "text/html": [
              "<div>\n",
              "<style scoped>\n",
              "    .dataframe tbody tr th:only-of-type {\n",
              "        vertical-align: middle;\n",
              "    }\n",
              "\n",
              "    .dataframe tbody tr th {\n",
              "        vertical-align: top;\n",
              "    }\n",
              "\n",
              "    .dataframe thead th {\n",
              "        text-align: right;\n",
              "    }\n",
              "</style>\n",
              "<table border=\"1\" class=\"dataframe\">\n",
              "  <thead>\n",
              "    <tr style=\"text-align: right;\">\n",
              "      <th></th>\n",
              "      <th>N-B Classifer</th>\n",
              "      <th>SV Classifer</th>\n",
              "      <th>KNN Classifer</th>\n",
              "    </tr>\n",
              "  </thead>\n",
              "  <tbody>\n",
              "    <tr>\n",
              "      <th>CountVectorizer</th>\n",
              "      <td>0.685782</td>\n",
              "      <td>0.698578</td>\n",
              "      <td>0.425118</td>\n",
              "    </tr>\n",
              "    <tr>\n",
              "      <th>tfidf-Vectorizer</th>\n",
              "      <td>0.616588</td>\n",
              "      <td>0.702370</td>\n",
              "      <td>0.645498</td>\n",
              "    </tr>\n",
              "  </tbody>\n",
              "</table>\n",
              "</div>"
            ],
            "text/plain": [
              "                  N-B Classifer  SV Classifer  KNN Classifer\n",
              "CountVectorizer        0.685782      0.698578       0.425118\n",
              "tfidf-Vectorizer       0.616588      0.702370       0.645498"
            ]
          },
          "execution_count": 139,
          "metadata": {},
          "output_type": "execute_result"
        }
      ]
    },
    {
      "cell_type": "code",
      "metadata": {
        "id": "5c817f5d"
      },
      "source": [
        "score_cv_nbc = metrics.accuracy_score(y_test ,pred_cv_nbc)\n",
        "score_cv_svc = metrics.accuracy_score(y_test ,pred_cv_svc)\n",
        "score_cv_knn = metrics.accuracy_score(y_test ,pred_cv_knn)"
      ],
      "id": "5c817f5d",
      "execution_count": null,
      "outputs": []
    },
    {
      "cell_type": "code",
      "metadata": {
        "id": "639bb975"
      },
      "source": [
        "f1_score_cv_nbc = f1_score(y_test, pred_cv_nbc, average='macro')\n",
        "f1_score_cv_svc = f1_score(y_test, pred_cv_svc, average='macro')\n",
        "f1_score_cv_knn = f1_score(y_test, pred_cv_knn, average='macro')\n",
        "\n",
        "f1_score_tfidf_nbc = f1_score(y_test, pred_tfidf_nbc, average='macro')\n",
        "f1_score_tfidf_svc = f1_score(y_test, pred_tfidf_svc, average='macro')\n",
        "f1_score_tfidf_knn = f1_score(y_test, pred_tfidf_knn, average='macro')"
      ],
      "id": "639bb975",
      "execution_count": null,
      "outputs": []
    },
    {
      "cell_type": "code",
      "metadata": {
        "id": "0545bbd6",
        "outputId": "81ae3c93-918c-41fe-de65-efc460db7ebe"
      },
      "source": [
        "f1_score_df = pd.DataFrame({'N-B Classifer': [f1_score_cv_nbc, f1_score_tfidf_nbc],\n",
        "                              'SV Classifer': [f1_score_cv_svc, f1_score_tfidf_svc],\n",
        "                              'KNN Classifer': [f1_score_cv_knn, f1_score_tfidf_knn]},index = ['CountVectorizer','tfidf-Vectorizer'])\n",
        "f1_score_df"
      ],
      "id": "0545bbd6",
      "execution_count": null,
      "outputs": [
        {
          "data": {
            "text/html": [
              "<div>\n",
              "<style scoped>\n",
              "    .dataframe tbody tr th:only-of-type {\n",
              "        vertical-align: middle;\n",
              "    }\n",
              "\n",
              "    .dataframe tbody tr th {\n",
              "        vertical-align: top;\n",
              "    }\n",
              "\n",
              "    .dataframe thead th {\n",
              "        text-align: right;\n",
              "    }\n",
              "</style>\n",
              "<table border=\"1\" class=\"dataframe\">\n",
              "  <thead>\n",
              "    <tr style=\"text-align: right;\">\n",
              "      <th></th>\n",
              "      <th>N-B Classifer</th>\n",
              "      <th>SV Classifer</th>\n",
              "      <th>KNN Classifer</th>\n",
              "    </tr>\n",
              "  </thead>\n",
              "  <tbody>\n",
              "    <tr>\n",
              "      <th>CountVectorizer</th>\n",
              "      <td>0.499704</td>\n",
              "      <td>0.629632</td>\n",
              "      <td>0.341883</td>\n",
              "    </tr>\n",
              "    <tr>\n",
              "      <th>tfidf-Vectorizer</th>\n",
              "      <td>0.333225</td>\n",
              "      <td>0.626084</td>\n",
              "      <td>0.558299</td>\n",
              "    </tr>\n",
              "  </tbody>\n",
              "</table>\n",
              "</div>"
            ],
            "text/plain": [
              "                  N-B Classifer  SV Classifer  KNN Classifer\n",
              "CountVectorizer        0.499704      0.629632       0.341883\n",
              "tfidf-Vectorizer       0.333225      0.626084       0.558299"
            ]
          },
          "execution_count": 141,
          "metadata": {},
          "output_type": "execute_result"
        }
      ]
    },
    {
      "cell_type": "markdown",
      "metadata": {
        "id": "7ab82769"
      },
      "source": [
        "From the table above we can see that the SVC classifier that uses the CountVectorizer, is the obvious choice with the highest f1 score........."
      ],
      "id": "7ab82769"
    },
    {
      "cell_type": "code",
      "metadata": {
        "id": "5c273676",
        "outputId": "3df3fa8a-54cf-4585-c249-237917989607"
      },
      "source": [
        "\n",
        "conf_matrix = metrics.confusion_matrix(y_true = y_test, y_pred = pred_cv_svc)\n",
        "conf_matrix"
      ],
      "id": "5c273676",
      "execution_count": null,
      "outputs": [
        {
          "data": {
            "text/plain": [
              "array([[ 80,  26,  49,   5],\n",
              "       [ 25, 165, 107,  19],\n",
              "       [ 32, 131, 877,  97],\n",
              "       [  7,  24, 114, 352]], dtype=int64)"
            ]
          },
          "execution_count": 142,
          "metadata": {},
          "output_type": "execute_result"
        }
      ]
    },
    {
      "cell_type": "code",
      "metadata": {
        "id": "77e73f40",
        "outputId": "9bfa690f-c6e5-440e-977d-50a009b5ff98"
      },
      "source": [
        "fig, ax = plt.subplots(figsize=(5, 5))\n",
        "ax.matshow(conf_matrix, cmap=plt.cm.seismic, alpha=0.3)\n",
        "for i in range(conf_matrix.shape[0]):\n",
        "    for j in range(conf_matrix.shape[1]):\n",
        "        ax.text(x=j, y=i,s=conf_matrix[i, j], va='center', ha='center', size='xx-large')\n",
        " \n",
        "plt.xlabel('Predictions', fontsize=18)\n",
        "plt.ylabel('Actuals', fontsize=18)\n",
        "plt.title('Confusion Matrix', fontsize=18)\n",
        "plt.show()"
      ],
      "id": "77e73f40",
      "execution_count": null,
      "outputs": [
        {
          "data": {
            "image/png": "[encoded data removed]",
            "text/plain": [
              "<Figure size 400x400 with 1 Axes>"
            ]
          },
          "metadata": {},
          "output_type": "display_data"
        }
      ]
    },
    {
      "cell_type": "code",
      "metadata": {
        "id": "ceb4929b",
        "outputId": "70a01d79-2486-41c3-b320-7d97396e46d5"
      },
      "source": [
        "#Histogram showing how the predicted seniments corresponds to the true values, \n",
        "\n",
        "plt.hist(y_test, color = 'black')\n",
        "plt.hist(pred_cv_svc, color = 'white')\n",
        "#plot formatting\n",
        "\n",
        "plt.axes()\n",
        "plt.axes().set_facecolor('yellow')\n",
        "plt.xlabel('Predictions')\n",
        "plt.ylabel('Actuals')\n",
        "plt.title('Actual vs Prediction')\n",
        "plt.legend()\n",
        "plt.show()"
      ],
      "id": "ceb4929b",
      "execution_count": null,
      "outputs": [
        {
          "name": "stderr",
          "output_type": "stream",
          "text": [
            "<ipython-input-144-d2893963cb79>:5: MatplotlibDeprecationWarning: Adding an axes using the same arguments as a previous axes currently reuses the earlier instance.  In a future version, a new instance will always be created and returned.  Meanwhile, this warning can be suppressed, and the future behavior ensured, by passing a unique label to each axes instance.\n",
            "  plt.axes()\n",
            "<ipython-input-144-d2893963cb79>:6: MatplotlibDeprecationWarning: Adding an axes using the same arguments as a previous axes currently reuses the earlier instance.  In a future version, a new instance will always be created and returned.  Meanwhile, this warning can be suppressed, and the future behavior ensured, by passing a unique label to each axes instance.\n",
            "  plt.axes().set_facecolor('yellow')\n",
            "No handles with labels found to put in legend.\n"
          ]
        },
        {
          "data": {
            "image/png": "[encoded data removed]",
            "text/plain": [
              "<Figure size 640x480 with 1 Axes>"
            ]
          },
          "metadata": {},
          "output_type": "display_data"
        }
      ]
    },
    {
      "cell_type": "markdown",
      "metadata": {
        "id": "50f8d2dd"
      },
      "source": [
        "## Submission"
      ],
      "id": "50f8d2dd"
    },
    {
      "cell_type": "code",
      "metadata": {
        "id": "f7d4e4cb",
        "outputId": "79b18521-17fb-49c7-cd23-51e65aa6a34b"
      },
      "source": [
        "df_test = pd.read_csv('https://raw.githubusercontent.com/MfundoMhlanga/classification-predict-streamlit-template/master/test_with_no_labels.csv')\n",
        "df_test"
      ],
      "id": "f7d4e4cb",
      "execution_count": null,
      "outputs": [
        {
          "data": {
            "text/html": [
              "<div>\n",
              "<style scoped>\n",
              "    .dataframe tbody tr th:only-of-type {\n",
              "        vertical-align: middle;\n",
              "    }\n",
              "\n",
              "    .dataframe tbody tr th {\n",
              "        vertical-align: top;\n",
              "    }\n",
              "\n",
              "    .dataframe thead th {\n",
              "        text-align: right;\n",
              "    }\n",
              "</style>\n",
              "<table border=\"1\" class=\"dataframe\">\n",
              "  <thead>\n",
              "    <tr style=\"text-align: right;\">\n",
              "      <th></th>\n",
              "      <th>message</th>\n",
              "      <th>tweetid</th>\n",
              "    </tr>\n",
              "  </thead>\n",
              "  <tbody>\n",
              "    <tr>\n",
              "      <th>0</th>\n",
              "      <td>Europe will now be looking to China to make su...</td>\n",
              "      <td>169760</td>\n",
              "    </tr>\n",
              "    <tr>\n",
              "      <th>1</th>\n",
              "      <td>Combine this with the polling of staffers re c...</td>\n",
              "      <td>35326</td>\n",
              "    </tr>\n",
              "    <tr>\n",
              "      <th>2</th>\n",
              "      <td>The scary, unimpeachable evidence that climate...</td>\n",
              "      <td>224985</td>\n",
              "    </tr>\n",
              "    <tr>\n",
              "      <th>3</th>\n",
              "      <td>@Karoli @morgfair @OsborneInk @dailykos \\nPuti...</td>\n",
              "      <td>476263</td>\n",
              "    </tr>\n",
              "    <tr>\n",
              "      <th>4</th>\n",
              "      <td>RT @FakeWillMoore: 'Female orgasms cause globa...</td>\n",
              "      <td>872928</td>\n",
              "    </tr>\n",
              "    <tr>\n",
              "      <th>...</th>\n",
              "      <td>...</td>\n",
              "      <td>...</td>\n",
              "    </tr>\n",
              "    <tr>\n",
              "      <th>10541</th>\n",
              "      <td>RT @BrittanyBohrer: Brb, writing a poem about ...</td>\n",
              "      <td>895714</td>\n",
              "    </tr>\n",
              "    <tr>\n",
              "      <th>10542</th>\n",
              "      <td>2016: the year climate change came home: Durin...</td>\n",
              "      <td>875167</td>\n",
              "    </tr>\n",
              "    <tr>\n",
              "      <th>10543</th>\n",
              "      <td>RT @loop_vanuatu: Pacific countries positive a...</td>\n",
              "      <td>78329</td>\n",
              "    </tr>\n",
              "    <tr>\n",
              "      <th>10544</th>\n",
              "      <td>RT @xanria_00018: You’re so hot, you must be t...</td>\n",
              "      <td>867455</td>\n",
              "    </tr>\n",
              "    <tr>\n",
              "      <th>10545</th>\n",
              "      <td>RT @chloebalaoing: climate change is a global ...</td>\n",
              "      <td>470892</td>\n",
              "    </tr>\n",
              "  </tbody>\n",
              "</table>\n",
              "<p>10546 rows × 2 columns</p>\n",
              "</div>"
            ],
            "text/plain": [
              "                                                 message  tweetid\n",
              "0      Europe will now be looking to China to make su...   169760\n",
              "1      Combine this with the polling of staffers re c...    35326\n",
              "2      The scary, unimpeachable evidence that climate...   224985\n",
              "3      @Karoli @morgfair @OsborneInk @dailykos \\nPuti...   476263\n",
              "4      RT @FakeWillMoore: 'Female orgasms cause globa...   872928\n",
              "...                                                  ...      ...\n",
              "10541  RT @BrittanyBohrer: Brb, writing a poem about ...   895714\n",
              "10542  2016: the year climate change came home: Durin...   875167\n",
              "10543  RT @loop_vanuatu: Pacific countries positive a...    78329\n",
              "10544  RT @xanria_00018: You’re so hot, you must be t...   867455\n",
              "10545  RT @chloebalaoing: climate change is a global ...   470892\n",
              "\n",
              "[10546 rows x 2 columns]"
            ]
          },
          "execution_count": 149,
          "metadata": {},
          "output_type": "execute_result"
        }
      ]
    },
    {
      "cell_type": "code",
      "metadata": {
        "id": "1ddc2688"
      },
      "source": [
        "tfidf_df_test = tfidf_vectorizer.fit_transform(df_test['message'].values)"
      ],
      "id": "1ddc2688",
      "execution_count": null,
      "outputs": []
    },
    {
      "cell_type": "code",
      "metadata": {
        "id": "acfdf860",
        "outputId": "324d28be-f6a1-44dc-eb32-262be8fc0354"
      },
      "source": [
        "predicted_sentiment = svc.predict(tfidf_df_test)"
      ],
      "id": "acfdf860",
      "execution_count": null,
      "outputs": [
        {
          "ename": "ValueError",
          "evalue": "X.shape[1] = 23873 should be equal to 20179, the number of features at training time",
          "output_type": "error",
          "traceback": [
            "\u001b[1;31m---------------------------------------------------------------------------\u001b[0m",
            "\u001b[1;31mValueError\u001b[0m                                Traceback (most recent call last)",
            "\u001b[1;32m<ipython-input-148-8f500e621e5b>\u001b[0m in \u001b[0;36m<module>\u001b[1;34m\u001b[0m\n\u001b[1;32m----> 1\u001b[1;33m \u001b[0mpredicted_sentiment\u001b[0m \u001b[1;33m=\u001b[0m \u001b[0msvc\u001b[0m\u001b[1;33m.\u001b[0m\u001b[0mpredict\u001b[0m\u001b[1;33m(\u001b[0m\u001b[0mtfidf_df_test\u001b[0m\u001b[1;33m)\u001b[0m\u001b[1;33m\u001b[0m\u001b[1;33m\u001b[0m\u001b[0m\n\u001b[0m",
            "\u001b[1;32m~\\anaconda3\\lib\\site-packages\\sklearn\\svm\\_base.py\u001b[0m in \u001b[0;36mpredict\u001b[1;34m(self, X)\u001b[0m\n\u001b[0;32m    622\u001b[0m             \u001b[0my\u001b[0m \u001b[1;33m=\u001b[0m \u001b[0mnp\u001b[0m\u001b[1;33m.\u001b[0m\u001b[0margmax\u001b[0m\u001b[1;33m(\u001b[0m\u001b[0mself\u001b[0m\u001b[1;33m.\u001b[0m\u001b[0mdecision_function\u001b[0m\u001b[1;33m(\u001b[0m\u001b[0mX\u001b[0m\u001b[1;33m)\u001b[0m\u001b[1;33m,\u001b[0m \u001b[0maxis\u001b[0m\u001b[1;33m=\u001b[0m\u001b[1;36m1\u001b[0m\u001b[1;33m)\u001b[0m\u001b[1;33m\u001b[0m\u001b[1;33m\u001b[0m\u001b[0m\n\u001b[0;32m    623\u001b[0m         \u001b[1;32melse\u001b[0m\u001b[1;33m:\u001b[0m\u001b[1;33m\u001b[0m\u001b[1;33m\u001b[0m\u001b[0m\n\u001b[1;32m--> 624\u001b[1;33m             \u001b[0my\u001b[0m \u001b[1;33m=\u001b[0m \u001b[0msuper\u001b[0m\u001b[1;33m(\u001b[0m\u001b[1;33m)\u001b[0m\u001b[1;33m.\u001b[0m\u001b[0mpredict\u001b[0m\u001b[1;33m(\u001b[0m\u001b[0mX\u001b[0m\u001b[1;33m)\u001b[0m\u001b[1;33m\u001b[0m\u001b[1;33m\u001b[0m\u001b[0m\n\u001b[0m\u001b[0;32m    625\u001b[0m         \u001b[1;32mreturn\u001b[0m \u001b[0mself\u001b[0m\u001b[1;33m.\u001b[0m\u001b[0mclasses_\u001b[0m\u001b[1;33m.\u001b[0m\u001b[0mtake\u001b[0m\u001b[1;33m(\u001b[0m\u001b[0mnp\u001b[0m\u001b[1;33m.\u001b[0m\u001b[0masarray\u001b[0m\u001b[1;33m(\u001b[0m\u001b[0my\u001b[0m\u001b[1;33m,\u001b[0m \u001b[0mdtype\u001b[0m\u001b[1;33m=\u001b[0m\u001b[0mnp\u001b[0m\u001b[1;33m.\u001b[0m\u001b[0mintp\u001b[0m\u001b[1;33m)\u001b[0m\u001b[1;33m)\u001b[0m\u001b[1;33m\u001b[0m\u001b[1;33m\u001b[0m\u001b[0m\n\u001b[0;32m    626\u001b[0m \u001b[1;33m\u001b[0m\u001b[0m\n",
            "\u001b[1;32m~\\anaconda3\\lib\\site-packages\\sklearn\\svm\\_base.py\u001b[0m in \u001b[0;36mpredict\u001b[1;34m(self, X)\u001b[0m\n\u001b[0;32m    340\u001b[0m         \u001b[0my_pred\u001b[0m \u001b[1;33m:\u001b[0m \u001b[0mndarray\u001b[0m \u001b[0mof\u001b[0m \u001b[0mshape\u001b[0m \u001b[1;33m(\u001b[0m\u001b[0mn_samples\u001b[0m\u001b[1;33m,\u001b[0m\u001b[1;33m)\u001b[0m\u001b[1;33m\u001b[0m\u001b[1;33m\u001b[0m\u001b[0m\n\u001b[0;32m    341\u001b[0m         \"\"\"\n\u001b[1;32m--> 342\u001b[1;33m         \u001b[0mX\u001b[0m \u001b[1;33m=\u001b[0m \u001b[0mself\u001b[0m\u001b[1;33m.\u001b[0m\u001b[0m_validate_for_predict\u001b[0m\u001b[1;33m(\u001b[0m\u001b[0mX\u001b[0m\u001b[1;33m)\u001b[0m\u001b[1;33m\u001b[0m\u001b[1;33m\u001b[0m\u001b[0m\n\u001b[0m\u001b[0;32m    343\u001b[0m         \u001b[0mpredict\u001b[0m \u001b[1;33m=\u001b[0m \u001b[0mself\u001b[0m\u001b[1;33m.\u001b[0m\u001b[0m_sparse_predict\u001b[0m \u001b[1;32mif\u001b[0m \u001b[0mself\u001b[0m\u001b[1;33m.\u001b[0m\u001b[0m_sparse\u001b[0m \u001b[1;32melse\u001b[0m \u001b[0mself\u001b[0m\u001b[1;33m.\u001b[0m\u001b[0m_dense_predict\u001b[0m\u001b[1;33m\u001b[0m\u001b[1;33m\u001b[0m\u001b[0m\n\u001b[0;32m    344\u001b[0m         \u001b[1;32mreturn\u001b[0m \u001b[0mpredict\u001b[0m\u001b[1;33m(\u001b[0m\u001b[0mX\u001b[0m\u001b[1;33m)\u001b[0m\u001b[1;33m\u001b[0m\u001b[1;33m\u001b[0m\u001b[0m\n",
            "\u001b[1;32m~\\anaconda3\\lib\\site-packages\\sklearn\\svm\\_base.py\u001b[0m in \u001b[0;36m_validate_for_predict\u001b[1;34m(self, X)\u001b[0m\n\u001b[0;32m    491\u001b[0m                                  (X.shape[1], self.shape_fit_[0]))\n\u001b[0;32m    492\u001b[0m         \u001b[1;32melif\u001b[0m \u001b[1;32mnot\u001b[0m \u001b[0mcallable\u001b[0m\u001b[1;33m(\u001b[0m\u001b[0mself\u001b[0m\u001b[1;33m.\u001b[0m\u001b[0mkernel\u001b[0m\u001b[1;33m)\u001b[0m \u001b[1;32mand\u001b[0m \u001b[0mX\u001b[0m\u001b[1;33m.\u001b[0m\u001b[0mshape\u001b[0m\u001b[1;33m[\u001b[0m\u001b[1;36m1\u001b[0m\u001b[1;33m]\u001b[0m \u001b[1;33m!=\u001b[0m \u001b[0mself\u001b[0m\u001b[1;33m.\u001b[0m\u001b[0mshape_fit_\u001b[0m\u001b[1;33m[\u001b[0m\u001b[1;36m1\u001b[0m\u001b[1;33m]\u001b[0m\u001b[1;33m:\u001b[0m\u001b[1;33m\u001b[0m\u001b[1;33m\u001b[0m\u001b[0m\n\u001b[1;32m--> 493\u001b[1;33m             raise ValueError(\"X.shape[1] = %d should be equal to %d, \"\n\u001b[0m\u001b[0;32m    494\u001b[0m                              \u001b[1;34m\"the number of features at training time\"\u001b[0m \u001b[1;33m%\u001b[0m\u001b[1;33m\u001b[0m\u001b[1;33m\u001b[0m\u001b[0m\n\u001b[0;32m    495\u001b[0m                              (X.shape[1], self.shape_fit_[1]))\n",
            "\u001b[1;31mValueError\u001b[0m: X.shape[1] = 23873 should be equal to 20179, the number of features at training time"
          ]
        }
      ]
    },
    {
      "cell_type": "code",
      "metadata": {
        "id": "cf622329"
      },
      "source": [
        ""
      ],
      "id": "cf622329",
      "execution_count": null,
      "outputs": []
    },
    {
      "cell_type": "code",
      "metadata": {
        "id": "996c07bc"
      },
      "source": [
        ""
      ],
      "id": "996c07bc",
      "execution_count": null,
      "outputs": []
    }
  ]
}