{
  "nbformat": 4,
  "nbformat_minor": 5,
  "metadata": {
    "kernelspec": {
      "display_name": "Python 3",
      "language": "python",
      "name": "python3"
    },
    "language_info": {
      "codemirror_mode": {
        "name": "ipython",
        "version": 3
      },
      "file_extension": ".py",
      "mimetype": "text/x-python",
      "name": "python",
      "nbconvert_exporter": "python",
      "pygments_lexer": "ipython3",
      "version": "3.8.8"
    },
    "colab": {
      "name": "Classification Predict Final.ipynb",
      "provenance": [],
      "include_colab_link": true
    }
  },
  "cells": [
    {
      "cell_type": "markdown",
      "metadata": {
        "id": "view-in-github",
        "colab_type": "text"
      },
      "source": [
        "<a href=\"https://colab.research.google.com/github/MfundoMhlanga/classification-predict-streamlit-template/blob/master/Classification_Predict_Final.ipynb\" target=\"_parent\"><img src=\"https://colab.research.google.com/assets/colab-badge.svg\" alt=\"Open In Colab\"/></a>"
      ]
    },
    {
      "cell_type": "markdown",
      "metadata": {
        "id": "uBPJ9hI1oPa3"
      },
      "source": [
        "#**<font color='red'>Climate Change Belief Analysis</font>**\n",
        "\n",
        "© Explore Data Science Academy\n",
        "\n",
        "Team 13\n",
        "##**<font color='green'>Introduction: Climate Change Belief</font>**\n",
        "\n",
        "<p align=\"justify\" > Many companies are built around lessening one’s environmental impact or carbon\n",
        "footprint. They offer products and services that are environmentally friendly  and sustainable, in line with their values and ideals. They would like to determine how people perceive climate change and whether or not they believe it is a real threat.\n",
        "This would add to their market research efforts in gauging how their product/service may be received.\n",
        "\n",
        "##**<font color='cyan'>Problem Statement:</font>**\n",
        "\n",
        "\n",
        "\n",
        "##**<font color='purple'>Task: Classification based on Tweets</font>**\n",
        "<p align=\"justify\" > To create a Machine Learning model that is able to classify whether or not a\n",
        "person believes in climate change, based on their novel tweet data.\n",
        "Hence, providing an accurate and robust solution to this task gives companies access to a broad base of consumer sentiment, spanning multiple demographic and\n",
        "geographic categories thus increasing their insights and informing future\n",
        "marketing strategies.\n",
        "\n",
        "<div align=\"center\" style=\"width: 800px; font-size: 100%; text-align: center; margin: 0 auto\">\n",
        "<img src=\"https://raw.githubusercontent.com/MfundoMhlanga/classification-predict-streamlit-template/master/Screenshot%20(480).png\"\n",
        "\n",
        "     alt=\"Climate Change\"\n",
        "     style=\"float: center; padding-bottom=0.5em\"\n",
        "     width=600px/>\n",
        "Climate Change  Photo by <a href=\"https://explore-datascience.net\"> explore-datascience.net </a> \n",
        "</div>\n"
      ],
      "id": "uBPJ9hI1oPa3"
    },
    {
      "cell_type": "markdown",
      "metadata": {
        "id": "xNg4G34So5B6"
      },
      "source": [
        "# Importing Packages\n",
        "\n",
        "In this section we are importing all the relavant packages which will be used for analysis and modeling."
      ],
      "id": "xNg4G34So5B6"
    },
    {
      "cell_type": "code",
      "metadata": {
        "id": "GHtZ75xBD7e_",
        "colab": {
          "base_uri": "https://localhost:8080/"
        },
        "outputId": "c9a698b9-066a-4f00-8008-5ae232f02760"
      },
      "source": [
        "!!pip install nlppreprocess"
      ],
      "id": "GHtZ75xBD7e_",
      "execution_count": 34,
      "outputs": [
        {
          "output_type": "execute_result",
          "data": {
            "text/plain": [
              "['Requirement already satisfied: nlppreprocess in /usr/local/lib/python3.7/dist-packages (1.0.2)']"
            ]
          },
          "metadata": {},
          "execution_count": 34
        }
      ]
    },
    {
      "cell_type": "code",
      "metadata": {
        "id": "rpR60gDNFQy1",
        "colab": {
          "base_uri": "https://localhost:8080/"
        },
        "outputId": "b600317a-1880-4881-8864-ef83b89b5e35"
      },
      "source": [
        "import nltk\n",
        "nltk.download('all')"
      ],
      "id": "rpR60gDNFQy1",
      "execution_count": 35,
      "outputs": [
        {
          "output_type": "stream",
          "name": "stdout",
          "text": [
            "[nltk_data] Downloading collection 'all'\n",
            "[nltk_data]    | \n",
            "[nltk_data]    | Downloading package abc to /root/nltk_data...\n",
            "[nltk_data]    |   Package abc is already up-to-date!\n",
            "[nltk_data]    | Downloading package alpino to /root/nltk_data...\n",
            "[nltk_data]    |   Package alpino is already up-to-date!\n",
            "[nltk_data]    | Downloading package biocreative_ppi to\n",
            "[nltk_data]    |     /root/nltk_data...\n",
            "[nltk_data]    |   Package biocreative_ppi is already up-to-date!\n",
            "[nltk_data]    | Downloading package brown to /root/nltk_data...\n",
            "[nltk_data]    |   Package brown is already up-to-date!\n",
            "[nltk_data]    | Downloading package brown_tei to /root/nltk_data...\n",
            "[nltk_data]    |   Package brown_tei is already up-to-date!\n",
            "[nltk_data]    | Downloading package cess_cat to /root/nltk_data...\n",
            "[nltk_data]    |   Package cess_cat is already up-to-date!\n",
            "[nltk_data]    | Downloading package cess_esp to /root/nltk_data...\n",
            "[nltk_data]    |   Package cess_esp is already up-to-date!\n",
            "[nltk_data]    | Downloading package chat80 to /root/nltk_data...\n",
            "[nltk_data]    |   Package chat80 is already up-to-date!\n",
            "[nltk_data]    | Downloading package city_database to\n",
            "[nltk_data]    |     /root/nltk_data...\n",
            "[nltk_data]    |   Package city_database is already up-to-date!\n",
            "[nltk_data]    | Downloading package cmudict to /root/nltk_data...\n",
            "[nltk_data]    |   Package cmudict is already up-to-date!\n",
            "[nltk_data]    | Downloading package comparative_sentences to\n",
            "[nltk_data]    |     /root/nltk_data...\n",
            "[nltk_data]    |   Package comparative_sentences is already up-to-\n",
            "[nltk_data]    |       date!\n",
            "[nltk_data]    | Downloading package comtrans to /root/nltk_data...\n",
            "[nltk_data]    |   Package comtrans is already up-to-date!\n",
            "[nltk_data]    | Downloading package conll2000 to /root/nltk_data...\n",
            "[nltk_data]    |   Package conll2000 is already up-to-date!\n",
            "[nltk_data]    | Downloading package conll2002 to /root/nltk_data...\n",
            "[nltk_data]    |   Package conll2002 is already up-to-date!\n",
            "[nltk_data]    | Downloading package conll2007 to /root/nltk_data...\n",
            "[nltk_data]    |   Package conll2007 is already up-to-date!\n",
            "[nltk_data]    | Downloading package crubadan to /root/nltk_data...\n",
            "[nltk_data]    |   Package crubadan is already up-to-date!\n",
            "[nltk_data]    | Downloading package dependency_treebank to\n",
            "[nltk_data]    |     /root/nltk_data...\n",
            "[nltk_data]    |   Package dependency_treebank is already up-to-date!\n",
            "[nltk_data]    | Downloading package dolch to /root/nltk_data...\n",
            "[nltk_data]    |   Package dolch is already up-to-date!\n",
            "[nltk_data]    | Downloading package europarl_raw to\n",
            "[nltk_data]    |     /root/nltk_data...\n",
            "[nltk_data]    |   Package europarl_raw is already up-to-date!\n",
            "[nltk_data]    | Downloading package floresta to /root/nltk_data...\n",
            "[nltk_data]    |   Package floresta is already up-to-date!\n",
            "[nltk_data]    | Downloading package framenet_v15 to\n",
            "[nltk_data]    |     /root/nltk_data...\n",
            "[nltk_data]    |   Package framenet_v15 is already up-to-date!\n",
            "[nltk_data]    | Downloading package framenet_v17 to\n",
            "[nltk_data]    |     /root/nltk_data...\n",
            "[nltk_data]    |   Package framenet_v17 is already up-to-date!\n",
            "[nltk_data]    | Downloading package gazetteers to /root/nltk_data...\n",
            "[nltk_data]    |   Package gazetteers is already up-to-date!\n",
            "[nltk_data]    | Downloading package genesis to /root/nltk_data...\n",
            "[nltk_data]    |   Package genesis is already up-to-date!\n",
            "[nltk_data]    | Downloading package gutenberg to /root/nltk_data...\n",
            "[nltk_data]    |   Package gutenberg is already up-to-date!\n",
            "[nltk_data]    | Downloading package ieer to /root/nltk_data...\n",
            "[nltk_data]    |   Package ieer is already up-to-date!\n",
            "[nltk_data]    | Downloading package inaugural to /root/nltk_data...\n",
            "[nltk_data]    |   Package inaugural is already up-to-date!\n",
            "[nltk_data]    | Downloading package indian to /root/nltk_data...\n",
            "[nltk_data]    |   Package indian is already up-to-date!\n",
            "[nltk_data]    | Downloading package jeita to /root/nltk_data...\n",
            "[nltk_data]    |   Package jeita is already up-to-date!\n",
            "[nltk_data]    | Downloading package kimmo to /root/nltk_data...\n",
            "[nltk_data]    |   Package kimmo is already up-to-date!\n",
            "[nltk_data]    | Downloading package knbc to /root/nltk_data...\n",
            "[nltk_data]    |   Package knbc is already up-to-date!\n",
            "[nltk_data]    | Downloading package lin_thesaurus to\n",
            "[nltk_data]    |     /root/nltk_data...\n",
            "[nltk_data]    |   Package lin_thesaurus is already up-to-date!\n",
            "[nltk_data]    | Downloading package mac_morpho to /root/nltk_data...\n",
            "[nltk_data]    |   Package mac_morpho is already up-to-date!\n",
            "[nltk_data]    | Downloading package machado to /root/nltk_data...\n",
            "[nltk_data]    |   Package machado is already up-to-date!\n",
            "[nltk_data]    | Downloading package masc_tagged to /root/nltk_data...\n",
            "[nltk_data]    |   Package masc_tagged is already up-to-date!\n",
            "[nltk_data]    | Downloading package moses_sample to\n",
            "[nltk_data]    |     /root/nltk_data...\n",
            "[nltk_data]    |   Package moses_sample is already up-to-date!\n",
            "[nltk_data]    | Downloading package movie_reviews to\n",
            "[nltk_data]    |     /root/nltk_data...\n",
            "[nltk_data]    |   Package movie_reviews is already up-to-date!\n",
            "[nltk_data]    | Downloading package names to /root/nltk_data...\n",
            "[nltk_data]    |   Package names is already up-to-date!\n",
            "[nltk_data]    | Downloading package nombank.1.0 to /root/nltk_data...\n",
            "[nltk_data]    |   Package nombank.1.0 is already up-to-date!\n",
            "[nltk_data]    | Downloading package nps_chat to /root/nltk_data...\n",
            "[nltk_data]    |   Package nps_chat is already up-to-date!\n",
            "[nltk_data]    | Downloading package omw to /root/nltk_data...\n",
            "[nltk_data]    |   Package omw is already up-to-date!\n",
            "[nltk_data]    | Downloading package opinion_lexicon to\n",
            "[nltk_data]    |     /root/nltk_data...\n",
            "[nltk_data]    |   Package opinion_lexicon is already up-to-date!\n",
            "[nltk_data]    | Downloading package paradigms to /root/nltk_data...\n",
            "[nltk_data]    |   Package paradigms is already up-to-date!\n",
            "[nltk_data]    | Downloading package pil to /root/nltk_data...\n",
            "[nltk_data]    |   Package pil is already up-to-date!\n",
            "[nltk_data]    | Downloading package pl196x to /root/nltk_data...\n",
            "[nltk_data]    |   Package pl196x is already up-to-date!\n",
            "[nltk_data]    | Downloading package ppattach to /root/nltk_data...\n",
            "[nltk_data]    |   Package ppattach is already up-to-date!\n",
            "[nltk_data]    | Downloading package problem_reports to\n",
            "[nltk_data]    |     /root/nltk_data...\n",
            "[nltk_data]    |   Package problem_reports is already up-to-date!\n",
            "[nltk_data]    | Downloading package propbank to /root/nltk_data...\n",
            "[nltk_data]    |   Package propbank is already up-to-date!\n",
            "[nltk_data]    | Downloading package ptb to /root/nltk_data...\n",
            "[nltk_data]    |   Package ptb is already up-to-date!\n",
            "[nltk_data]    | Downloading package product_reviews_1 to\n",
            "[nltk_data]    |     /root/nltk_data...\n",
            "[nltk_data]    |   Package product_reviews_1 is already up-to-date!\n",
            "[nltk_data]    | Downloading package product_reviews_2 to\n",
            "[nltk_data]    |     /root/nltk_data...\n",
            "[nltk_data]    |   Package product_reviews_2 is already up-to-date!\n",
            "[nltk_data]    | Downloading package pros_cons to /root/nltk_data...\n",
            "[nltk_data]    |   Package pros_cons is already up-to-date!\n",
            "[nltk_data]    | Downloading package qc to /root/nltk_data...\n",
            "[nltk_data]    |   Package qc is already up-to-date!\n",
            "[nltk_data]    | Downloading package reuters to /root/nltk_data...\n",
            "[nltk_data]    |   Package reuters is already up-to-date!\n",
            "[nltk_data]    | Downloading package rte to /root/nltk_data...\n",
            "[nltk_data]    |   Package rte is already up-to-date!\n",
            "[nltk_data]    | Downloading package semcor to /root/nltk_data...\n",
            "[nltk_data]    |   Package semcor is already up-to-date!\n",
            "[nltk_data]    | Downloading package senseval to /root/nltk_data...\n",
            "[nltk_data]    |   Package senseval is already up-to-date!\n",
            "[nltk_data]    | Downloading package sentiwordnet to\n",
            "[nltk_data]    |     /root/nltk_data...\n",
            "[nltk_data]    |   Package sentiwordnet is already up-to-date!\n",
            "[nltk_data]    | Downloading package sentence_polarity to\n",
            "[nltk_data]    |     /root/nltk_data...\n",
            "[nltk_data]    |   Package sentence_polarity is already up-to-date!\n",
            "[nltk_data]    | Downloading package shakespeare to /root/nltk_data...\n",
            "[nltk_data]    |   Package shakespeare is already up-to-date!\n",
            "[nltk_data]    | Downloading package sinica_treebank to\n",
            "[nltk_data]    |     /root/nltk_data...\n",
            "[nltk_data]    |   Package sinica_treebank is already up-to-date!\n",
            "[nltk_data]    | Downloading package smultron to /root/nltk_data...\n",
            "[nltk_data]    |   Package smultron is already up-to-date!\n",
            "[nltk_data]    | Downloading package state_union to /root/nltk_data...\n",
            "[nltk_data]    |   Package state_union is already up-to-date!\n",
            "[nltk_data]    | Downloading package stopwords to /root/nltk_data...\n",
            "[nltk_data]    |   Package stopwords is already up-to-date!\n",
            "[nltk_data]    | Downloading package subjectivity to\n",
            "[nltk_data]    |     /root/nltk_data...\n",
            "[nltk_data]    |   Package subjectivity is already up-to-date!\n",
            "[nltk_data]    | Downloading package swadesh to /root/nltk_data...\n",
            "[nltk_data]    |   Package swadesh is already up-to-date!\n",
            "[nltk_data]    | Downloading package switchboard to /root/nltk_data...\n",
            "[nltk_data]    |   Package switchboard is already up-to-date!\n",
            "[nltk_data]    | Downloading package timit to /root/nltk_data...\n",
            "[nltk_data]    |   Package timit is already up-to-date!\n",
            "[nltk_data]    | Downloading package toolbox to /root/nltk_data...\n",
            "[nltk_data]    |   Package toolbox is already up-to-date!\n",
            "[nltk_data]    | Downloading package treebank to /root/nltk_data...\n",
            "[nltk_data]    |   Package treebank is already up-to-date!\n",
            "[nltk_data]    | Downloading package twitter_samples to\n",
            "[nltk_data]    |     /root/nltk_data...\n",
            "[nltk_data]    |   Package twitter_samples is already up-to-date!\n",
            "[nltk_data]    | Downloading package udhr to /root/nltk_data...\n",
            "[nltk_data]    |   Package udhr is already up-to-date!\n",
            "[nltk_data]    | Downloading package udhr2 to /root/nltk_data...\n",
            "[nltk_data]    |   Package udhr2 is already up-to-date!\n",
            "[nltk_data]    | Downloading package unicode_samples to\n",
            "[nltk_data]    |     /root/nltk_data...\n",
            "[nltk_data]    |   Package unicode_samples is already up-to-date!\n",
            "[nltk_data]    | Downloading package universal_treebanks_v20 to\n",
            "[nltk_data]    |     /root/nltk_data...\n",
            "[nltk_data]    |   Package universal_treebanks_v20 is already up-to-\n",
            "[nltk_data]    |       date!\n",
            "[nltk_data]    | Downloading package verbnet to /root/nltk_data...\n",
            "[nltk_data]    |   Package verbnet is already up-to-date!\n",
            "[nltk_data]    | Downloading package verbnet3 to /root/nltk_data...\n",
            "[nltk_data]    |   Package verbnet3 is already up-to-date!\n",
            "[nltk_data]    | Downloading package webtext to /root/nltk_data...\n",
            "[nltk_data]    |   Package webtext is already up-to-date!\n",
            "[nltk_data]    | Downloading package wordnet to /root/nltk_data...\n",
            "[nltk_data]    |   Package wordnet is already up-to-date!\n",
            "[nltk_data]    | Downloading package wordnet31 to /root/nltk_data...\n",
            "[nltk_data]    |   Package wordnet31 is already up-to-date!\n",
            "[nltk_data]    | Downloading package wordnet_ic to /root/nltk_data...\n",
            "[nltk_data]    |   Package wordnet_ic is already up-to-date!\n",
            "[nltk_data]    | Downloading package words to /root/nltk_data...\n",
            "[nltk_data]    |   Package words is already up-to-date!\n",
            "[nltk_data]    | Downloading package ycoe to /root/nltk_data...\n",
            "[nltk_data]    |   Package ycoe is already up-to-date!\n",
            "[nltk_data]    | Downloading package rslp to /root/nltk_data...\n",
            "[nltk_data]    |   Package rslp is already up-to-date!\n",
            "[nltk_data]    | Downloading package maxent_treebank_pos_tagger to\n",
            "[nltk_data]    |     /root/nltk_data...\n",
            "[nltk_data]    |   Package maxent_treebank_pos_tagger is already up-\n",
            "[nltk_data]    |       to-date!\n",
            "[nltk_data]    | Downloading package universal_tagset to\n",
            "[nltk_data]    |     /root/nltk_data...\n",
            "[nltk_data]    |   Package universal_tagset is already up-to-date!\n",
            "[nltk_data]    | Downloading package maxent_ne_chunker to\n",
            "[nltk_data]    |     /root/nltk_data...\n",
            "[nltk_data]    |   Package maxent_ne_chunker is already up-to-date!\n",
            "[nltk_data]    | Downloading package punkt to /root/nltk_data...\n",
            "[nltk_data]    |   Package punkt is already up-to-date!\n",
            "[nltk_data]    | Downloading package book_grammars to\n",
            "[nltk_data]    |     /root/nltk_data...\n",
            "[nltk_data]    |   Package book_grammars is already up-to-date!\n",
            "[nltk_data]    | Downloading package sample_grammars to\n",
            "[nltk_data]    |     /root/nltk_data...\n",
            "[nltk_data]    |   Package sample_grammars is already up-to-date!\n",
            "[nltk_data]    | Downloading package spanish_grammars to\n",
            "[nltk_data]    |     /root/nltk_data...\n",
            "[nltk_data]    |   Package spanish_grammars is already up-to-date!\n",
            "[nltk_data]    | Downloading package basque_grammars to\n",
            "[nltk_data]    |     /root/nltk_data...\n",
            "[nltk_data]    |   Package basque_grammars is already up-to-date!\n",
            "[nltk_data]    | Downloading package large_grammars to\n",
            "[nltk_data]    |     /root/nltk_data...\n",
            "[nltk_data]    |   Package large_grammars is already up-to-date!\n",
            "[nltk_data]    | Downloading package tagsets to /root/nltk_data...\n",
            "[nltk_data]    |   Package tagsets is already up-to-date!\n",
            "[nltk_data]    | Downloading package snowball_data to\n",
            "[nltk_data]    |     /root/nltk_data...\n",
            "[nltk_data]    |   Package snowball_data is already up-to-date!\n",
            "[nltk_data]    | Downloading package bllip_wsj_no_aux to\n",
            "[nltk_data]    |     /root/nltk_data...\n",
            "[nltk_data]    |   Package bllip_wsj_no_aux is already up-to-date!\n",
            "[nltk_data]    | Downloading package word2vec_sample to\n",
            "[nltk_data]    |     /root/nltk_data...\n",
            "[nltk_data]    |   Package word2vec_sample is already up-to-date!\n",
            "[nltk_data]    | Downloading package panlex_swadesh to\n",
            "[nltk_data]    |     /root/nltk_data...\n",
            "[nltk_data]    |   Package panlex_swadesh is already up-to-date!\n",
            "[nltk_data]    | Downloading package mte_teip5 to /root/nltk_data...\n",
            "[nltk_data]    |   Package mte_teip5 is already up-to-date!\n",
            "[nltk_data]    | Downloading package averaged_perceptron_tagger to\n",
            "[nltk_data]    |     /root/nltk_data...\n",
            "[nltk_data]    |   Package averaged_perceptron_tagger is already up-\n",
            "[nltk_data]    |       to-date!\n",
            "[nltk_data]    | Downloading package averaged_perceptron_tagger_ru to\n",
            "[nltk_data]    |     /root/nltk_data...\n",
            "[nltk_data]    |   Package averaged_perceptron_tagger_ru is already\n",
            "[nltk_data]    |       up-to-date!\n",
            "[nltk_data]    | Downloading package perluniprops to\n",
            "[nltk_data]    |     /root/nltk_data...\n",
            "[nltk_data]    |   Package perluniprops is already up-to-date!\n",
            "[nltk_data]    | Downloading package nonbreaking_prefixes to\n",
            "[nltk_data]    |     /root/nltk_data...\n",
            "[nltk_data]    |   Package nonbreaking_prefixes is already up-to-date!\n",
            "[nltk_data]    | Downloading package vader_lexicon to\n",
            "[nltk_data]    |     /root/nltk_data...\n",
            "[nltk_data]    |   Package vader_lexicon is already up-to-date!\n",
            "[nltk_data]    | Downloading package porter_test to /root/nltk_data...\n",
            "[nltk_data]    |   Package porter_test is already up-to-date!\n",
            "[nltk_data]    | Downloading package wmt15_eval to /root/nltk_data...\n",
            "[nltk_data]    |   Package wmt15_eval is already up-to-date!\n",
            "[nltk_data]    | Downloading package mwa_ppdb to /root/nltk_data...\n",
            "[nltk_data]    |   Package mwa_ppdb is already up-to-date!\n",
            "[nltk_data]    | \n",
            "[nltk_data]  Done downloading collection all\n"
          ]
        },
        {
          "output_type": "execute_result",
          "data": {
            "text/plain": [
              "True"
            ]
          },
          "metadata": {},
          "execution_count": 35
        }
      ]
    },
    {
      "cell_type": "code",
      "metadata": {
        "id": "Gl7BaXRYpDN6"
      },
      "source": [
        "# Libraries for data loading, data manipulation and data visulisation\n",
        "import pandas as pd\n",
        "import numpy as np\n",
        "import seaborn as sns\n",
        "import matplotlib.pyplot as plt\n",
        "\n",
        "# Libraries for data preparation and model building\n",
        "\n",
        "# Import the scaling module\n",
        "from sklearn.preprocessing import StandardScaler\n",
        "from tabulate import tabulate \n",
        "\n",
        "# Import train/test split module\n",
        "from sklearn.model_selection import train_test_split\n",
        "\n",
        "#Modelling \n",
        "\n",
        "from sklearn.feature_extraction.text import CountVectorizer, TfidfVectorizer\n",
        "from sklearn import metrics\n",
        "from sklearn.feature_extraction.text import TfidfVectorizer\n",
        "from sklearn.linear_model import LogisticRegression, RidgeClassifier\n",
        "from sklearn.naive_bayes import MultinomialNB\n",
        "from sklearn.ensemble import RandomForestClassifier, AdaBoostClassifier\n",
        "from sklearn.tree import DecisionTreeClassifier\n",
        "from sklearn.neighbors import KNeighborsClassifier\n",
        "from sklearn import svm\n",
        "from sklearn.svm import LinearSVC, SVC\n",
        "from sklearn.naive_bayes import MultinomialNB\n",
        "from sklearn.model_selection import RepeatedStratifiedKFold, RandomizedSearchCV, GridSearchCV\n",
        "from sklearn.decomposition import LatentDirichletAllocation as LDA\n",
        "# NLP Libraries\n",
        "import nltk\n",
        "import string\n",
        "import re\n",
        "import string\n",
        "from nltk.tokenize import word_tokenize\n",
        "from nltk.stem import WordNetLemmatizer, PorterStemmer,SnowballStemmer\n",
        "from nltk.corpus import stopwords\n",
        "from wordcloud import WordCloud, STOPWORDS, ImageColorGenerator\n",
        "from sklearn.pipeline import Pipeline\n",
        "from nltk import pos_tag\n",
        "from nlppreprocess import NLP\n",
        "nlp = NLP()\n",
        "#evaluating the model\n",
        "\n",
        "from sklearn.metrics import f1_score\n",
        "from sklearn.metrics import confusion_matrix\n",
        "from sklearn.metrics import precision_score, recall_score, f1_score, accuracy_score"
      ],
      "id": "Gl7BaXRYpDN6",
      "execution_count": 67,
      "outputs": []
    },
    {
      "cell_type": "markdown",
      "metadata": {
        "id": "-whIlITEpsXI"
      },
      "source": [
        "#Loading DataSets\n",
        "\n",
        " Loading the data to be used to build our classification model."
      ],
      "id": "-whIlITEpsXI"
    },
    {
      "cell_type": "code",
      "metadata": {
        "ExecuteTime": {
          "end_time": "2021-06-28T08:49:35.311495Z",
          "start_time": "2021-06-28T08:49:35.295494Z"
        },
        "id": "fbbb6c18"
      },
      "source": [
        "# Loading in the datasets\n",
        "df = pd.read_csv(\"https://raw.githubusercontent.com/MfundoMhlanga/classification-predict-streamlit-template/master/train.csv\")\n",
        "df_test = pd.read_csv(\"https://raw.githubusercontent.com/MfundoMhlanga/classification-predict-streamlit-template/master/test_with_no_labels.csv\")\n",
        "\n",
        "#pd.set_option('display.max_columns', None)\n",
        "df1=df.copy()\n",
        "df_test1=df_test.copy()"
      ],
      "id": "fbbb6c18",
      "execution_count": 37,
      "outputs": []
    },
    {
      "cell_type": "code",
      "metadata": {
        "id": "0a9902d6",
        "colab": {
          "base_uri": "https://localhost:8080/",
          "height": 110
        },
        "outputId": "a738d8e4-1490-4103-8176-a95ca37089f4"
      },
      "source": [
        "df.head(2)"
      ],
      "id": "0a9902d6",
      "execution_count": 38,
      "outputs": [
        {
          "output_type": "execute_result",
          "data": {
            "text/html": [
              "<div>\n",
              "<style scoped>\n",
              "    .dataframe tbody tr th:only-of-type {\n",
              "        vertical-align: middle;\n",
              "    }\n",
              "\n",
              "    .dataframe tbody tr th {\n",
              "        vertical-align: top;\n",
              "    }\n",
              "\n",
              "    .dataframe thead th {\n",
              "        text-align: right;\n",
              "    }\n",
              "</style>\n",
              "<table border=\"1\" class=\"dataframe\">\n",
              "  <thead>\n",
              "    <tr style=\"text-align: right;\">\n",
              "      <th></th>\n",
              "      <th>sentiment</th>\n",
              "      <th>message</th>\n",
              "      <th>tweetid</th>\n",
              "    </tr>\n",
              "  </thead>\n",
              "  <tbody>\n",
              "    <tr>\n",
              "      <th>0</th>\n",
              "      <td>1</td>\n",
              "      <td>PolySciMajor EPA chief doesn't think carbon di...</td>\n",
              "      <td>625221</td>\n",
              "    </tr>\n",
              "    <tr>\n",
              "      <th>1</th>\n",
              "      <td>1</td>\n",
              "      <td>It's not like we lack evidence of anthropogeni...</td>\n",
              "      <td>126103</td>\n",
              "    </tr>\n",
              "  </tbody>\n",
              "</table>\n",
              "</div>"
            ],
            "text/plain": [
              "   sentiment                                            message  tweetid\n",
              "0          1  PolySciMajor EPA chief doesn't think carbon di...   625221\n",
              "1          1  It's not like we lack evidence of anthropogeni...   126103"
            ]
          },
          "metadata": {},
          "execution_count": 38
        }
      ]
    },
    {
      "cell_type": "code",
      "metadata": {
        "colab": {
          "base_uri": "https://localhost:8080/",
          "height": 110
        },
        "id": "LuP58PdtKHbI",
        "outputId": "cfb98e81-9375-4283-a90c-2cb69c6b8159"
      },
      "source": [
        "df_test.head(2)"
      ],
      "id": "LuP58PdtKHbI",
      "execution_count": 39,
      "outputs": [
        {
          "output_type": "execute_result",
          "data": {
            "text/html": [
              "<div>\n",
              "<style scoped>\n",
              "    .dataframe tbody tr th:only-of-type {\n",
              "        vertical-align: middle;\n",
              "    }\n",
              "\n",
              "    .dataframe tbody tr th {\n",
              "        vertical-align: top;\n",
              "    }\n",
              "\n",
              "    .dataframe thead th {\n",
              "        text-align: right;\n",
              "    }\n",
              "</style>\n",
              "<table border=\"1\" class=\"dataframe\">\n",
              "  <thead>\n",
              "    <tr style=\"text-align: right;\">\n",
              "      <th></th>\n",
              "      <th>message</th>\n",
              "      <th>tweetid</th>\n",
              "    </tr>\n",
              "  </thead>\n",
              "  <tbody>\n",
              "    <tr>\n",
              "      <th>0</th>\n",
              "      <td>Europe will now be looking to China to make su...</td>\n",
              "      <td>169760</td>\n",
              "    </tr>\n",
              "    <tr>\n",
              "      <th>1</th>\n",
              "      <td>Combine this with the polling of staffers re c...</td>\n",
              "      <td>35326</td>\n",
              "    </tr>\n",
              "  </tbody>\n",
              "</table>\n",
              "</div>"
            ],
            "text/plain": [
              "                                             message  tweetid\n",
              "0  Europe will now be looking to China to make su...   169760\n",
              "1  Combine this with the polling of staffers re c...    35326"
            ]
          },
          "metadata": {},
          "execution_count": 39
        }
      ]
    },
    {
      "cell_type": "markdown",
      "metadata": {
        "id": "aheCovyTxDUA"
      },
      "source": [
        "Data Description\n",
        "\n",
        "*   Columns sentiment: Sentiment of tweet \n",
        "*   message: Tweet body\n",
        "*   tweetid: Twitter unique id\n",
        "\n",
        "i.e. We have this features: Sentiments (Target) and Message (feature) including TweetsId\n",
        "\n",
        "\n",
        "\n",
        "\n",
        "\n",
        "\n",
        "\n",
        "\n"
      ],
      "id": "aheCovyTxDUA"
    },
    {
      "cell_type": "code",
      "metadata": {
        "colab": {
          "base_uri": "https://localhost:8080/"
        },
        "id": "er_QIMI1vNeH",
        "outputId": "6f57c190-0d3c-43cc-9cde-4c5754a77aba"
      },
      "source": [
        "df['sentiment'].value_counts()"
      ],
      "id": "er_QIMI1vNeH",
      "execution_count": 40,
      "outputs": [
        {
          "output_type": "execute_result",
          "data": {
            "text/plain": [
              " 1    8530\n",
              " 2    3640\n",
              " 0    2353\n",
              "-1    1296\n",
              "Name: sentiment, dtype: int64"
            ]
          },
          "metadata": {},
          "execution_count": 40
        }
      ]
    },
    {
      "cell_type": "markdown",
      "metadata": {
        "id": "eH5UL_qxxYWV"
      },
      "source": [
        "Class Description \n",
        "\n",
        "\n",
        "*   2 News: the tweet links to factual news about climate change \n",
        "*   1 Pro: the tweet supports the belief of man-made climate change \n",
        "*   0 Neutral: the tweet neither supports nor refutes the belief of man-made climate change\n",
        "*   -1 Anti: the tweet does not believe in man-made climate change \n",
        "\n",
        "\n",
        "\n",
        " \n"
      ],
      "id": "eH5UL_qxxYWV"
    },
    {
      "cell_type": "markdown",
      "metadata": {
        "id": "O2w7--NjyPE8"
      },
      "source": [
        "<a id=\"three\"></a>\n",
        "# Exploratory Data Analysis\n",
        "\n",
        "\n",
        "<p align=\"justify\" > This section provides an in depth EDA which allowed us to gain deeper insights into the dimensions and features of our data."
      ],
      "id": "O2w7--NjyPE8"
    },
    {
      "cell_type": "code",
      "metadata": {
        "colab": {
          "base_uri": "https://localhost:8080/"
        },
        "id": "fwOi1mBtxkHe",
        "outputId": "4d521842-8871-43ab-c754-6b56db4d2a03"
      },
      "source": [
        "#Checking the shape of the train and test set\n",
        "#df=df[:10546]\n",
        "df.shape,df_test.shape"
      ],
      "id": "fwOi1mBtxkHe",
      "execution_count": 41,
      "outputs": [
        {
          "output_type": "execute_result",
          "data": {
            "text/plain": [
              "((15819, 3), (10546, 2))"
            ]
          },
          "metadata": {},
          "execution_count": 41
        }
      ]
    },
    {
      "cell_type": "code",
      "metadata": {
        "colab": {
          "base_uri": "https://localhost:8080/"
        },
        "id": "48pfhgkCqokV",
        "outputId": "ed65da02-c321-421f-f6d1-daeae527f836"
      },
      "source": [
        "round((df.isnull().sum()/df.shape[0])\n",
        "      *100,2).astype(str)+ ' %'\n"
      ],
      "id": "48pfhgkCqokV",
      "execution_count": 42,
      "outputs": [
        {
          "output_type": "execute_result",
          "data": {
            "text/plain": [
              "sentiment    0.0 %\n",
              "message      0.0 %\n",
              "tweetid      0.0 %\n",
              "dtype: object"
            ]
          },
          "metadata": {},
          "execution_count": 42
        }
      ]
    },
    {
      "cell_type": "markdown",
      "metadata": {
        "id": "8GpulHyrquJB"
      },
      "source": [
        "\n",
        "No Missing Values in our Dataset i.e. we have 0 null values on our data."
      ],
      "id": "8GpulHyrquJB"
    },
    {
      "cell_type": "code",
      "metadata": {
        "colab": {
          "base_uri": "https://localhost:8080/"
        },
        "id": "Gu4SY0zOqbg3",
        "outputId": "7d996a34-3cf1-4442-c79e-5ce6ea5c1615"
      },
      "source": [
        "df.info()"
      ],
      "id": "Gu4SY0zOqbg3",
      "execution_count": 43,
      "outputs": [
        {
          "output_type": "stream",
          "name": "stdout",
          "text": [
            "<class 'pandas.core.frame.DataFrame'>\n",
            "RangeIndex: 15819 entries, 0 to 15818\n",
            "Data columns (total 3 columns):\n",
            " #   Column     Non-Null Count  Dtype \n",
            "---  ------     --------------  ----- \n",
            " 0   sentiment  15819 non-null  int64 \n",
            " 1   message    15819 non-null  object\n",
            " 2   tweetid    15819 non-null  int64 \n",
            "dtypes: int64(2), object(1)\n",
            "memory usage: 370.9+ KB\n"
          ]
        }
      ]
    },
    {
      "cell_type": "markdown",
      "metadata": {
        "id": "AAJ6PqRYqepD"
      },
      "source": [
        "The data types are object and 2 integers (tweetid and Sentiment) but since Sentiments is suppose to be a category, we will change it to catergory type.\n",
        "\n"
      ],
      "id": "AAJ6PqRYqepD"
    },
    {
      "cell_type": "code",
      "metadata": {
        "colab": {
          "base_uri": "https://localhost:8080/",
          "height": 708
        },
        "id": "BJj3WrQMyvr2",
        "outputId": "503be229-2606-4ab6-914b-bf7dd5403a9a"
      },
      "source": [
        "# Visualizing the distribution of the feature to the target\n",
        "sns.barplot(df['sentiment'].value_counts().index,df['sentiment'].value_counts())"
      ],
      "id": "BJj3WrQMyvr2",
      "execution_count": 44,
      "outputs": [
        {
          "output_type": "stream",
          "name": "stderr",
          "text": [
            "/usr/local/lib/python3.7/dist-packages/seaborn/_decorators.py:43: FutureWarning: Pass the following variables as keyword args: x, y. From version 0.12, the only valid positional argument will be `data`, and passing other arguments without an explicit keyword will result in an error or misinterpretation.\n",
            "  FutureWarning\n"
          ]
        },
        {
          "output_type": "execute_result",
          "data": {
            "text/plain": [
              "<matplotlib.axes._subplots.AxesSubplot at 0x7fd899666a50>"
            ]
          },
          "metadata": {},
          "execution_count": 44
        },
        {
          "output_type": "display_data",
          "data": {
            "image/png": "[encoded data removed]",
            "text/plain": [
              "<Figure size 1080x720 with 1 Axes>"
            ]
          },
          "metadata": {
            "needs_background": "light"
          }
        }
      ]
    },
    {
      "cell_type": "code",
      "metadata": {
        "colab": {
          "base_uri": "https://localhost:8080/",
          "height": 633
        },
        "id": "pTZ34NBz_8cH",
        "outputId": "a65ca6f8-a3b3-42ec-f9fe-f8ac9ac0bf17"
      },
      "source": [
        "import matplotlib.pyplot as plt\n",
        "labels = list( {2: \"News\", 1: \"Pro\",  0: \"Neutral\", -1: \"Anti\"}.values())\n",
        "\n",
        "#my_labels = 'Tasks Pending','Tasks Ongoing','Tasks Completed'\n",
        "my_colors = ['lightblue','lightsteelblue','silver', 'red']\n",
        "my_explode = tuple([0.1] * len(labels)) #(0, 0.1, 0)\n",
        "plt.pie(df['sentiment'].value_counts(), labels=labels, autopct='%1.1f%%', startangle=10, shadow = True, colors=my_colors, explode=my_explode)\n",
        " \n",
        "\n",
        "plt.title('Tweets Categories')\n",
        "plt.axis('equal')\n",
        "plt.show()"
      ],
      "id": "pTZ34NBz_8cH",
      "execution_count": 104,
      "outputs": [
        {
          "output_type": "display_data",
          "data": {
            "image/png": "[encoded data removed]",
            "text/plain": [
              "<Figure size 1080x720 with 1 Axes>"
            ]
          },
          "metadata": {}
        }
      ]
    },
    {
      "cell_type": "code",
      "metadata": {
        "id": "3IQ22gPx_TRs"
      },
      "source": [
        "# Data cleaning for furthur sentiment analysis\n",
        "\n",
        "def cleaner(line):\n",
        "    '''\n",
        "    For preprocessing the data, we regularize, transform each upper case into lower case, tokenize,\n",
        "    normalize and remove stopwords. Normalization transforms a token to its root word i.e. \n",
        "    These words would be transformed from \"love loving loved\" to \"love love love.\"\n",
        "    \n",
        "    '''\n",
        "\n",
        "    # Removes RT, url and trailing white spaces\n",
        "    line = re.sub(r'^RT ','', re.sub(r'https://t.co/\\w+', '', line).strip()) \n",
        "    emojis = re.compile(\"[\"\n",
        "                           u\"\\U0001F600-\\U0001F64F\"  # removes emoticons,\n",
        "                           u\"\\U0001F300-\\U0001F5FF\"  # symbols & pictographs\n",
        "                           u\"\\U0001F680-\\U0001F6FF\"  # transport & map symbols\n",
        "                           u\"\\U0001F1E0-\\U0001F1FF\"  # flags (iOS)\n",
        "                           u\"\\U00002702-\\U000027B0\"\n",
        "                           u\"\\U000024C2-\\U0001F251\"\n",
        "                           \"]+\", flags=re.UNICODE)\n",
        "\n",
        "    line = emojis.sub(r'', line)\n",
        "\n",
        "    # Removes puctuation\n",
        "    punctuation = re.compile(\"[.;:!\\'’‘“”?,\\\"()\\[\\]]\")\n",
        "    tweet = punctuation.sub(\"\", line.lower()) \n",
        "    # Removes stopwords\n",
        "    nlp_for_stopwords = NLP(replace_words=True, remove_stopwords=True, \n",
        "                            remove_numbers=True, remove_punctuations=False) \n",
        "    tweet = nlp_for_stopwords.process(tweet) # This will remove stops words that are not necessary. The idea is to keep words like [is, not, was]\n",
        "    # https://towardsdatascience.com/why-you-should-avoid-removing-stopwords-aa7a353d2a52\n",
        "\n",
        "    tweet = tweet.split() \n",
        "    pos = pos_tag(tweet)\n",
        "    \n",
        "    # Lemmatization\n",
        "    lemmatizer = WordNetLemmatizer()\n",
        "    tweet = ' '.join([lemmatizer.lemmatize(word, po[0].lower()) \n",
        "                      if (po[0].lower() in ['n', 'r', 'v', 'a'] and word[0] != '@') else word for word, po in pos])\n",
        "    return tweet"
      ],
      "id": "3IQ22gPx_TRs",
      "execution_count": 45,
      "outputs": []
    },
    {
      "cell_type": "code",
      "metadata": {
        "colab": {
          "base_uri": "https://localhost:8080/"
        },
        "id": "wmNKWglTEnHl",
        "outputId": "9366b6aa-68e6-48c3-e3ba-a07eb295b29e"
      },
      "source": [
        "# Comparison of Tweets before we apply the function cleaner and after\n",
        "tweet = df.iloc[7,1]\n",
        "tweet_clean = cleaner(tweet)\n",
        "print('BEFORE\\n', tweet)\n",
        "print('AFTER\\n', tweet_clean)"
      ],
      "id": "wmNKWglTEnHl",
      "execution_count": 46,
      "outputs": [
        {
          "output_type": "stream",
          "name": "stdout",
          "text": [
            "BEFORE\n",
            " RT @makeandmendlife: Six big things we can ALL do today to fight climate change, or how to be a climate activistÃ¢â‚¬Â¦ https://t.co/TYMLu6DbNM hÃ¢â‚¬Â¦\n",
            "AFTER\n",
            " @makeandmendlife six big thing we can today fight climate change how climate activistã¢â‚¬â¦ hã¢â‚¬â¦\n"
          ]
        }
      ]
    },
    {
      "cell_type": "code",
      "metadata": {
        "colab": {
          "base_uri": "https://localhost:8080/",
          "height": 202
        },
        "id": "AnFVqILulUkb",
        "outputId": "554ceafe-cb5f-4a9d-8aa7-2e0f39a9879d"
      },
      "source": [
        "df['clean']  = df['message'].apply(cleaner)\n",
        "df.head()"
      ],
      "id": "AnFVqILulUkb",
      "execution_count": 47,
      "outputs": [
        {
          "output_type": "execute_result",
          "data": {
            "text/html": [
              "<div>\n",
              "<style scoped>\n",
              "    .dataframe tbody tr th:only-of-type {\n",
              "        vertical-align: middle;\n",
              "    }\n",
              "\n",
              "    .dataframe tbody tr th {\n",
              "        vertical-align: top;\n",
              "    }\n",
              "\n",
              "    .dataframe thead th {\n",
              "        text-align: right;\n",
              "    }\n",
              "</style>\n",
              "<table border=\"1\" class=\"dataframe\">\n",
              "  <thead>\n",
              "    <tr style=\"text-align: right;\">\n",
              "      <th></th>\n",
              "      <th>sentiment</th>\n",
              "      <th>message</th>\n",
              "      <th>tweetid</th>\n",
              "      <th>clean</th>\n",
              "    </tr>\n",
              "  </thead>\n",
              "  <tbody>\n",
              "    <tr>\n",
              "      <th>0</th>\n",
              "      <td>1</td>\n",
              "      <td>PolySciMajor EPA chief doesn't think carbon di...</td>\n",
              "      <td>625221</td>\n",
              "      <td>polyscimajor epa chief not think carbon dioxid...</td>\n",
              "    </tr>\n",
              "    <tr>\n",
              "      <th>1</th>\n",
              "      <td>1</td>\n",
              "      <td>It's not like we lack evidence of anthropogeni...</td>\n",
              "      <td>126103</td>\n",
              "      <td>its not like we lack evidence anthropogenic gl...</td>\n",
              "    </tr>\n",
              "    <tr>\n",
              "      <th>2</th>\n",
              "      <td>2</td>\n",
              "      <td>RT @RawStory: Researchers say we have three ye...</td>\n",
              "      <td>698562</td>\n",
              "      <td>@rawstory researcher say we three year act cli...</td>\n",
              "    </tr>\n",
              "    <tr>\n",
              "      <th>3</th>\n",
              "      <td>1</td>\n",
              "      <td>#TodayinMaker# WIRED : 2016 was a pivotal year...</td>\n",
              "      <td>573736</td>\n",
              "      <td>#todayinmaker# wire pivotal year in war climat...</td>\n",
              "    </tr>\n",
              "    <tr>\n",
              "      <th>4</th>\n",
              "      <td>1</td>\n",
              "      <td>RT @SoyNovioDeTodas: It's 2016, and a racist, ...</td>\n",
              "      <td>466954</td>\n",
              "      <td>@soynoviodetodas its and racist sexist climate...</td>\n",
              "    </tr>\n",
              "  </tbody>\n",
              "</table>\n",
              "</div>"
            ],
            "text/plain": [
              "   sentiment  ...                                              clean\n",
              "0          1  ...  polyscimajor epa chief not think carbon dioxid...\n",
              "1          1  ...  its not like we lack evidence anthropogenic gl...\n",
              "2          2  ...  @rawstory researcher say we three year act cli...\n",
              "3          1  ...  #todayinmaker# wire pivotal year in war climat...\n",
              "4          1  ...  @soynoviodetodas its and racist sexist climate...\n",
              "\n",
              "[5 rows x 4 columns]"
            ]
          },
          "metadata": {},
          "execution_count": 47
        }
      ]
    },
    {
      "cell_type": "code",
      "metadata": {
        "colab": {
          "base_uri": "https://localhost:8080/",
          "height": 202
        },
        "id": "2Hqefq9xIQkM",
        "outputId": "10e0c4c0-91c6-42eb-ba44-eedc7b4b5d1d"
      },
      "source": [
        "df_test['clean']  = df_test['message'].apply(cleaner)\n",
        "df_test.head()"
      ],
      "id": "2Hqefq9xIQkM",
      "execution_count": 48,
      "outputs": [
        {
          "output_type": "execute_result",
          "data": {
            "text/html": [
              "<div>\n",
              "<style scoped>\n",
              "    .dataframe tbody tr th:only-of-type {\n",
              "        vertical-align: middle;\n",
              "    }\n",
              "\n",
              "    .dataframe tbody tr th {\n",
              "        vertical-align: top;\n",
              "    }\n",
              "\n",
              "    .dataframe thead th {\n",
              "        text-align: right;\n",
              "    }\n",
              "</style>\n",
              "<table border=\"1\" class=\"dataframe\">\n",
              "  <thead>\n",
              "    <tr style=\"text-align: right;\">\n",
              "      <th></th>\n",
              "      <th>message</th>\n",
              "      <th>tweetid</th>\n",
              "      <th>clean</th>\n",
              "    </tr>\n",
              "  </thead>\n",
              "  <tbody>\n",
              "    <tr>\n",
              "      <th>0</th>\n",
              "      <td>Europe will now be looking to China to make su...</td>\n",
              "      <td>169760</td>\n",
              "      <td>europe will now look china make sure not alone...</td>\n",
              "    </tr>\n",
              "    <tr>\n",
              "      <th>1</th>\n",
              "      <td>Combine this with the polling of staffers re c...</td>\n",
              "      <td>35326</td>\n",
              "      <td>combine with poll staffer re climate change an...</td>\n",
              "    </tr>\n",
              "    <tr>\n",
              "      <th>2</th>\n",
              "      <td>The scary, unimpeachable evidence that climate...</td>\n",
              "      <td>224985</td>\n",
              "      <td>scary unimpeachable evidence climate change al...</td>\n",
              "    </tr>\n",
              "    <tr>\n",
              "      <th>3</th>\n",
              "      <td>@Karoli @morgfair @OsborneInk @dailykos \\nPuti...</td>\n",
              "      <td>476263</td>\n",
              "      <td>@karoli @morgfair @osborneink @dailykos putin ...</td>\n",
              "    </tr>\n",
              "    <tr>\n",
              "      <th>4</th>\n",
              "      <td>RT @FakeWillMoore: 'Female orgasms cause globa...</td>\n",
              "      <td>872928</td>\n",
              "      <td>@fakewillmoore female orgasm cause global warm...</td>\n",
              "    </tr>\n",
              "  </tbody>\n",
              "</table>\n",
              "</div>"
            ],
            "text/plain": [
              "                                             message  ...                                              clean\n",
              "0  Europe will now be looking to China to make su...  ...  europe will now look china make sure not alone...\n",
              "1  Combine this with the polling of staffers re c...  ...  combine with poll staffer re climate change an...\n",
              "2  The scary, unimpeachable evidence that climate...  ...  scary unimpeachable evidence climate change al...\n",
              "3  @Karoli @morgfair @OsborneInk @dailykos \\nPuti...  ...  @karoli @morgfair @osborneink @dailykos putin ...\n",
              "4  RT @FakeWillMoore: 'Female orgasms cause globa...  ...  @fakewillmoore female orgasm cause global warm...\n",
              "\n",
              "[5 rows x 3 columns]"
            ]
          },
          "metadata": {},
          "execution_count": 48
        }
      ]
    },
    {
      "cell_type": "markdown",
      "metadata": {
        "id": "ilEIqJecoNIO"
      },
      "source": [
        ""
      ],
      "id": "ilEIqJecoNIO"
    },
    {
      "cell_type": "code",
      "metadata": {
        "colab": {
          "base_uri": "https://localhost:8080/",
          "height": 202
        },
        "id": "1C4vGQ6K_aIt",
        "outputId": "10b45e00-d1f1-40a9-95d3-1bb36ec55d24"
      },
      "source": [
        "df=df.drop('message', axis=1)\n",
        "df_test=df_test.drop('message', axis=1)\n",
        "df_test.head()"
      ],
      "id": "1C4vGQ6K_aIt",
      "execution_count": 49,
      "outputs": [
        {
          "output_type": "execute_result",
          "data": {
            "text/html": [
              "<div>\n",
              "<style scoped>\n",
              "    .dataframe tbody tr th:only-of-type {\n",
              "        vertical-align: middle;\n",
              "    }\n",
              "\n",
              "    .dataframe tbody tr th {\n",
              "        vertical-align: top;\n",
              "    }\n",
              "\n",
              "    .dataframe thead th {\n",
              "        text-align: right;\n",
              "    }\n",
              "</style>\n",
              "<table border=\"1\" class=\"dataframe\">\n",
              "  <thead>\n",
              "    <tr style=\"text-align: right;\">\n",
              "      <th></th>\n",
              "      <th>tweetid</th>\n",
              "      <th>clean</th>\n",
              "    </tr>\n",
              "  </thead>\n",
              "  <tbody>\n",
              "    <tr>\n",
              "      <th>0</th>\n",
              "      <td>169760</td>\n",
              "      <td>europe will now look china make sure not alone...</td>\n",
              "    </tr>\n",
              "    <tr>\n",
              "      <th>1</th>\n",
              "      <td>35326</td>\n",
              "      <td>combine with poll staffer re climate change an...</td>\n",
              "    </tr>\n",
              "    <tr>\n",
              "      <th>2</th>\n",
              "      <td>224985</td>\n",
              "      <td>scary unimpeachable evidence climate change al...</td>\n",
              "    </tr>\n",
              "    <tr>\n",
              "      <th>3</th>\n",
              "      <td>476263</td>\n",
              "      <td>@karoli @morgfair @osborneink @dailykos putin ...</td>\n",
              "    </tr>\n",
              "    <tr>\n",
              "      <th>4</th>\n",
              "      <td>872928</td>\n",
              "      <td>@fakewillmoore female orgasm cause global warm...</td>\n",
              "    </tr>\n",
              "  </tbody>\n",
              "</table>\n",
              "</div>"
            ],
            "text/plain": [
              "   tweetid                                              clean\n",
              "0   169760  europe will now look china make sure not alone...\n",
              "1    35326  combine with poll staffer re climate change an...\n",
              "2   224985  scary unimpeachable evidence climate change al...\n",
              "3   476263  @karoli @morgfair @osborneink @dailykos putin ...\n",
              "4   872928  @fakewillmoore female orgasm cause global warm..."
            ]
          },
          "metadata": {},
          "execution_count": 49
        }
      ]
    },
    {
      "cell_type": "markdown",
      "metadata": {
        "id": "3AYiwV3QdKK2"
      },
      "source": [
        "# Modelling\n",
        "#Splitting the data\n",
        "\n",
        "Split dataset into Dependent and independent variables. We are to split the dataset into dependent (Y) and independent variables (X)."
      ],
      "id": "3AYiwV3QdKK2"
    },
    {
      "cell_type": "code",
      "metadata": {
        "id": "a12aacc1"
      },
      "source": [
        "y=df1['sentiment']\n",
        "X_train, X_test, y_train, y_test = train_test_split(df1['message'], y, test_size=0.30, stratify=y, random_state=42)"
      ],
      "id": "a12aacc1",
      "execution_count": 50,
      "outputs": []
    },
    {
      "cell_type": "code",
      "metadata": {
        "id": "o_iahvQXvX5B"
      },
      "source": [
        "# init stemmer\n",
        "porter_stemmer=PorterStemmer()\n",
        "\n",
        "def my_cool_preprocessor(text):\n",
        "    \n",
        "    text=text.lower() \n",
        "    text=re.sub(\"\\\\W\",\" \",text) # remove special chars\n",
        "    text=re.sub(\"\\\\s+(in|the|all|for|and|on)\\\\s+\",\" _connector_ \",text) # normalize certain words\n",
        "    \n",
        "    # stem words\n",
        "    words=re.split(\"\\\\s+\",text)\n",
        "    stemmed_words=[porter_stemmer.stem(word=word) for word in words]\n",
        "    return ' '.join(stemmed_words)"
      ],
      "id": "o_iahvQXvX5B",
      "execution_count": 51,
      "outputs": []
    },
    {
      "cell_type": "code",
      "metadata": {
        "id": "18abe2bf"
      },
      "source": [
        "#count_vectorizer = CountVectorizer(stop_words = 'english',  max_df = 0.95)\n",
        "count_vectorizer = CountVectorizer(lowercase = True, ngram_range=(1, 2), analyzer='word', max_df = 0.70, preprocessor=my_cool_preprocessor) #char_wb, word\n",
        "count_train = count_vectorizer.fit_transform(X_train.values)\n",
        "count_test = count_vectorizer.transform(X_test.values)\n",
        "count_df_test = count_vectorizer.transform(df_test1['message'].values)"
      ],
      "id": "18abe2bf",
      "execution_count": 52,
      "outputs": []
    },
    {
      "cell_type": "code",
      "metadata": {
        "id": "58209445",
        "colab": {
          "base_uri": "https://localhost:8080/"
        },
        "outputId": "ba501c33-d2ee-45c6-fe35-69b1edb30787"
      },
      "source": [
        "count_vectorizer.get_feature_names()[:10]"
      ],
      "id": "58209445",
      "execution_count": 53,
      "outputs": [
        {
          "output_type": "stream",
          "name": "stderr",
          "text": [
            "/usr/local/lib/python3.7/dist-packages/sklearn/utils/deprecation.py:87: FutureWarning: Function get_feature_names is deprecated; get_feature_names is deprecated in 1.0 and will be removed in 1.2. Please use get_feature_names_out instead.\n",
            "  warnings.warn(msg, category=FutureWarning)\n"
          ]
        },
        {
          "output_type": "execute_result",
          "data": {
            "text/plain": [
              "['00',\n",
              " '00 19',\n",
              " '00 am',\n",
              " '00 appropri',\n",
              " '000',\n",
              " '000 000',\n",
              " '000 _connector_',\n",
              " '000 doctor',\n",
              " '000 farmer',\n",
              " '000 from']"
            ]
          },
          "metadata": {},
          "execution_count": 53
        }
      ]
    },
    {
      "cell_type": "markdown",
      "metadata": {
        "id": "tJtCN27oXnk0"
      },
      "source": [
        "Tfidf Vectorizer"
      ],
      "id": "tJtCN27oXnk0"
    },
    {
      "cell_type": "code",
      "metadata": {
        "id": "a4eaf286"
      },
      "source": [
        "tfidf_vectorizer = TfidfVectorizer(stop_words = 'english', max_df = 0.95)\n",
        "tfidf_train = tfidf_vectorizer.fit_transform(X_train.values)\n",
        "tfidf_test = tfidf_vectorizer.transform(X_test.values)\n",
        "tfidf_df_test = tfidf_vectorizer.transform(df_test['clean'].values)"
      ],
      "id": "a4eaf286",
      "execution_count": 54,
      "outputs": []
    },
    {
      "cell_type": "markdown",
      "metadata": {
        "id": "dPZzAsTw1rTi"
      },
      "source": [
        "#Train Model\n",
        "After data preparation, we are now creating and training the model using Scikit-learn. We import the different classification model from skicit-learn, instantiate the model, and fit the model on the training data. We set the random state for reproducible results.\n"
      ],
      "id": "dPZzAsTw1rTi"
    },
    {
      "cell_type": "markdown",
      "metadata": {
        "id": "XSmCiNQPcVAL"
      },
      "source": [
        "Naive classifier"
      ],
      "id": "XSmCiNQPcVAL"
    },
    {
      "cell_type": "code",
      "metadata": {
        "colab": {
          "base_uri": "https://localhost:8080/"
        },
        "id": "4yeL1aBVvosx",
        "outputId": "2d062a4e-d54b-4076-d239-0f5a4a1cfb82"
      },
      "source": [
        "nb_classifier = MultinomialNB().fit(count_train, y_train)\n",
        "pred = nb_classifier.predict(count_test)\n",
        "metrics.accuracy_score(y_test ,pred)\n",
        "f1_score(y_test, pred, average='macro')\n",
        "print(metrics.accuracy_score(y_test ,pred))\n",
        "print(f1_score(y_test, pred, average=\"macro\"))"
      ],
      "id": "4yeL1aBVvosx",
      "execution_count": 55,
      "outputs": [
        {
          "output_type": "stream",
          "name": "stdout",
          "text": [
            "0.7050147492625368\n",
            "0.5049834781532239\n"
          ]
        }
      ]
    },
    {
      "cell_type": "markdown",
      "metadata": {
        "id": "wGqDeXJf2JQo"
      },
      "source": [
        "Random Forest"
      ],
      "id": "wGqDeXJf2JQo"
    },
    {
      "cell_type": "code",
      "metadata": {
        "colab": {
          "base_uri": "https://localhost:8080/"
        },
        "id": "85-_bkaw2IRg",
        "outputId": "c81eceb6-13c2-4d0b-eaef-6d8b7e29bbca"
      },
      "source": [
        "from sklearn.ensemble import RandomForestClassifier\n",
        "rfc = RandomForestClassifier().fit(count_train, y_train)\n",
        "rfc_pred = rfc.predict(count_test)\n",
        "print(metrics.accuracy_score(y_test ,rfc_pred))\n",
        "print(f1_score(y_test, rfc_pred, average=\"macro\"))"
      ],
      "id": "85-_bkaw2IRg",
      "execution_count": 56,
      "outputs": [
        {
          "output_type": "stream",
          "name": "stdout",
          "text": [
            "0.7138643067846607\n",
            "0.5446330494953585\n"
          ]
        }
      ]
    },
    {
      "cell_type": "markdown",
      "metadata": {
        "id": "S6avNkMlfetZ"
      },
      "source": [
        "Logistic Regression"
      ],
      "id": "S6avNkMlfetZ"
    },
    {
      "cell_type": "code",
      "metadata": {
        "colab": {
          "base_uri": "https://localhost:8080/"
        },
        "id": "WuGhMIoU39wP",
        "outputId": "4f0ab715-75c1-4b9c-9b55-b25745055a46"
      },
      "source": [
        "lr=LogisticRegression(multi_class='ovr', solver=\"sag\", random_state=100) #multi_class{‘auto’, ‘ovr’, ‘multinomial’}, \n",
        "#solver{‘newton-cg’, ‘lbfgs’, ‘liblinear’, ‘sag’, ‘saga’}, default=’lbfgs’\n",
        "\n",
        "lr.fit(count_train, y_train)\n",
        "lr_pred = lr.predict(count_test)\n",
        "\n",
        "print(metrics.accuracy_score(y_test ,lr_pred))\n",
        "print(f1_score(y_test, lr_pred, average=\"macro\"))"
      ],
      "id": "WuGhMIoU39wP",
      "execution_count": 57,
      "outputs": [
        {
          "output_type": "stream",
          "name": "stderr",
          "text": [
            "/usr/local/lib/python3.7/dist-packages/sklearn/linear_model/_sag.py:354: ConvergenceWarning: The max_iter was reached which means the coef_ did not converge\n",
            "  ConvergenceWarning,\n",
            "/usr/local/lib/python3.7/dist-packages/sklearn/linear_model/_sag.py:354: ConvergenceWarning: The max_iter was reached which means the coef_ did not converge\n",
            "  ConvergenceWarning,\n",
            "/usr/local/lib/python3.7/dist-packages/sklearn/linear_model/_sag.py:354: ConvergenceWarning: The max_iter was reached which means the coef_ did not converge\n",
            "  ConvergenceWarning,\n"
          ]
        },
        {
          "output_type": "stream",
          "name": "stdout",
          "text": [
            "0.7517909818794775\n",
            "0.6550919096119828\n"
          ]
        },
        {
          "output_type": "stream",
          "name": "stderr",
          "text": [
            "/usr/local/lib/python3.7/dist-packages/sklearn/linear_model/_sag.py:354: ConvergenceWarning: The max_iter was reached which means the coef_ did not converge\n",
            "  ConvergenceWarning,\n"
          ]
        }
      ]
    },
    {
      "cell_type": "code",
      "metadata": {
        "colab": {
          "base_uri": "https://localhost:8080/",
          "height": 1000
        },
        "id": "N1XerRGBJA6T",
        "outputId": "a3f3625d-4e52-4f60-d9ac-b121aed865fd"
      },
      "source": [
        "# Creating the hyperparameter grid\n",
        "\n",
        "  \n",
        "# Instantiating logistic regression classifier\n",
        "#logreg = LogisticRegression(multi_class='multinomial', solver=\"saga\", random_state=100)\n",
        "\n",
        "logreg = LogisticRegression()\n",
        "param_grid = {\n",
        "    'C': [0.001,100] #0.01, 0.1, 1, 10, 100, 1000],\n",
        "    'penalty': ['l1', 'l2'],\n",
        "    'max_iter': list(range(100,800,100)),\n",
        "    'solver': ['newton-cg', 'lbfgs', 'liblinear', 'sag', 'saga']\n",
        "}\n",
        "\n",
        "  \n",
        "# Instantiating the GridSearchCV object\n",
        "logreg_cv = GridSearchCV(logreg, param_grid, refit = True, verbose = 3, cv = 5).fit(count_train, y_train)\n",
        "  \n",
        "# Print the tuned parameters and score\n",
        "print(\"Tuned Logistic Regression Parameters: {}\".format(logreg_cv.best_params_)) \n",
        "print(\"Best score is {}\".format(logreg_cv.best_score_))\n",
        "\n",
        "\n",
        "log_pred = logreg_cv.predict(count_test)\n",
        "print(metrics.accuracy_score(y_test ,log_pred))\n",
        "print(f1_score(y_test, log_pred, average=\"macro\"))"
      ],
      "id": "N1XerRGBJA6T",
      "execution_count": 91,
      "outputs": [
        {
          "output_type": "stream",
          "name": "stdout",
          "text": [
            "Fitting 5 folds for each of 490 candidates, totalling 2450 fits\n",
            "[CV 1/5] END C=0.001, max_iter=100, penalty=l1, solver=newton-cg;, score=nan total time=   0.0s\n",
            "[CV 2/5] END C=0.001, max_iter=100, penalty=l1, solver=newton-cg;, score=nan total time=   0.0s\n",
            "[CV 3/5] END C=0.001, max_iter=100, penalty=l1, solver=newton-cg;, score=nan total time=   0.0s\n",
            "[CV 4/5] END C=0.001, max_iter=100, penalty=l1, solver=newton-cg;, score=nan total time=   0.0s\n",
            "[CV 5/5] END C=0.001, max_iter=100, penalty=l1, solver=newton-cg;, score=nan total time=   0.0s\n",
            "[CV 1/5] END C=0.001, max_iter=100, penalty=l1, solver=lbfgs;, score=nan total time=   0.0s\n",
            "[CV 2/5] END C=0.001, max_iter=100, penalty=l1, solver=lbfgs;, score=nan total time=   0.0s\n",
            "[CV 3/5] END C=0.001, max_iter=100, penalty=l1, solver=lbfgs;, score=nan total time=   0.0s\n",
            "[CV 4/5] END C=0.001, max_iter=100, penalty=l1, solver=lbfgs;, score=nan total time=   0.0s\n",
            "[CV 5/5] END C=0.001, max_iter=100, penalty=l1, solver=lbfgs;, score=nan total time=   0.0s\n",
            "[CV 1/5] END C=0.001, max_iter=100, penalty=l1, solver=liblinear;, score=0.540 total time=   0.3s\n",
            "[CV 2/5] END C=0.001, max_iter=100, penalty=l1, solver=liblinear;, score=0.539 total time=   0.4s\n",
            "[CV 3/5] END C=0.001, max_iter=100, penalty=l1, solver=liblinear;, score=0.539 total time=   0.3s\n",
            "[CV 4/5] END C=0.001, max_iter=100, penalty=l1, solver=liblinear;, score=0.539 total time=   0.3s\n",
            "[CV 5/5] END C=0.001, max_iter=100, penalty=l1, solver=liblinear;, score=0.539 total time=   0.4s\n",
            "[CV 1/5] END C=0.001, max_iter=100, penalty=l1, solver=sag;, score=nan total time=   0.0s\n",
            "[CV 2/5] END C=0.001, max_iter=100, penalty=l1, solver=sag;, score=nan total time=   0.0s\n",
            "[CV 3/5] END C=0.001, max_iter=100, penalty=l1, solver=sag;, score=nan total time=   0.0s\n",
            "[CV 4/5] END C=0.001, max_iter=100, penalty=l1, solver=sag;, score=nan total time=   0.0s\n",
            "[CV 5/5] END C=0.001, max_iter=100, penalty=l1, solver=sag;, score=nan total time=   0.0s\n"
          ]
        },
        {
          "output_type": "stream",
          "name": "stderr",
          "text": [
            "/usr/local/lib/python3.7/dist-packages/sklearn/linear_model/_sag.py:354: ConvergenceWarning: The max_iter was reached which means the coef_ did not converge\n",
            "  ConvergenceWarning,\n"
          ]
        },
        {
          "output_type": "stream",
          "name": "stdout",
          "text": [
            "[CV 1/5] END C=0.001, max_iter=100, penalty=l1, solver=saga;, score=0.540 total time=   2.6s\n"
          ]
        },
        {
          "output_type": "stream",
          "name": "stderr",
          "text": [
            "/usr/local/lib/python3.7/dist-packages/sklearn/linear_model/_sag.py:354: ConvergenceWarning: The max_iter was reached which means the coef_ did not converge\n",
            "  ConvergenceWarning,\n"
          ]
        },
        {
          "output_type": "stream",
          "name": "stdout",
          "text": [
            "[CV 2/5] END C=0.001, max_iter=100, penalty=l1, solver=saga;, score=0.539 total time=   2.7s\n"
          ]
        },
        {
          "output_type": "stream",
          "name": "stderr",
          "text": [
            "/usr/local/lib/python3.7/dist-packages/sklearn/linear_model/_sag.py:354: ConvergenceWarning: The max_iter was reached which means the coef_ did not converge\n",
            "  ConvergenceWarning,\n"
          ]
        },
        {
          "output_type": "stream",
          "name": "stdout",
          "text": [
            "[CV 3/5] END C=0.001, max_iter=100, penalty=l1, solver=saga;, score=0.539 total time=   2.6s\n"
          ]
        },
        {
          "output_type": "stream",
          "name": "stderr",
          "text": [
            "/usr/local/lib/python3.7/dist-packages/sklearn/linear_model/_sag.py:354: ConvergenceWarning: The max_iter was reached which means the coef_ did not converge\n",
            "  ConvergenceWarning,\n"
          ]
        },
        {
          "output_type": "stream",
          "name": "stdout",
          "text": [
            "[CV 4/5] END C=0.001, max_iter=100, penalty=l1, solver=saga;, score=0.539 total time=   2.7s\n"
          ]
        },
        {
          "output_type": "stream",
          "name": "stderr",
          "text": [
            "/usr/local/lib/python3.7/dist-packages/sklearn/linear_model/_sag.py:354: ConvergenceWarning: The max_iter was reached which means the coef_ did not converge\n",
            "  ConvergenceWarning,\n"
          ]
        },
        {
          "output_type": "stream",
          "name": "stdout",
          "text": [
            "[CV 5/5] END C=0.001, max_iter=100, penalty=l1, solver=saga;, score=0.539 total time=   2.7s\n",
            "[CV 1/5] END C=0.001, max_iter=100, penalty=l2, solver=newton-cg;, score=0.602 total time=   8.2s\n",
            "[CV 2/5] END C=0.001, max_iter=100, penalty=l2, solver=newton-cg;, score=0.597 total time=   9.1s\n",
            "[CV 3/5] END C=0.001, max_iter=100, penalty=l2, solver=newton-cg;, score=0.591 total time=   9.0s\n",
            "[CV 4/5] END C=0.001, max_iter=100, penalty=l2, solver=newton-cg;, score=0.596 total time=   8.8s\n",
            "[CV 5/5] END C=0.001, max_iter=100, penalty=l2, solver=newton-cg;, score=0.599 total time=   8.9s\n",
            "[CV 1/5] END C=0.001, max_iter=100, penalty=l2, solver=lbfgs;, score=0.602 total time=   5.0s\n",
            "[CV 2/5] END C=0.001, max_iter=100, penalty=l2, solver=lbfgs;, score=0.597 total time=   5.2s\n",
            "[CV 3/5] END C=0.001, max_iter=100, penalty=l2, solver=lbfgs;, score=0.591 total time=   5.1s\n",
            "[CV 4/5] END C=0.001, max_iter=100, penalty=l2, solver=lbfgs;, score=0.596 total time=   5.1s\n",
            "[CV 5/5] END C=0.001, max_iter=100, penalty=l2, solver=lbfgs;, score=0.599 total time=   4.9s\n",
            "[CV 1/5] END C=0.001, max_iter=100, penalty=l2, solver=liblinear;, score=0.612 total time=   0.3s\n",
            "[CV 2/5] END C=0.001, max_iter=100, penalty=l2, solver=liblinear;, score=0.607 total time=   0.3s\n",
            "[CV 3/5] END C=0.001, max_iter=100, penalty=l2, solver=liblinear;, score=0.611 total time=   0.3s\n",
            "[CV 4/5] END C=0.001, max_iter=100, penalty=l2, solver=liblinear;, score=0.619 total time=   0.3s\n",
            "[CV 5/5] END C=0.001, max_iter=100, penalty=l2, solver=liblinear;, score=0.613 total time=   0.3s\n",
            "[CV 1/5] END C=0.001, max_iter=100, penalty=l2, solver=sag;, score=0.602 total time=   1.4s\n",
            "[CV 2/5] END C=0.001, max_iter=100, penalty=l2, solver=sag;, score=0.597 total time=   1.3s\n",
            "[CV 3/5] END C=0.001, max_iter=100, penalty=l2, solver=sag;, score=0.591 total time=   1.3s\n",
            "[CV 4/5] END C=0.001, max_iter=100, penalty=l2, solver=sag;, score=0.596 total time=   1.2s\n",
            "[CV 5/5] END C=0.001, max_iter=100, penalty=l2, solver=sag;, score=0.599 total time=   1.3s\n"
          ]
        },
        {
          "output_type": "stream",
          "name": "stderr",
          "text": [
            "/usr/local/lib/python3.7/dist-packages/sklearn/linear_model/_sag.py:354: ConvergenceWarning: The max_iter was reached which means the coef_ did not converge\n",
            "  ConvergenceWarning,\n"
          ]
        },
        {
          "output_type": "stream",
          "name": "stdout",
          "text": [
            "[CV 1/5] END C=0.001, max_iter=100, penalty=l2, solver=saga;, score=0.606 total time=   2.2s\n"
          ]
        },
        {
          "output_type": "stream",
          "name": "stderr",
          "text": [
            "/usr/local/lib/python3.7/dist-packages/sklearn/linear_model/_sag.py:354: ConvergenceWarning: The max_iter was reached which means the coef_ did not converge\n",
            "  ConvergenceWarning,\n"
          ]
        },
        {
          "output_type": "stream",
          "name": "stdout",
          "text": [
            "[CV 2/5] END C=0.001, max_iter=100, penalty=l2, solver=saga;, score=0.597 total time=   2.1s\n"
          ]
        },
        {
          "output_type": "stream",
          "name": "stderr",
          "text": [
            "/usr/local/lib/python3.7/dist-packages/sklearn/linear_model/_sag.py:354: ConvergenceWarning: The max_iter was reached which means the coef_ did not converge\n",
            "  ConvergenceWarning,\n"
          ]
        },
        {
          "output_type": "stream",
          "name": "stdout",
          "text": [
            "[CV 3/5] END C=0.001, max_iter=100, penalty=l2, solver=saga;, score=0.595 total time=   2.1s\n"
          ]
        },
        {
          "output_type": "stream",
          "name": "stderr",
          "text": [
            "/usr/local/lib/python3.7/dist-packages/sklearn/linear_model/_sag.py:354: ConvergenceWarning: The max_iter was reached which means the coef_ did not converge\n",
            "  ConvergenceWarning,\n"
          ]
        },
        {
          "output_type": "stream",
          "name": "stdout",
          "text": [
            "[CV 4/5] END C=0.001, max_iter=100, penalty=l2, solver=saga;, score=0.598 total time=   2.1s\n"
          ]
        },
        {
          "output_type": "stream",
          "name": "stderr",
          "text": [
            "/usr/local/lib/python3.7/dist-packages/sklearn/linear_model/_sag.py:354: ConvergenceWarning: The max_iter was reached which means the coef_ did not converge\n",
            "  ConvergenceWarning,\n"
          ]
        },
        {
          "output_type": "stream",
          "name": "stdout",
          "text": [
            "[CV 5/5] END C=0.001, max_iter=100, penalty=l2, solver=saga;, score=0.600 total time=   2.1s\n",
            "[CV 1/5] END C=0.001, max_iter=200, penalty=l1, solver=newton-cg;, score=nan total time=   0.0s\n",
            "[CV 2/5] END C=0.001, max_iter=200, penalty=l1, solver=newton-cg;, score=nan total time=   0.0s\n",
            "[CV 3/5] END C=0.001, max_iter=200, penalty=l1, solver=newton-cg;, score=nan total time=   0.0s\n",
            "[CV 4/5] END C=0.001, max_iter=200, penalty=l1, solver=newton-cg;, score=nan total time=   0.0s\n",
            "[CV 5/5] END C=0.001, max_iter=200, penalty=l1, solver=newton-cg;, score=nan total time=   0.0s\n",
            "[CV 1/5] END C=0.001, max_iter=200, penalty=l1, solver=lbfgs;, score=nan total time=   0.0s\n",
            "[CV 2/5] END C=0.001, max_iter=200, penalty=l1, solver=lbfgs;, score=nan total time=   0.0s\n",
            "[CV 3/5] END C=0.001, max_iter=200, penalty=l1, solver=lbfgs;, score=nan total time=   0.0s\n",
            "[CV 4/5] END C=0.001, max_iter=200, penalty=l1, solver=lbfgs;, score=nan total time=   0.0s\n",
            "[CV 5/5] END C=0.001, max_iter=200, penalty=l1, solver=lbfgs;, score=nan total time=   0.0s\n",
            "[CV 1/5] END C=0.001, max_iter=200, penalty=l1, solver=liblinear;, score=0.540 total time=   0.3s\n",
            "[CV 2/5] END C=0.001, max_iter=200, penalty=l1, solver=liblinear;, score=0.539 total time=   0.4s\n",
            "[CV 3/5] END C=0.001, max_iter=200, penalty=l1, solver=liblinear;, score=0.539 total time=   0.3s\n",
            "[CV 4/5] END C=0.001, max_iter=200, penalty=l1, solver=liblinear;, score=0.539 total time=   0.3s\n",
            "[CV 5/5] END C=0.001, max_iter=200, penalty=l1, solver=liblinear;, score=0.539 total time=   0.4s\n",
            "[CV 1/5] END C=0.001, max_iter=200, penalty=l1, solver=sag;, score=nan total time=   0.0s\n",
            "[CV 2/5] END C=0.001, max_iter=200, penalty=l1, solver=sag;, score=nan total time=   0.0s\n",
            "[CV 3/5] END C=0.001, max_iter=200, penalty=l1, solver=sag;, score=nan total time=   0.0s\n",
            "[CV 4/5] END C=0.001, max_iter=200, penalty=l1, solver=sag;, score=nan total time=   0.0s\n",
            "[CV 5/5] END C=0.001, max_iter=200, penalty=l1, solver=sag;, score=nan total time=   0.0s\n"
          ]
        },
        {
          "output_type": "stream",
          "name": "stderr",
          "text": [
            "/usr/local/lib/python3.7/dist-packages/sklearn/linear_model/_sag.py:354: ConvergenceWarning: The max_iter was reached which means the coef_ did not converge\n",
            "  ConvergenceWarning,\n"
          ]
        },
        {
          "output_type": "stream",
          "name": "stdout",
          "text": [
            "[CV 1/5] END C=0.001, max_iter=200, penalty=l1, solver=saga;, score=0.540 total time=   5.3s\n"
          ]
        },
        {
          "output_type": "stream",
          "name": "stderr",
          "text": [
            "/usr/local/lib/python3.7/dist-packages/sklearn/linear_model/_sag.py:354: ConvergenceWarning: The max_iter was reached which means the coef_ did not converge\n",
            "  ConvergenceWarning,\n"
          ]
        },
        {
          "output_type": "stream",
          "name": "stdout",
          "text": [
            "[CV 2/5] END C=0.001, max_iter=200, penalty=l1, solver=saga;, score=0.539 total time=   5.3s\n"
          ]
        },
        {
          "output_type": "stream",
          "name": "stderr",
          "text": [
            "/usr/local/lib/python3.7/dist-packages/sklearn/linear_model/_sag.py:354: ConvergenceWarning: The max_iter was reached which means the coef_ did not converge\n",
            "  ConvergenceWarning,\n"
          ]
        },
        {
          "output_type": "stream",
          "name": "stdout",
          "text": [
            "[CV 3/5] END C=0.001, max_iter=200, penalty=l1, solver=saga;, score=0.539 total time=   5.5s\n"
          ]
        },
        {
          "output_type": "stream",
          "name": "stderr",
          "text": [
            "/usr/local/lib/python3.7/dist-packages/sklearn/linear_model/_sag.py:354: ConvergenceWarning: The max_iter was reached which means the coef_ did not converge\n",
            "  ConvergenceWarning,\n"
          ]
        },
        {
          "output_type": "stream",
          "name": "stdout",
          "text": [
            "[CV 4/5] END C=0.001, max_iter=200, penalty=l1, solver=saga;, score=0.539 total time=   5.4s\n",
            "[CV 5/5] END C=0.001, max_iter=200, penalty=l1, solver=saga;, score=0.539 total time=   2.9s\n",
            "[CV 1/5] END C=0.001, max_iter=200, penalty=l2, solver=newton-cg;, score=0.602 total time=   8.1s\n",
            "[CV 2/5] END C=0.001, max_iter=200, penalty=l2, solver=newton-cg;, score=0.597 total time=   9.0s\n",
            "[CV 3/5] END C=0.001, max_iter=200, penalty=l2, solver=newton-cg;, score=0.591 total time=   9.1s\n",
            "[CV 4/5] END C=0.001, max_iter=200, penalty=l2, solver=newton-cg;, score=0.596 total time=   8.7s\n",
            "[CV 5/5] END C=0.001, max_iter=200, penalty=l2, solver=newton-cg;, score=0.599 total time=   8.8s\n",
            "[CV 1/5] END C=0.001, max_iter=200, penalty=l2, solver=lbfgs;, score=0.602 total time=   4.7s\n",
            "[CV 2/5] END C=0.001, max_iter=200, penalty=l2, solver=lbfgs;, score=0.597 total time=   5.0s\n",
            "[CV 3/5] END C=0.001, max_iter=200, penalty=l2, solver=lbfgs;, score=0.591 total time=   4.8s\n",
            "[CV 4/5] END C=0.001, max_iter=200, penalty=l2, solver=lbfgs;, score=0.596 total time=   4.8s\n",
            "[CV 5/5] END C=0.001, max_iter=200, penalty=l2, solver=lbfgs;, score=0.599 total time=   5.0s\n",
            "[CV 1/5] END C=0.001, max_iter=200, penalty=l2, solver=liblinear;, score=0.612 total time=   0.3s\n",
            "[CV 2/5] END C=0.001, max_iter=200, penalty=l2, solver=liblinear;, score=0.607 total time=   0.3s\n",
            "[CV 3/5] END C=0.001, max_iter=200, penalty=l2, solver=liblinear;, score=0.611 total time=   0.3s\n",
            "[CV 4/5] END C=0.001, max_iter=200, penalty=l2, solver=liblinear;, score=0.619 total time=   0.3s\n",
            "[CV 5/5] END C=0.001, max_iter=200, penalty=l2, solver=liblinear;, score=0.613 total time=   0.3s\n",
            "[CV 1/5] END C=0.001, max_iter=200, penalty=l2, solver=sag;, score=0.602 total time=   1.3s\n",
            "[CV 2/5] END C=0.001, max_iter=200, penalty=l2, solver=sag;, score=0.597 total time=   1.3s\n",
            "[CV 3/5] END C=0.001, max_iter=200, penalty=l2, solver=sag;, score=0.591 total time=   1.3s\n",
            "[CV 4/5] END C=0.001, max_iter=200, penalty=l2, solver=sag;, score=0.596 total time=   1.2s\n",
            "[CV 5/5] END C=0.001, max_iter=200, penalty=l2, solver=sag;, score=0.599 total time=   1.2s\n"
          ]
        },
        {
          "output_type": "stream",
          "name": "stderr",
          "text": [
            "/usr/local/lib/python3.7/dist-packages/sklearn/linear_model/_sag.py:354: ConvergenceWarning: The max_iter was reached which means the coef_ did not converge\n",
            "  ConvergenceWarning,\n"
          ]
        },
        {
          "output_type": "stream",
          "name": "stdout",
          "text": [
            "[CV 1/5] END C=0.001, max_iter=200, penalty=l2, solver=saga;, score=0.604 total time=   4.1s\n"
          ]
        },
        {
          "output_type": "stream",
          "name": "stderr",
          "text": [
            "/usr/local/lib/python3.7/dist-packages/sklearn/linear_model/_sag.py:354: ConvergenceWarning: The max_iter was reached which means the coef_ did not converge\n",
            "  ConvergenceWarning,\n"
          ]
        },
        {
          "output_type": "stream",
          "name": "stdout",
          "text": [
            "[CV 2/5] END C=0.001, max_iter=200, penalty=l2, solver=saga;, score=0.597 total time=   4.1s\n"
          ]
        },
        {
          "output_type": "stream",
          "name": "stderr",
          "text": [
            "/usr/local/lib/python3.7/dist-packages/sklearn/linear_model/_sag.py:354: ConvergenceWarning: The max_iter was reached which means the coef_ did not converge\n",
            "  ConvergenceWarning,\n"
          ]
        },
        {
          "output_type": "stream",
          "name": "stdout",
          "text": [
            "[CV 3/5] END C=0.001, max_iter=200, penalty=l2, solver=saga;, score=0.593 total time=   4.2s\n"
          ]
        },
        {
          "output_type": "stream",
          "name": "stderr",
          "text": [
            "/usr/local/lib/python3.7/dist-packages/sklearn/linear_model/_sag.py:354: ConvergenceWarning: The max_iter was reached which means the coef_ did not converge\n",
            "  ConvergenceWarning,\n"
          ]
        },
        {
          "output_type": "stream",
          "name": "stdout",
          "text": [
            "[CV 4/5] END C=0.001, max_iter=200, penalty=l2, solver=saga;, score=0.597 total time=   4.1s\n"
          ]
        },
        {
          "output_type": "stream",
          "name": "stderr",
          "text": [
            "/usr/local/lib/python3.7/dist-packages/sklearn/linear_model/_sag.py:354: ConvergenceWarning: The max_iter was reached which means the coef_ did not converge\n",
            "  ConvergenceWarning,\n"
          ]
        },
        {
          "output_type": "stream",
          "name": "stdout",
          "text": [
            "[CV 5/5] END C=0.001, max_iter=200, penalty=l2, solver=saga;, score=0.600 total time=   4.1s\n",
            "[CV 1/5] END C=0.001, max_iter=300, penalty=l1, solver=newton-cg;, score=nan total time=   0.0s\n",
            "[CV 2/5] END C=0.001, max_iter=300, penalty=l1, solver=newton-cg;, score=nan total time=   0.0s\n",
            "[CV 3/5] END C=0.001, max_iter=300, penalty=l1, solver=newton-cg;, score=nan total time=   0.0s\n",
            "[CV 4/5] END C=0.001, max_iter=300, penalty=l1, solver=newton-cg;, score=nan total time=   0.0s\n",
            "[CV 5/5] END C=0.001, max_iter=300, penalty=l1, solver=newton-cg;, score=nan total time=   0.0s\n",
            "[CV 1/5] END C=0.001, max_iter=300, penalty=l1, solver=lbfgs;, score=nan total time=   0.0s\n",
            "[CV 2/5] END C=0.001, max_iter=300, penalty=l1, solver=lbfgs;, score=nan total time=   0.0s\n",
            "[CV 3/5] END C=0.001, max_iter=300, penalty=l1, solver=lbfgs;, score=nan total time=   0.0s\n",
            "[CV 4/5] END C=0.001, max_iter=300, penalty=l1, solver=lbfgs;, score=nan total time=   0.0s\n",
            "[CV 5/5] END C=0.001, max_iter=300, penalty=l1, solver=lbfgs;, score=nan total time=   0.0s\n",
            "[CV 1/5] END C=0.001, max_iter=300, penalty=l1, solver=liblinear;, score=0.540 total time=   0.3s\n",
            "[CV 2/5] END C=0.001, max_iter=300, penalty=l1, solver=liblinear;, score=0.539 total time=   0.3s\n",
            "[CV 3/5] END C=0.001, max_iter=300, penalty=l1, solver=liblinear;, score=0.539 total time=   0.4s\n",
            "[CV 4/5] END C=0.001, max_iter=300, penalty=l1, solver=liblinear;, score=0.539 total time=   0.3s\n",
            "[CV 5/5] END C=0.001, max_iter=300, penalty=l1, solver=liblinear;, score=0.539 total time=   0.4s\n",
            "[CV 1/5] END C=0.001, max_iter=300, penalty=l1, solver=sag;, score=nan total time=   0.0s\n",
            "[CV 2/5] END C=0.001, max_iter=300, penalty=l1, solver=sag;, score=nan total time=   0.0s\n",
            "[CV 3/5] END C=0.001, max_iter=300, penalty=l1, solver=sag;, score=nan total time=   0.0s\n",
            "[CV 4/5] END C=0.001, max_iter=300, penalty=l1, solver=sag;, score=nan total time=   0.0s\n",
            "[CV 5/5] END C=0.001, max_iter=300, penalty=l1, solver=sag;, score=nan total time=   0.0s\n"
          ]
        },
        {
          "output_type": "stream",
          "name": "stderr",
          "text": [
            "/usr/local/lib/python3.7/dist-packages/sklearn/linear_model/_sag.py:354: ConvergenceWarning: The max_iter was reached which means the coef_ did not converge\n",
            "  ConvergenceWarning,\n"
          ]
        },
        {
          "output_type": "stream",
          "name": "stdout",
          "text": [
            "[CV 1/5] END C=0.001, max_iter=300, penalty=l1, solver=saga;, score=0.540 total time=   7.9s\n"
          ]
        },
        {
          "output_type": "stream",
          "name": "stderr",
          "text": [
            "/usr/local/lib/python3.7/dist-packages/sklearn/linear_model/_sag.py:354: ConvergenceWarning: The max_iter was reached which means the coef_ did not converge\n",
            "  ConvergenceWarning,\n"
          ]
        },
        {
          "output_type": "stream",
          "name": "stdout",
          "text": [
            "[CV 2/5] END C=0.001, max_iter=300, penalty=l1, solver=saga;, score=0.539 total time=   7.9s\n"
          ]
        },
        {
          "output_type": "stream",
          "name": "stderr",
          "text": [
            "/usr/local/lib/python3.7/dist-packages/sklearn/linear_model/_sag.py:354: ConvergenceWarning: The max_iter was reached which means the coef_ did not converge\n",
            "  ConvergenceWarning,\n"
          ]
        },
        {
          "output_type": "stream",
          "name": "stdout",
          "text": [
            "[CV 3/5] END C=0.001, max_iter=300, penalty=l1, solver=saga;, score=0.539 total time=   8.0s\n"
          ]
        },
        {
          "output_type": "stream",
          "name": "stderr",
          "text": [
            "/usr/local/lib/python3.7/dist-packages/sklearn/linear_model/_sag.py:354: ConvergenceWarning: The max_iter was reached which means the coef_ did not converge\n",
            "  ConvergenceWarning,\n"
          ]
        },
        {
          "output_type": "stream",
          "name": "stdout",
          "text": [
            "[CV 4/5] END C=0.001, max_iter=300, penalty=l1, solver=saga;, score=0.539 total time=   8.0s\n",
            "[CV 5/5] END C=0.001, max_iter=300, penalty=l1, solver=saga;, score=0.539 total time=   2.9s\n",
            "[CV 1/5] END C=0.001, max_iter=300, penalty=l2, solver=newton-cg;, score=0.602 total time=   8.1s\n",
            "[CV 2/5] END C=0.001, max_iter=300, penalty=l2, solver=newton-cg;, score=0.597 total time=   9.0s\n",
            "[CV 3/5] END C=0.001, max_iter=300, penalty=l2, solver=newton-cg;, score=0.591 total time=   9.0s\n",
            "[CV 4/5] END C=0.001, max_iter=300, penalty=l2, solver=newton-cg;, score=0.596 total time=   8.7s\n",
            "[CV 5/5] END C=0.001, max_iter=300, penalty=l2, solver=newton-cg;, score=0.599 total time=   8.8s\n",
            "[CV 1/5] END C=0.001, max_iter=300, penalty=l2, solver=lbfgs;, score=0.602 total time=   4.7s\n",
            "[CV 2/5] END C=0.001, max_iter=300, penalty=l2, solver=lbfgs;, score=0.597 total time=   4.8s\n",
            "[CV 3/5] END C=0.001, max_iter=300, penalty=l2, solver=lbfgs;, score=0.591 total time=   5.0s\n",
            "[CV 4/5] END C=0.001, max_iter=300, penalty=l2, solver=lbfgs;, score=0.596 total time=   4.7s\n",
            "[CV 5/5] END C=0.001, max_iter=300, penalty=l2, solver=lbfgs;, score=0.599 total time=   4.8s\n",
            "[CV 1/5] END C=0.001, max_iter=300, penalty=l2, solver=liblinear;, score=0.612 total time=   0.3s\n",
            "[CV 2/5] END C=0.001, max_iter=300, penalty=l2, solver=liblinear;, score=0.607 total time=   0.3s\n",
            "[CV 3/5] END C=0.001, max_iter=300, penalty=l2, solver=liblinear;, score=0.611 total time=   0.3s\n",
            "[CV 4/5] END C=0.001, max_iter=300, penalty=l2, solver=liblinear;, score=0.619 total time=   0.3s\n",
            "[CV 5/5] END C=0.001, max_iter=300, penalty=l2, solver=liblinear;, score=0.613 total time=   0.3s\n",
            "[CV 1/5] END C=0.001, max_iter=300, penalty=l2, solver=sag;, score=0.602 total time=   1.3s\n",
            "[CV 2/5] END C=0.001, max_iter=300, penalty=l2, solver=sag;, score=0.597 total time=   1.3s\n",
            "[CV 3/5] END C=0.001, max_iter=300, penalty=l2, solver=sag;, score=0.591 total time=   1.3s\n",
            "[CV 4/5] END C=0.001, max_iter=300, penalty=l2, solver=sag;, score=0.596 total time=   1.2s\n",
            "[CV 5/5] END C=0.001, max_iter=300, penalty=l2, solver=sag;, score=0.599 total time=   1.3s\n",
            "[CV 1/5] END C=0.001, max_iter=300, penalty=l2, solver=saga;, score=0.603 total time=   5.6s\n",
            "[CV 2/5] END C=0.001, max_iter=300, penalty=l2, solver=saga;, score=0.598 total time=   5.8s\n",
            "[CV 3/5] END C=0.001, max_iter=300, penalty=l2, solver=saga;, score=0.592 total time=   5.8s\n",
            "[CV 4/5] END C=0.001, max_iter=300, penalty=l2, solver=saga;, score=0.597 total time=   5.5s\n",
            "[CV 5/5] END C=0.001, max_iter=300, penalty=l2, solver=saga;, score=0.599 total time=   5.9s\n",
            "[CV 1/5] END C=0.001, max_iter=400, penalty=l1, solver=newton-cg;, score=nan total time=   0.0s\n",
            "[CV 2/5] END C=0.001, max_iter=400, penalty=l1, solver=newton-cg;, score=nan total time=   0.0s\n",
            "[CV 3/5] END C=0.001, max_iter=400, penalty=l1, solver=newton-cg;, score=nan total time=   0.0s\n",
            "[CV 4/5] END C=0.001, max_iter=400, penalty=l1, solver=newton-cg;, score=nan total time=   0.0s\n",
            "[CV 5/5] END C=0.001, max_iter=400, penalty=l1, solver=newton-cg;, score=nan total time=   0.0s\n",
            "[CV 1/5] END C=0.001, max_iter=400, penalty=l1, solver=lbfgs;, score=nan total time=   0.0s\n",
            "[CV 2/5] END C=0.001, max_iter=400, penalty=l1, solver=lbfgs;, score=nan total time=   0.0s\n",
            "[CV 3/5] END C=0.001, max_iter=400, penalty=l1, solver=lbfgs;, score=nan total time=   0.0s\n",
            "[CV 4/5] END C=0.001, max_iter=400, penalty=l1, solver=lbfgs;, score=nan total time=   0.0s\n",
            "[CV 5/5] END C=0.001, max_iter=400, penalty=l1, solver=lbfgs;, score=nan total time=   0.0s\n",
            "[CV 1/5] END C=0.001, max_iter=400, penalty=l1, solver=liblinear;, score=0.540 total time=   0.4s\n",
            "[CV 2/5] END C=0.001, max_iter=400, penalty=l1, solver=liblinear;, score=0.539 total time=   0.4s\n",
            "[CV 3/5] END C=0.001, max_iter=400, penalty=l1, solver=liblinear;, score=0.539 total time=   0.4s\n",
            "[CV 4/5] END C=0.001, max_iter=400, penalty=l1, solver=liblinear;, score=0.539 total time=   0.3s\n",
            "[CV 5/5] END C=0.001, max_iter=400, penalty=l1, solver=liblinear;, score=0.539 total time=   0.4s\n",
            "[CV 1/5] END C=0.001, max_iter=400, penalty=l1, solver=sag;, score=nan total time=   0.0s\n",
            "[CV 2/5] END C=0.001, max_iter=400, penalty=l1, solver=sag;, score=nan total time=   0.0s\n",
            "[CV 3/5] END C=0.001, max_iter=400, penalty=l1, solver=sag;, score=nan total time=   0.0s\n",
            "[CV 4/5] END C=0.001, max_iter=400, penalty=l1, solver=sag;, score=nan total time=   0.0s\n",
            "[CV 5/5] END C=0.001, max_iter=400, penalty=l1, solver=sag;, score=nan total time=   0.0s\n",
            "[CV 1/5] END C=0.001, max_iter=400, penalty=l1, solver=saga;, score=0.540 total time=   8.3s\n",
            "[CV 2/5] END C=0.001, max_iter=400, penalty=l1, solver=saga;, score=0.539 total time=   9.0s\n"
          ]
        },
        {
          "output_type": "stream",
          "name": "stderr",
          "text": [
            "/usr/local/lib/python3.7/dist-packages/sklearn/linear_model/_sag.py:354: ConvergenceWarning: The max_iter was reached which means the coef_ did not converge\n",
            "  ConvergenceWarning,\n"
          ]
        },
        {
          "output_type": "stream",
          "name": "stdout",
          "text": [
            "[CV 3/5] END C=0.001, max_iter=400, penalty=l1, solver=saga;, score=0.539 total time=  10.5s\n",
            "[CV 4/5] END C=0.001, max_iter=400, penalty=l1, solver=saga;, score=0.539 total time=   0.4s\n",
            "[CV 5/5] END C=0.001, max_iter=400, penalty=l1, solver=saga;, score=0.539 total time=   3.1s\n",
            "[CV 1/5] END C=0.001, max_iter=400, penalty=l2, solver=newton-cg;, score=0.602 total time=   8.1s\n",
            "[CV 2/5] END C=0.001, max_iter=400, penalty=l2, solver=newton-cg;, score=0.597 total time=   9.1s\n",
            "[CV 3/5] END C=0.001, max_iter=400, penalty=l2, solver=newton-cg;, score=0.591 total time=   9.1s\n",
            "[CV 4/5] END C=0.001, max_iter=400, penalty=l2, solver=newton-cg;, score=0.596 total time=   8.8s\n",
            "[CV 5/5] END C=0.001, max_iter=400, penalty=l2, solver=newton-cg;, score=0.599 total time=   8.9s\n",
            "[CV 1/5] END C=0.001, max_iter=400, penalty=l2, solver=lbfgs;, score=0.602 total time=   4.9s\n",
            "[CV 2/5] END C=0.001, max_iter=400, penalty=l2, solver=lbfgs;, score=0.597 total time=   4.7s\n",
            "[CV 3/5] END C=0.001, max_iter=400, penalty=l2, solver=lbfgs;, score=0.591 total time=   4.8s\n",
            "[CV 4/5] END C=0.001, max_iter=400, penalty=l2, solver=lbfgs;, score=0.596 total time=   5.0s\n",
            "[CV 5/5] END C=0.001, max_iter=400, penalty=l2, solver=lbfgs;, score=0.599 total time=   4.9s\n",
            "[CV 1/5] END C=0.001, max_iter=400, penalty=l2, solver=liblinear;, score=0.612 total time=   0.3s\n",
            "[CV 2/5] END C=0.001, max_iter=400, penalty=l2, solver=liblinear;, score=0.607 total time=   0.3s\n",
            "[CV 3/5] END C=0.001, max_iter=400, penalty=l2, solver=liblinear;, score=0.611 total time=   0.3s\n",
            "[CV 4/5] END C=0.001, max_iter=400, penalty=l2, solver=liblinear;, score=0.619 total time=   0.3s\n",
            "[CV 5/5] END C=0.001, max_iter=400, penalty=l2, solver=liblinear;, score=0.613 total time=   0.3s\n",
            "[CV 1/5] END C=0.001, max_iter=400, penalty=l2, solver=sag;, score=0.602 total time=   1.3s\n",
            "[CV 2/5] END C=0.001, max_iter=400, penalty=l2, solver=sag;, score=0.597 total time=   1.3s\n",
            "[CV 3/5] END C=0.001, max_iter=400, penalty=l2, solver=sag;, score=0.591 total time=   1.3s\n",
            "[CV 4/5] END C=0.001, max_iter=400, penalty=l2, solver=sag;, score=0.596 total time=   1.2s\n",
            "[CV 5/5] END C=0.001, max_iter=400, penalty=l2, solver=sag;, score=0.599 total time=   1.3s\n",
            "[CV 1/5] END C=0.001, max_iter=400, penalty=l2, solver=saga;, score=0.603 total time=   5.8s\n",
            "[CV 2/5] END C=0.001, max_iter=400, penalty=l2, solver=saga;, score=0.598 total time=   5.8s\n",
            "[CV 3/5] END C=0.001, max_iter=400, penalty=l2, solver=saga;, score=0.592 total time=   5.7s\n",
            "[CV 4/5] END C=0.001, max_iter=400, penalty=l2, solver=saga;, score=0.597 total time=   5.7s\n",
            "[CV 5/5] END C=0.001, max_iter=400, penalty=l2, solver=saga;, score=0.599 total time=   5.8s\n",
            "[CV 1/5] END C=0.001, max_iter=500, penalty=l1, solver=newton-cg;, score=nan total time=   0.0s\n",
            "[CV 2/5] END C=0.001, max_iter=500, penalty=l1, solver=newton-cg;, score=nan total time=   0.0s\n",
            "[CV 3/5] END C=0.001, max_iter=500, penalty=l1, solver=newton-cg;, score=nan total time=   0.0s\n",
            "[CV 4/5] END C=0.001, max_iter=500, penalty=l1, solver=newton-cg;, score=nan total time=   0.0s\n",
            "[CV 5/5] END C=0.001, max_iter=500, penalty=l1, solver=newton-cg;, score=nan total time=   0.0s\n",
            "[CV 1/5] END C=0.001, max_iter=500, penalty=l1, solver=lbfgs;, score=nan total time=   0.0s\n",
            "[CV 2/5] END C=0.001, max_iter=500, penalty=l1, solver=lbfgs;, score=nan total time=   0.0s\n",
            "[CV 3/5] END C=0.001, max_iter=500, penalty=l1, solver=lbfgs;, score=nan total time=   0.0s\n",
            "[CV 4/5] END C=0.001, max_iter=500, penalty=l1, solver=lbfgs;, score=nan total time=   0.0s\n",
            "[CV 5/5] END C=0.001, max_iter=500, penalty=l1, solver=lbfgs;, score=nan total time=   0.0s\n",
            "[CV 1/5] END C=0.001, max_iter=500, penalty=l1, solver=liblinear;, score=0.540 total time=   0.3s\n",
            "[CV 2/5] END C=0.001, max_iter=500, penalty=l1, solver=liblinear;, score=0.539 total time=   0.4s\n",
            "[CV 3/5] END C=0.001, max_iter=500, penalty=l1, solver=liblinear;, score=0.539 total time=   0.3s\n",
            "[CV 4/5] END C=0.001, max_iter=500, penalty=l1, solver=liblinear;, score=0.539 total time=   0.4s\n",
            "[CV 5/5] END C=0.001, max_iter=500, penalty=l1, solver=liblinear;, score=0.539 total time=   0.3s\n",
            "[CV 1/5] END C=0.001, max_iter=500, penalty=l1, solver=sag;, score=nan total time=   0.0s\n",
            "[CV 2/5] END C=0.001, max_iter=500, penalty=l1, solver=sag;, score=nan total time=   0.0s\n",
            "[CV 3/5] END C=0.001, max_iter=500, penalty=l1, solver=sag;, score=nan total time=   0.0s\n",
            "[CV 4/5] END C=0.001, max_iter=500, penalty=l1, solver=sag;, score=nan total time=   0.0s\n",
            "[CV 5/5] END C=0.001, max_iter=500, penalty=l1, solver=sag;, score=nan total time=   0.0s\n",
            "[CV 1/5] END C=0.001, max_iter=500, penalty=l1, solver=saga;, score=0.540 total time=   9.1s\n",
            "[CV 2/5] END C=0.001, max_iter=500, penalty=l1, solver=saga;, score=0.539 total time=   0.4s\n",
            "[CV 3/5] END C=0.001, max_iter=500, penalty=l1, solver=saga;, score=0.539 total time=  11.6s\n",
            "[CV 4/5] END C=0.001, max_iter=500, penalty=l1, solver=saga;, score=0.539 total time=   0.5s\n",
            "[CV 5/5] END C=0.001, max_iter=500, penalty=l1, solver=saga;, score=0.539 total time=   2.9s\n",
            "[CV 1/5] END C=0.001, max_iter=500, penalty=l2, solver=newton-cg;, score=0.602 total time=   8.1s\n",
            "[CV 2/5] END C=0.001, max_iter=500, penalty=l2, solver=newton-cg;, score=0.597 total time=   8.9s\n",
            "[CV 3/5] END C=0.001, max_iter=500, penalty=l2, solver=newton-cg;, score=0.591 total time=   8.9s\n",
            "[CV 4/5] END C=0.001, max_iter=500, penalty=l2, solver=newton-cg;, score=0.596 total time=   8.6s\n",
            "[CV 5/5] END C=0.001, max_iter=500, penalty=l2, solver=newton-cg;, score=0.599 total time=   8.6s\n",
            "[CV 1/5] END C=0.001, max_iter=500, penalty=l2, solver=lbfgs;, score=0.602 total time=   4.9s\n",
            "[CV 2/5] END C=0.001, max_iter=500, penalty=l2, solver=lbfgs;, score=0.597 total time=   4.9s\n",
            "[CV 3/5] END C=0.001, max_iter=500, penalty=l2, solver=lbfgs;, score=0.591 total time=   4.9s\n",
            "[CV 4/5] END C=0.001, max_iter=500, penalty=l2, solver=lbfgs;, score=0.596 total time=   4.6s\n",
            "[CV 5/5] END C=0.001, max_iter=500, penalty=l2, solver=lbfgs;, score=0.599 total time=   4.7s\n",
            "[CV 1/5] END C=0.001, max_iter=500, penalty=l2, solver=liblinear;, score=0.612 total time=   0.3s\n",
            "[CV 2/5] END C=0.001, max_iter=500, penalty=l2, solver=liblinear;, score=0.607 total time=   0.3s\n",
            "[CV 3/5] END C=0.001, max_iter=500, penalty=l2, solver=liblinear;, score=0.611 total time=   0.3s\n",
            "[CV 4/5] END C=0.001, max_iter=500, penalty=l2, solver=liblinear;, score=0.619 total time=   0.3s\n",
            "[CV 5/5] END C=0.001, max_iter=500, penalty=l2, solver=liblinear;, score=0.613 total time=   0.3s\n",
            "[CV 1/5] END C=0.001, max_iter=500, penalty=l2, solver=sag;, score=0.602 total time=   1.3s\n",
            "[CV 2/5] END C=0.001, max_iter=500, penalty=l2, solver=sag;, score=0.597 total time=   1.2s\n",
            "[CV 3/5] END C=0.001, max_iter=500, penalty=l2, solver=sag;, score=0.591 total time=   1.2s\n",
            "[CV 4/5] END C=0.001, max_iter=500, penalty=l2, solver=sag;, score=0.596 total time=   1.1s\n",
            "[CV 5/5] END C=0.001, max_iter=500, penalty=l2, solver=sag;, score=0.599 total time=   1.2s\n",
            "[CV 1/5] END C=0.001, max_iter=500, penalty=l2, solver=saga;, score=0.603 total time=   5.4s\n",
            "[CV 2/5] END C=0.001, max_iter=500, penalty=l2, solver=saga;, score=0.598 total time=   5.3s\n",
            "[CV 3/5] END C=0.001, max_iter=500, penalty=l2, solver=saga;, score=0.592 total time=   5.6s\n",
            "[CV 4/5] END C=0.001, max_iter=500, penalty=l2, solver=saga;, score=0.597 total time=   5.3s\n",
            "[CV 5/5] END C=0.001, max_iter=500, penalty=l2, solver=saga;, score=0.599 total time=   5.4s\n",
            "[CV 1/5] END C=0.001, max_iter=600, penalty=l1, solver=newton-cg;, score=nan total time=   0.0s\n",
            "[CV 2/5] END C=0.001, max_iter=600, penalty=l1, solver=newton-cg;, score=nan total time=   0.0s\n",
            "[CV 3/5] END C=0.001, max_iter=600, penalty=l1, solver=newton-cg;, score=nan total time=   0.0s\n",
            "[CV 4/5] END C=0.001, max_iter=600, penalty=l1, solver=newton-cg;, score=nan total time=   0.0s\n",
            "[CV 5/5] END C=0.001, max_iter=600, penalty=l1, solver=newton-cg;, score=nan total time=   0.0s\n",
            "[CV 1/5] END C=0.001, max_iter=600, penalty=l1, solver=lbfgs;, score=nan total time=   0.0s\n",
            "[CV 2/5] END C=0.001, max_iter=600, penalty=l1, solver=lbfgs;, score=nan total time=   0.0s\n",
            "[CV 3/5] END C=0.001, max_iter=600, penalty=l1, solver=lbfgs;, score=nan total time=   0.0s\n",
            "[CV 4/5] END C=0.001, max_iter=600, penalty=l1, solver=lbfgs;, score=nan total time=   0.0s\n",
            "[CV 5/5] END C=0.001, max_iter=600, penalty=l1, solver=lbfgs;, score=nan total time=   0.0s\n",
            "[CV 1/5] END C=0.001, max_iter=600, penalty=l1, solver=liblinear;, score=0.540 total time=   0.3s\n",
            "[CV 2/5] END C=0.001, max_iter=600, penalty=l1, solver=liblinear;, score=0.539 total time=   0.3s\n",
            "[CV 3/5] END C=0.001, max_iter=600, penalty=l1, solver=liblinear;, score=0.539 total time=   0.3s\n",
            "[CV 4/5] END C=0.001, max_iter=600, penalty=l1, solver=liblinear;, score=0.539 total time=   0.3s\n",
            "[CV 5/5] END C=0.001, max_iter=600, penalty=l1, solver=liblinear;, score=0.539 total time=   0.3s\n",
            "[CV 1/5] END C=0.001, max_iter=600, penalty=l1, solver=sag;, score=nan total time=   0.0s\n",
            "[CV 2/5] END C=0.001, max_iter=600, penalty=l1, solver=sag;, score=nan total time=   0.0s\n",
            "[CV 3/5] END C=0.001, max_iter=600, penalty=l1, solver=sag;, score=nan total time=   0.0s\n",
            "[CV 4/5] END C=0.001, max_iter=600, penalty=l1, solver=sag;, score=nan total time=   0.0s\n",
            "[CV 5/5] END C=0.001, max_iter=600, penalty=l1, solver=sag;, score=nan total time=   0.0s\n",
            "[CV 1/5] END C=0.001, max_iter=600, penalty=l1, solver=saga;, score=0.540 total time=   7.9s\n",
            "[CV 2/5] END C=0.001, max_iter=600, penalty=l1, solver=saga;, score=0.539 total time=   8.4s\n",
            "[CV 3/5] END C=0.001, max_iter=600, penalty=l1, solver=saga;, score=0.539 total time=  10.4s\n",
            "[CV 4/5] END C=0.001, max_iter=600, penalty=l1, solver=saga;, score=0.539 total time=   8.9s\n",
            "[CV 5/5] END C=0.001, max_iter=600, penalty=l1, solver=saga;, score=0.539 total time=   2.8s\n",
            "[CV 1/5] END C=0.001, max_iter=600, penalty=l2, solver=newton-cg;, score=0.602 total time=   8.0s\n",
            "[CV 2/5] END C=0.001, max_iter=600, penalty=l2, solver=newton-cg;, score=0.597 total time=   9.0s\n",
            "[CV 3/5] END C=0.001, max_iter=600, penalty=l2, solver=newton-cg;, score=0.591 total time=   9.0s\n",
            "[CV 4/5] END C=0.001, max_iter=600, penalty=l2, solver=newton-cg;, score=0.596 total time=   8.7s\n",
            "[CV 5/5] END C=0.001, max_iter=600, penalty=l2, solver=newton-cg;, score=0.599 total time=   8.6s\n",
            "[CV 1/5] END C=0.001, max_iter=600, penalty=l2, solver=lbfgs;, score=0.602 total time=   4.8s\n",
            "[CV 2/5] END C=0.001, max_iter=600, penalty=l2, solver=lbfgs;, score=0.597 total time=   4.7s\n",
            "[CV 3/5] END C=0.001, max_iter=600, penalty=l2, solver=lbfgs;, score=0.591 total time=   4.9s\n",
            "[CV 4/5] END C=0.001, max_iter=600, penalty=l2, solver=lbfgs;, score=0.596 total time=   4.7s\n",
            "[CV 5/5] END C=0.001, max_iter=600, penalty=l2, solver=lbfgs;, score=0.599 total time=   4.8s\n",
            "[CV 1/5] END C=0.001, max_iter=600, penalty=l2, solver=liblinear;, score=0.612 total time=   0.3s\n",
            "[CV 2/5] END C=0.001, max_iter=600, penalty=l2, solver=liblinear;, score=0.607 total time=   0.3s\n",
            "[CV 3/5] END C=0.001, max_iter=600, penalty=l2, solver=liblinear;, score=0.611 total time=   0.3s\n",
            "[CV 4/5] END C=0.001, max_iter=600, penalty=l2, solver=liblinear;, score=0.619 total time=   0.3s\n",
            "[CV 5/5] END C=0.001, max_iter=600, penalty=l2, solver=liblinear;, score=0.613 total time=   0.3s\n",
            "[CV 1/5] END C=0.001, max_iter=600, penalty=l2, solver=sag;, score=0.602 total time=   1.3s\n",
            "[CV 2/5] END C=0.001, max_iter=600, penalty=l2, solver=sag;, score=0.597 total time=   1.2s\n",
            "[CV 3/5] END C=0.001, max_iter=600, penalty=l2, solver=sag;, score=0.591 total time=   1.2s\n",
            "[CV 4/5] END C=0.001, max_iter=600, penalty=l2, solver=sag;, score=0.596 total time=   1.2s\n",
            "[CV 5/5] END C=0.001, max_iter=600, penalty=l2, solver=sag;, score=0.599 total time=   1.2s\n",
            "[CV 1/5] END C=0.001, max_iter=600, penalty=l2, solver=saga;, score=0.603 total time=   5.7s\n",
            "[CV 2/5] END C=0.001, max_iter=600, penalty=l2, solver=saga;, score=0.598 total time=   5.6s\n",
            "[CV 3/5] END C=0.001, max_iter=600, penalty=l2, solver=saga;, score=0.592 total time=   5.6s\n",
            "[CV 4/5] END C=0.001, max_iter=600, penalty=l2, solver=saga;, score=0.597 total time=   5.4s\n",
            "[CV 5/5] END C=0.001, max_iter=600, penalty=l2, solver=saga;, score=0.599 total time=   5.5s\n",
            "[CV 1/5] END C=0.001, max_iter=700, penalty=l1, solver=newton-cg;, score=nan total time=   0.0s\n",
            "[CV 2/5] END C=0.001, max_iter=700, penalty=l1, solver=newton-cg;, score=nan total time=   0.0s\n",
            "[CV 3/5] END C=0.001, max_iter=700, penalty=l1, solver=newton-cg;, score=nan total time=   0.0s\n",
            "[CV 4/5] END C=0.001, max_iter=700, penalty=l1, solver=newton-cg;, score=nan total time=   0.0s\n",
            "[CV 5/5] END C=0.001, max_iter=700, penalty=l1, solver=newton-cg;, score=nan total time=   0.0s\n",
            "[CV 1/5] END C=0.001, max_iter=700, penalty=l1, solver=lbfgs;, score=nan total time=   0.0s\n",
            "[CV 2/5] END C=0.001, max_iter=700, penalty=l1, solver=lbfgs;, score=nan total time=   0.0s\n",
            "[CV 3/5] END C=0.001, max_iter=700, penalty=l1, solver=lbfgs;, score=nan total time=   0.0s\n",
            "[CV 4/5] END C=0.001, max_iter=700, penalty=l1, solver=lbfgs;, score=nan total time=   0.0s\n",
            "[CV 5/5] END C=0.001, max_iter=700, penalty=l1, solver=lbfgs;, score=nan total time=   0.0s\n",
            "[CV 1/5] END C=0.001, max_iter=700, penalty=l1, solver=liblinear;, score=0.540 total time=   0.3s\n",
            "[CV 2/5] END C=0.001, max_iter=700, penalty=l1, solver=liblinear;, score=0.539 total time=   0.3s\n",
            "[CV 3/5] END C=0.001, max_iter=700, penalty=l1, solver=liblinear;, score=0.539 total time=   0.3s\n",
            "[CV 4/5] END C=0.001, max_iter=700, penalty=l1, solver=liblinear;, score=0.539 total time=   0.3s\n",
            "[CV 5/5] END C=0.001, max_iter=700, penalty=l1, solver=liblinear;, score=0.539 total time=   0.3s\n",
            "[CV 1/5] END C=0.001, max_iter=700, penalty=l1, solver=sag;, score=nan total time=   0.0s\n",
            "[CV 2/5] END C=0.001, max_iter=700, penalty=l1, solver=sag;, score=nan total time=   0.0s\n",
            "[CV 3/5] END C=0.001, max_iter=700, penalty=l1, solver=sag;, score=nan total time=   0.0s\n",
            "[CV 4/5] END C=0.001, max_iter=700, penalty=l1, solver=sag;, score=nan total time=   0.0s\n",
            "[CV 5/5] END C=0.001, max_iter=700, penalty=l1, solver=sag;, score=nan total time=   0.0s\n",
            "[CV 1/5] END C=0.001, max_iter=700, penalty=l1, solver=saga;, score=0.540 total time=   8.3s\n",
            "[CV 2/5] END C=0.001, max_iter=700, penalty=l1, solver=saga;, score=0.539 total time=   8.8s\n",
            "[CV 3/5] END C=0.001, max_iter=700, penalty=l1, solver=saga;, score=0.539 total time=   0.4s\n",
            "[CV 4/5] END C=0.001, max_iter=700, penalty=l1, solver=saga;, score=0.539 total time=   8.3s\n",
            "[CV 5/5] END C=0.001, max_iter=700, penalty=l1, solver=saga;, score=0.539 total time=   2.9s\n",
            "[CV 1/5] END C=0.001, max_iter=700, penalty=l2, solver=newton-cg;, score=0.602 total time=   7.9s\n",
            "[CV 2/5] END C=0.001, max_iter=700, penalty=l2, solver=newton-cg;, score=0.597 total time=   8.8s\n",
            "[CV 3/5] END C=0.001, max_iter=700, penalty=l2, solver=newton-cg;, score=0.591 total time=   8.6s\n",
            "[CV 4/5] END C=0.001, max_iter=700, penalty=l2, solver=newton-cg;, score=0.596 total time=   8.6s\n",
            "[CV 5/5] END C=0.001, max_iter=700, penalty=l2, solver=newton-cg;, score=0.599 total time=   8.7s\n",
            "[CV 1/5] END C=0.001, max_iter=700, penalty=l2, solver=lbfgs;, score=0.602 total time=   4.7s\n",
            "[CV 2/5] END C=0.001, max_iter=700, penalty=l2, solver=lbfgs;, score=0.597 total time=   4.8s\n",
            "[CV 3/5] END C=0.001, max_iter=700, penalty=l2, solver=lbfgs;, score=0.591 total time=   5.0s\n",
            "[CV 4/5] END C=0.001, max_iter=700, penalty=l2, solver=lbfgs;, score=0.596 total time=   4.9s\n",
            "[CV 5/5] END C=0.001, max_iter=700, penalty=l2, solver=lbfgs;, score=0.599 total time=   4.8s\n",
            "[CV 1/5] END C=0.001, max_iter=700, penalty=l2, solver=liblinear;, score=0.612 total time=   0.3s\n",
            "[CV 2/5] END C=0.001, max_iter=700, penalty=l2, solver=liblinear;, score=0.607 total time=   0.3s\n",
            "[CV 3/5] END C=0.001, max_iter=700, penalty=l2, solver=liblinear;, score=0.611 total time=   0.3s\n",
            "[CV 4/5] END C=0.001, max_iter=700, penalty=l2, solver=liblinear;, score=0.619 total time=   0.3s\n",
            "[CV 5/5] END C=0.001, max_iter=700, penalty=l2, solver=liblinear;, score=0.613 total time=   0.3s\n",
            "[CV 1/5] END C=0.001, max_iter=700, penalty=l2, solver=sag;, score=0.602 total time=   1.3s\n",
            "[CV 2/5] END C=0.001, max_iter=700, penalty=l2, solver=sag;, score=0.597 total time=   1.2s\n",
            "[CV 3/5] END C=0.001, max_iter=700, penalty=l2, solver=sag;, score=0.591 total time=   1.3s\n",
            "[CV 4/5] END C=0.001, max_iter=700, penalty=l2, solver=sag;, score=0.596 total time=   1.2s\n",
            "[CV 5/5] END C=0.001, max_iter=700, penalty=l2, solver=sag;, score=0.599 total time=   1.3s\n",
            "[CV 1/5] END C=0.001, max_iter=700, penalty=l2, solver=saga;, score=0.603 total time=   5.5s\n",
            "[CV 2/5] END C=0.001, max_iter=700, penalty=l2, solver=saga;, score=0.598 total time=   5.6s\n",
            "[CV 3/5] END C=0.001, max_iter=700, penalty=l2, solver=saga;, score=0.592 total time=   5.7s\n",
            "[CV 4/5] END C=0.001, max_iter=700, penalty=l2, solver=saga;, score=0.597 total time=   5.6s\n",
            "[CV 5/5] END C=0.001, max_iter=700, penalty=l2, solver=saga;, score=0.599 total time=   5.8s\n",
            "[CV 1/5] END C=0.01, max_iter=100, penalty=l1, solver=newton-cg;, score=nan total time=   0.0s\n",
            "[CV 2/5] END C=0.01, max_iter=100, penalty=l1, solver=newton-cg;, score=nan total time=   0.0s\n",
            "[CV 3/5] END C=0.01, max_iter=100, penalty=l1, solver=newton-cg;, score=nan total time=   0.0s\n",
            "[CV 4/5] END C=0.01, max_iter=100, penalty=l1, solver=newton-cg;, score=nan total time=   0.0s\n",
            "[CV 5/5] END C=0.01, max_iter=100, penalty=l1, solver=newton-cg;, score=nan total time=   0.0s\n",
            "[CV 1/5] END C=0.01, max_iter=100, penalty=l1, solver=lbfgs;, score=nan total time=   0.0s\n",
            "[CV 2/5] END C=0.01, max_iter=100, penalty=l1, solver=lbfgs;, score=nan total time=   0.0s\n",
            "[CV 3/5] END C=0.01, max_iter=100, penalty=l1, solver=lbfgs;, score=nan total time=   0.0s\n",
            "[CV 4/5] END C=0.01, max_iter=100, penalty=l1, solver=lbfgs;, score=nan total time=   0.0s\n",
            "[CV 5/5] END C=0.01, max_iter=100, penalty=l1, solver=lbfgs;, score=nan total time=   0.0s\n",
            "[CV 1/5] END C=0.01, max_iter=100, penalty=l1, solver=liblinear;, score=0.591 total time=   0.7s\n",
            "[CV 2/5] END C=0.01, max_iter=100, penalty=l1, solver=liblinear;, score=0.587 total time=   0.7s\n",
            "[CV 3/5] END C=0.01, max_iter=100, penalty=l1, solver=liblinear;, score=0.577 total time=   0.8s\n",
            "[CV 4/5] END C=0.01, max_iter=100, penalty=l1, solver=liblinear;, score=0.588 total time=   0.7s\n",
            "[CV 5/5] END C=0.01, max_iter=100, penalty=l1, solver=liblinear;, score=0.585 total time=   0.7s\n",
            "[CV 1/5] END C=0.01, max_iter=100, penalty=l1, solver=sag;, score=nan total time=   0.0s\n",
            "[CV 2/5] END C=0.01, max_iter=100, penalty=l1, solver=sag;, score=nan total time=   0.0s\n",
            "[CV 3/5] END C=0.01, max_iter=100, penalty=l1, solver=sag;, score=nan total time=   0.0s\n",
            "[CV 4/5] END C=0.01, max_iter=100, penalty=l1, solver=sag;, score=nan total time=   0.0s\n",
            "[CV 5/5] END C=0.01, max_iter=100, penalty=l1, solver=sag;, score=nan total time=   0.0s\n"
          ]
        },
        {
          "output_type": "stream",
          "name": "stderr",
          "text": [
            "/usr/local/lib/python3.7/dist-packages/sklearn/linear_model/_sag.py:354: ConvergenceWarning: The max_iter was reached which means the coef_ did not converge\n",
            "  ConvergenceWarning,\n"
          ]
        },
        {
          "output_type": "stream",
          "name": "stdout",
          "text": [
            "[CV 1/5] END C=0.01, max_iter=100, penalty=l1, solver=saga;, score=0.586 total time=   2.8s\n"
          ]
        },
        {
          "output_type": "stream",
          "name": "stderr",
          "text": [
            "/usr/local/lib/python3.7/dist-packages/sklearn/linear_model/_sag.py:354: ConvergenceWarning: The max_iter was reached which means the coef_ did not converge\n",
            "  ConvergenceWarning,\n"
          ]
        },
        {
          "output_type": "stream",
          "name": "stdout",
          "text": [
            "[CV 2/5] END C=0.01, max_iter=100, penalty=l1, solver=saga;, score=0.584 total time=   2.8s\n"
          ]
        },
        {
          "output_type": "stream",
          "name": "stderr",
          "text": [
            "/usr/local/lib/python3.7/dist-packages/sklearn/linear_model/_sag.py:354: ConvergenceWarning: The max_iter was reached which means the coef_ did not converge\n",
            "  ConvergenceWarning,\n"
          ]
        },
        {
          "output_type": "stream",
          "name": "stdout",
          "text": [
            "[CV 3/5] END C=0.01, max_iter=100, penalty=l1, solver=saga;, score=0.586 total time=   2.9s\n"
          ]
        },
        {
          "output_type": "stream",
          "name": "stderr",
          "text": [
            "/usr/local/lib/python3.7/dist-packages/sklearn/linear_model/_sag.py:354: ConvergenceWarning: The max_iter was reached which means the coef_ did not converge\n",
            "  ConvergenceWarning,\n"
          ]
        },
        {
          "output_type": "stream",
          "name": "stdout",
          "text": [
            "[CV 4/5] END C=0.01, max_iter=100, penalty=l1, solver=saga;, score=0.584 total time=   2.7s\n"
          ]
        },
        {
          "output_type": "stream",
          "name": "stderr",
          "text": [
            "/usr/local/lib/python3.7/dist-packages/sklearn/linear_model/_sag.py:354: ConvergenceWarning: The max_iter was reached which means the coef_ did not converge\n",
            "  ConvergenceWarning,\n"
          ]
        },
        {
          "output_type": "stream",
          "name": "stdout",
          "text": [
            "[CV 5/5] END C=0.01, max_iter=100, penalty=l1, solver=saga;, score=0.590 total time=   2.8s\n",
            "[CV 1/5] END C=0.01, max_iter=100, penalty=l2, solver=newton-cg;, score=0.674 total time=  11.4s\n",
            "[CV 2/5] END C=0.01, max_iter=100, penalty=l2, solver=newton-cg;, score=0.682 total time=  12.8s\n",
            "[CV 3/5] END C=0.01, max_iter=100, penalty=l2, solver=newton-cg;, score=0.697 total time=  11.8s\n",
            "[CV 4/5] END C=0.01, max_iter=100, penalty=l2, solver=newton-cg;, score=0.696 total time=  11.7s\n",
            "[CV 5/5] END C=0.01, max_iter=100, penalty=l2, solver=newton-cg;, score=0.691 total time=  11.7s\n",
            "[CV 1/5] END C=0.01, max_iter=100, penalty=l2, solver=lbfgs;, score=0.674 total time=   8.3s\n",
            "[CV 2/5] END C=0.01, max_iter=100, penalty=l2, solver=lbfgs;, score=0.682 total time=   8.3s\n",
            "[CV 3/5] END C=0.01, max_iter=100, penalty=l2, solver=lbfgs;, score=0.697 total time=   8.1s\n",
            "[CV 4/5] END C=0.01, max_iter=100, penalty=l2, solver=lbfgs;, score=0.696 total time=   8.6s\n",
            "[CV 5/5] END C=0.01, max_iter=100, penalty=l2, solver=lbfgs;, score=0.691 total time=   7.8s\n",
            "[CV 1/5] END C=0.01, max_iter=100, penalty=l2, solver=liblinear;, score=0.660 total time=   0.5s\n",
            "[CV 2/5] END C=0.01, max_iter=100, penalty=l2, solver=liblinear;, score=0.665 total time=   0.5s\n",
            "[CV 3/5] END C=0.01, max_iter=100, penalty=l2, solver=liblinear;, score=0.686 total time=   0.4s\n",
            "[CV 4/5] END C=0.01, max_iter=100, penalty=l2, solver=liblinear;, score=0.681 total time=   0.4s\n",
            "[CV 5/5] END C=0.01, max_iter=100, penalty=l2, solver=liblinear;, score=0.680 total time=   0.5s\n"
          ]
        },
        {
          "output_type": "stream",
          "name": "stderr",
          "text": [
            "/usr/local/lib/python3.7/dist-packages/sklearn/linear_model/_sag.py:354: ConvergenceWarning: The max_iter was reached which means the coef_ did not converge\n",
            "  ConvergenceWarning,\n"
          ]
        },
        {
          "output_type": "stream",
          "name": "stdout",
          "text": [
            "[CV 1/5] END C=0.01, max_iter=100, penalty=l2, solver=sag;, score=0.674 total time=   1.9s\n"
          ]
        },
        {
          "output_type": "stream",
          "name": "stderr",
          "text": [
            "/usr/local/lib/python3.7/dist-packages/sklearn/linear_model/_sag.py:354: ConvergenceWarning: The max_iter was reached which means the coef_ did not converge\n",
            "  ConvergenceWarning,\n"
          ]
        },
        {
          "output_type": "stream",
          "name": "stdout",
          "text": [
            "[CV 2/5] END C=0.01, max_iter=100, penalty=l2, solver=sag;, score=0.682 total time=   1.8s\n"
          ]
        },
        {
          "output_type": "stream",
          "name": "stderr",
          "text": [
            "/usr/local/lib/python3.7/dist-packages/sklearn/linear_model/_sag.py:354: ConvergenceWarning: The max_iter was reached which means the coef_ did not converge\n",
            "  ConvergenceWarning,\n"
          ]
        },
        {
          "output_type": "stream",
          "name": "stdout",
          "text": [
            "[CV 3/5] END C=0.01, max_iter=100, penalty=l2, solver=sag;, score=0.696 total time=   1.9s\n"
          ]
        },
        {
          "output_type": "stream",
          "name": "stderr",
          "text": [
            "/usr/local/lib/python3.7/dist-packages/sklearn/linear_model/_sag.py:354: ConvergenceWarning: The max_iter was reached which means the coef_ did not converge\n",
            "  ConvergenceWarning,\n"
          ]
        },
        {
          "output_type": "stream",
          "name": "stdout",
          "text": [
            "[CV 4/5] END C=0.01, max_iter=100, penalty=l2, solver=sag;, score=0.696 total time=   2.0s\n"
          ]
        },
        {
          "output_type": "stream",
          "name": "stderr",
          "text": [
            "/usr/local/lib/python3.7/dist-packages/sklearn/linear_model/_sag.py:354: ConvergenceWarning: The max_iter was reached which means the coef_ did not converge\n",
            "  ConvergenceWarning,\n"
          ]
        },
        {
          "output_type": "stream",
          "name": "stdout",
          "text": [
            "[CV 5/5] END C=0.01, max_iter=100, penalty=l2, solver=sag;, score=0.691 total time=   1.8s\n"
          ]
        },
        {
          "output_type": "stream",
          "name": "stderr",
          "text": [
            "/usr/local/lib/python3.7/dist-packages/sklearn/linear_model/_sag.py:354: ConvergenceWarning: The max_iter was reached which means the coef_ did not converge\n",
            "  ConvergenceWarning,\n"
          ]
        },
        {
          "output_type": "stream",
          "name": "stdout",
          "text": [
            "[CV 1/5] END C=0.01, max_iter=100, penalty=l2, solver=saga;, score=0.676 total time=   2.0s\n"
          ]
        },
        {
          "output_type": "stream",
          "name": "stderr",
          "text": [
            "/usr/local/lib/python3.7/dist-packages/sklearn/linear_model/_sag.py:354: ConvergenceWarning: The max_iter was reached which means the coef_ did not converge\n",
            "  ConvergenceWarning,\n"
          ]
        },
        {
          "output_type": "stream",
          "name": "stdout",
          "text": [
            "[CV 2/5] END C=0.01, max_iter=100, penalty=l2, solver=saga;, score=0.684 total time=   2.0s\n"
          ]
        },
        {
          "output_type": "stream",
          "name": "stderr",
          "text": [
            "/usr/local/lib/python3.7/dist-packages/sklearn/linear_model/_sag.py:354: ConvergenceWarning: The max_iter was reached which means the coef_ did not converge\n",
            "  ConvergenceWarning,\n"
          ]
        },
        {
          "output_type": "stream",
          "name": "stdout",
          "text": [
            "[CV 3/5] END C=0.01, max_iter=100, penalty=l2, solver=saga;, score=0.697 total time=   2.0s\n"
          ]
        },
        {
          "output_type": "stream",
          "name": "stderr",
          "text": [
            "/usr/local/lib/python3.7/dist-packages/sklearn/linear_model/_sag.py:354: ConvergenceWarning: The max_iter was reached which means the coef_ did not converge\n",
            "  ConvergenceWarning,\n"
          ]
        },
        {
          "output_type": "stream",
          "name": "stdout",
          "text": [
            "[CV 4/5] END C=0.01, max_iter=100, penalty=l2, solver=saga;, score=0.696 total time=   2.0s\n"
          ]
        },
        {
          "output_type": "stream",
          "name": "stderr",
          "text": [
            "/usr/local/lib/python3.7/dist-packages/sklearn/linear_model/_sag.py:354: ConvergenceWarning: The max_iter was reached which means the coef_ did not converge\n",
            "  ConvergenceWarning,\n"
          ]
        },
        {
          "output_type": "stream",
          "name": "stdout",
          "text": [
            "[CV 5/5] END C=0.01, max_iter=100, penalty=l2, solver=saga;, score=0.690 total time=   2.0s\n",
            "[CV 1/5] END C=0.01, max_iter=200, penalty=l1, solver=newton-cg;, score=nan total time=   0.0s\n",
            "[CV 2/5] END C=0.01, max_iter=200, penalty=l1, solver=newton-cg;, score=nan total time=   0.0s\n",
            "[CV 3/5] END C=0.01, max_iter=200, penalty=l1, solver=newton-cg;, score=nan total time=   0.0s\n",
            "[CV 4/5] END C=0.01, max_iter=200, penalty=l1, solver=newton-cg;, score=nan total time=   0.0s\n",
            "[CV 5/5] END C=0.01, max_iter=200, penalty=l1, solver=newton-cg;, score=nan total time=   0.0s\n",
            "[CV 1/5] END C=0.01, max_iter=200, penalty=l1, solver=lbfgs;, score=nan total time=   0.0s\n",
            "[CV 2/5] END C=0.01, max_iter=200, penalty=l1, solver=lbfgs;, score=nan total time=   0.0s\n",
            "[CV 3/5] END C=0.01, max_iter=200, penalty=l1, solver=lbfgs;, score=nan total time=   0.0s\n",
            "[CV 4/5] END C=0.01, max_iter=200, penalty=l1, solver=lbfgs;, score=nan total time=   0.0s\n",
            "[CV 5/5] END C=0.01, max_iter=200, penalty=l1, solver=lbfgs;, score=nan total time=   0.0s\n",
            "[CV 1/5] END C=0.01, max_iter=200, penalty=l1, solver=liblinear;, score=0.591 total time=   0.7s\n",
            "[CV 2/5] END C=0.01, max_iter=200, penalty=l1, solver=liblinear;, score=0.587 total time=   0.6s\n",
            "[CV 3/5] END C=0.01, max_iter=200, penalty=l1, solver=liblinear;, score=0.577 total time=   0.6s\n",
            "[CV 4/5] END C=0.01, max_iter=200, penalty=l1, solver=liblinear;, score=0.588 total time=   0.7s\n",
            "[CV 5/5] END C=0.01, max_iter=200, penalty=l1, solver=liblinear;, score=0.585 total time=   0.6s\n",
            "[CV 1/5] END C=0.01, max_iter=200, penalty=l1, solver=sag;, score=nan total time=   0.0s\n",
            "[CV 2/5] END C=0.01, max_iter=200, penalty=l1, solver=sag;, score=nan total time=   0.0s\n",
            "[CV 3/5] END C=0.01, max_iter=200, penalty=l1, solver=sag;, score=nan total time=   0.0s\n",
            "[CV 4/5] END C=0.01, max_iter=200, penalty=l1, solver=sag;, score=nan total time=   0.0s\n",
            "[CV 5/5] END C=0.01, max_iter=200, penalty=l1, solver=sag;, score=nan total time=   0.0s\n"
          ]
        },
        {
          "output_type": "stream",
          "name": "stderr",
          "text": [
            "/usr/local/lib/python3.7/dist-packages/sklearn/linear_model/_sag.py:354: ConvergenceWarning: The max_iter was reached which means the coef_ did not converge\n",
            "  ConvergenceWarning,\n"
          ]
        },
        {
          "output_type": "stream",
          "name": "stdout",
          "text": [
            "[CV 1/5] END C=0.01, max_iter=200, penalty=l1, solver=saga;, score=0.586 total time=   5.3s\n"
          ]
        },
        {
          "output_type": "stream",
          "name": "stderr",
          "text": [
            "/usr/local/lib/python3.7/dist-packages/sklearn/linear_model/_sag.py:354: ConvergenceWarning: The max_iter was reached which means the coef_ did not converge\n",
            "  ConvergenceWarning,\n"
          ]
        },
        {
          "output_type": "stream",
          "name": "stdout",
          "text": [
            "[CV 2/5] END C=0.01, max_iter=200, penalty=l1, solver=saga;, score=0.584 total time=   5.3s\n"
          ]
        },
        {
          "output_type": "stream",
          "name": "stderr",
          "text": [
            "/usr/local/lib/python3.7/dist-packages/sklearn/linear_model/_sag.py:354: ConvergenceWarning: The max_iter was reached which means the coef_ did not converge\n",
            "  ConvergenceWarning,\n"
          ]
        },
        {
          "output_type": "stream",
          "name": "stdout",
          "text": [
            "[CV 3/5] END C=0.01, max_iter=200, penalty=l1, solver=saga;, score=0.585 total time=   5.3s\n"
          ]
        },
        {
          "output_type": "stream",
          "name": "stderr",
          "text": [
            "/usr/local/lib/python3.7/dist-packages/sklearn/linear_model/_sag.py:354: ConvergenceWarning: The max_iter was reached which means the coef_ did not converge\n",
            "  ConvergenceWarning,\n"
          ]
        },
        {
          "output_type": "stream",
          "name": "stdout",
          "text": [
            "[CV 4/5] END C=0.01, max_iter=200, penalty=l1, solver=saga;, score=0.584 total time=   5.4s\n"
          ]
        },
        {
          "output_type": "stream",
          "name": "stderr",
          "text": [
            "/usr/local/lib/python3.7/dist-packages/sklearn/linear_model/_sag.py:354: ConvergenceWarning: The max_iter was reached which means the coef_ did not converge\n",
            "  ConvergenceWarning,\n"
          ]
        },
        {
          "output_type": "stream",
          "name": "stdout",
          "text": [
            "[CV 5/5] END C=0.01, max_iter=200, penalty=l1, solver=saga;, score=0.590 total time=   5.3s\n",
            "[CV 1/5] END C=0.01, max_iter=200, penalty=l2, solver=newton-cg;, score=0.674 total time=  11.4s\n",
            "[CV 2/5] END C=0.01, max_iter=200, penalty=l2, solver=newton-cg;, score=0.682 total time=  12.6s\n",
            "[CV 3/5] END C=0.01, max_iter=200, penalty=l2, solver=newton-cg;, score=0.697 total time=  11.5s\n",
            "[CV 4/5] END C=0.01, max_iter=200, penalty=l2, solver=newton-cg;, score=0.696 total time=  11.6s\n",
            "[CV 5/5] END C=0.01, max_iter=200, penalty=l2, solver=newton-cg;, score=0.691 total time=  11.5s\n",
            "[CV 1/5] END C=0.01, max_iter=200, penalty=l2, solver=lbfgs;, score=0.674 total time=   8.2s\n",
            "[CV 2/5] END C=0.01, max_iter=200, penalty=l2, solver=lbfgs;, score=0.682 total time=   8.6s\n",
            "[CV 3/5] END C=0.01, max_iter=200, penalty=l2, solver=lbfgs;, score=0.697 total time=   8.1s\n",
            "[CV 4/5] END C=0.01, max_iter=200, penalty=l2, solver=lbfgs;, score=0.696 total time=   8.6s\n",
            "[CV 5/5] END C=0.01, max_iter=200, penalty=l2, solver=lbfgs;, score=0.691 total time=   8.3s\n",
            "[CV 1/5] END C=0.01, max_iter=200, penalty=l2, solver=liblinear;, score=0.660 total time=   0.4s\n",
            "[CV 2/5] END C=0.01, max_iter=200, penalty=l2, solver=liblinear;, score=0.665 total time=   0.5s\n",
            "[CV 3/5] END C=0.01, max_iter=200, penalty=l2, solver=liblinear;, score=0.686 total time=   0.4s\n",
            "[CV 4/5] END C=0.01, max_iter=200, penalty=l2, solver=liblinear;, score=0.681 total time=   0.4s\n",
            "[CV 5/5] END C=0.01, max_iter=200, penalty=l2, solver=liblinear;, score=0.680 total time=   0.5s\n",
            "[CV 1/5] END C=0.01, max_iter=200, penalty=l2, solver=sag;, score=0.674 total time=   2.3s\n",
            "[CV 2/5] END C=0.01, max_iter=200, penalty=l2, solver=sag;, score=0.682 total time=   2.1s\n",
            "[CV 3/5] END C=0.01, max_iter=200, penalty=l2, solver=sag;, score=0.697 total time=   2.1s\n",
            "[CV 4/5] END C=0.01, max_iter=200, penalty=l2, solver=sag;, score=0.696 total time=   2.1s\n",
            "[CV 5/5] END C=0.01, max_iter=200, penalty=l2, solver=sag;, score=0.691 total time=   2.2s\n"
          ]
        },
        {
          "output_type": "stream",
          "name": "stderr",
          "text": [
            "/usr/local/lib/python3.7/dist-packages/sklearn/linear_model/_sag.py:354: ConvergenceWarning: The max_iter was reached which means the coef_ did not converge\n",
            "  ConvergenceWarning,\n"
          ]
        },
        {
          "output_type": "stream",
          "name": "stdout",
          "text": [
            "[CV 1/5] END C=0.01, max_iter=200, penalty=l2, solver=saga;, score=0.676 total time=   3.9s\n"
          ]
        },
        {
          "output_type": "stream",
          "name": "stderr",
          "text": [
            "/usr/local/lib/python3.7/dist-packages/sklearn/linear_model/_sag.py:354: ConvergenceWarning: The max_iter was reached which means the coef_ did not converge\n",
            "  ConvergenceWarning,\n"
          ]
        },
        {
          "output_type": "stream",
          "name": "stdout",
          "text": [
            "[CV 2/5] END C=0.01, max_iter=200, penalty=l2, solver=saga;, score=0.682 total time=   3.9s\n"
          ]
        },
        {
          "output_type": "stream",
          "name": "stderr",
          "text": [
            "/usr/local/lib/python3.7/dist-packages/sklearn/linear_model/_sag.py:354: ConvergenceWarning: The max_iter was reached which means the coef_ did not converge\n",
            "  ConvergenceWarning,\n"
          ]
        },
        {
          "output_type": "stream",
          "name": "stdout",
          "text": [
            "[CV 3/5] END C=0.01, max_iter=200, penalty=l2, solver=saga;, score=0.696 total time=   3.9s\n"
          ]
        },
        {
          "output_type": "stream",
          "name": "stderr",
          "text": [
            "/usr/local/lib/python3.7/dist-packages/sklearn/linear_model/_sag.py:354: ConvergenceWarning: The max_iter was reached which means the coef_ did not converge\n",
            "  ConvergenceWarning,\n"
          ]
        },
        {
          "output_type": "stream",
          "name": "stdout",
          "text": [
            "[CV 4/5] END C=0.01, max_iter=200, penalty=l2, solver=saga;, score=0.698 total time=   3.9s\n"
          ]
        },
        {
          "output_type": "stream",
          "name": "stderr",
          "text": [
            "/usr/local/lib/python3.7/dist-packages/sklearn/linear_model/_sag.py:354: ConvergenceWarning: The max_iter was reached which means the coef_ did not converge\n",
            "  ConvergenceWarning,\n"
          ]
        },
        {
          "output_type": "stream",
          "name": "stdout",
          "text": [
            "[CV 5/5] END C=0.01, max_iter=200, penalty=l2, solver=saga;, score=0.691 total time=   4.0s\n",
            "[CV 1/5] END C=0.01, max_iter=300, penalty=l1, solver=newton-cg;, score=nan total time=   0.0s\n",
            "[CV 2/5] END C=0.01, max_iter=300, penalty=l1, solver=newton-cg;, score=nan total time=   0.0s\n",
            "[CV 3/5] END C=0.01, max_iter=300, penalty=l1, solver=newton-cg;, score=nan total time=   0.0s\n",
            "[CV 4/5] END C=0.01, max_iter=300, penalty=l1, solver=newton-cg;, score=nan total time=   0.0s\n",
            "[CV 5/5] END C=0.01, max_iter=300, penalty=l1, solver=newton-cg;, score=nan total time=   0.0s\n",
            "[CV 1/5] END C=0.01, max_iter=300, penalty=l1, solver=lbfgs;, score=nan total time=   0.0s\n",
            "[CV 2/5] END C=0.01, max_iter=300, penalty=l1, solver=lbfgs;, score=nan total time=   0.0s\n",
            "[CV 3/5] END C=0.01, max_iter=300, penalty=l1, solver=lbfgs;, score=nan total time=   0.0s\n",
            "[CV 4/5] END C=0.01, max_iter=300, penalty=l1, solver=lbfgs;, score=nan total time=   0.0s\n",
            "[CV 5/5] END C=0.01, max_iter=300, penalty=l1, solver=lbfgs;, score=nan total time=   0.0s\n",
            "[CV 1/5] END C=0.01, max_iter=300, penalty=l1, solver=liblinear;, score=0.591 total time=   0.6s\n",
            "[CV 2/5] END C=0.01, max_iter=300, penalty=l1, solver=liblinear;, score=0.587 total time=   0.6s\n",
            "[CV 3/5] END C=0.01, max_iter=300, penalty=l1, solver=liblinear;, score=0.577 total time=   0.6s\n",
            "[CV 4/5] END C=0.01, max_iter=300, penalty=l1, solver=liblinear;, score=0.588 total time=   0.7s\n",
            "[CV 5/5] END C=0.01, max_iter=300, penalty=l1, solver=liblinear;, score=0.585 total time=   0.5s\n",
            "[CV 1/5] END C=0.01, max_iter=300, penalty=l1, solver=sag;, score=nan total time=   0.0s\n",
            "[CV 2/5] END C=0.01, max_iter=300, penalty=l1, solver=sag;, score=nan total time=   0.0s\n",
            "[CV 3/5] END C=0.01, max_iter=300, penalty=l1, solver=sag;, score=nan total time=   0.0s\n",
            "[CV 4/5] END C=0.01, max_iter=300, penalty=l1, solver=sag;, score=nan total time=   0.0s\n",
            "[CV 5/5] END C=0.01, max_iter=300, penalty=l1, solver=sag;, score=nan total time=   0.0s\n",
            "[CV 1/5] END C=0.01, max_iter=300, penalty=l1, solver=saga;, score=0.587 total time=   6.8s\n",
            "[CV 2/5] END C=0.01, max_iter=300, penalty=l1, solver=saga;, score=0.584 total time=   7.2s\n",
            "[CV 3/5] END C=0.01, max_iter=300, penalty=l1, solver=saga;, score=0.585 total time=   7.6s\n",
            "[CV 4/5] END C=0.01, max_iter=300, penalty=l1, solver=saga;, score=0.585 total time=   6.7s\n",
            "[CV 5/5] END C=0.01, max_iter=300, penalty=l1, solver=saga;, score=0.591 total time=   7.1s\n",
            "[CV 1/5] END C=0.01, max_iter=300, penalty=l2, solver=newton-cg;, score=0.674 total time=  11.5s\n",
            "[CV 2/5] END C=0.01, max_iter=300, penalty=l2, solver=newton-cg;, score=0.682 total time=  12.8s\n",
            "[CV 3/5] END C=0.01, max_iter=300, penalty=l2, solver=newton-cg;, score=0.697 total time=  11.6s\n",
            "[CV 4/5] END C=0.01, max_iter=300, penalty=l2, solver=newton-cg;, score=0.696 total time=  11.4s\n",
            "[CV 5/5] END C=0.01, max_iter=300, penalty=l2, solver=newton-cg;, score=0.691 total time=  11.6s\n",
            "[CV 1/5] END C=0.01, max_iter=300, penalty=l2, solver=lbfgs;, score=0.674 total time=   8.1s\n",
            "[CV 2/5] END C=0.01, max_iter=300, penalty=l2, solver=lbfgs;, score=0.682 total time=   8.5s\n",
            "[CV 3/5] END C=0.01, max_iter=300, penalty=l2, solver=lbfgs;, score=0.697 total time=   8.2s\n",
            "[CV 4/5] END C=0.01, max_iter=300, penalty=l2, solver=lbfgs;, score=0.696 total time=   8.8s\n",
            "[CV 5/5] END C=0.01, max_iter=300, penalty=l2, solver=lbfgs;, score=0.691 total time=   8.2s\n",
            "[CV 1/5] END C=0.01, max_iter=300, penalty=l2, solver=liblinear;, score=0.660 total time=   0.5s\n",
            "[CV 2/5] END C=0.01, max_iter=300, penalty=l2, solver=liblinear;, score=0.665 total time=   0.5s\n",
            "[CV 3/5] END C=0.01, max_iter=300, penalty=l2, solver=liblinear;, score=0.686 total time=   0.4s\n",
            "[CV 4/5] END C=0.01, max_iter=300, penalty=l2, solver=liblinear;, score=0.681 total time=   0.5s\n",
            "[CV 5/5] END C=0.01, max_iter=300, penalty=l2, solver=liblinear;, score=0.680 total time=   0.5s\n",
            "[CV 1/5] END C=0.01, max_iter=300, penalty=l2, solver=sag;, score=0.674 total time=   2.3s\n",
            "[CV 2/5] END C=0.01, max_iter=300, penalty=l2, solver=sag;, score=0.682 total time=   2.2s\n",
            "[CV 3/5] END C=0.01, max_iter=300, penalty=l2, solver=sag;, score=0.697 total time=   2.3s\n",
            "[CV 4/5] END C=0.01, max_iter=300, penalty=l2, solver=sag;, score=0.696 total time=   2.2s\n",
            "[CV 5/5] END C=0.01, max_iter=300, penalty=l2, solver=sag;, score=0.691 total time=   2.3s\n"
          ]
        },
        {
          "output_type": "stream",
          "name": "stderr",
          "text": [
            "/usr/local/lib/python3.7/dist-packages/sklearn/linear_model/_sag.py:354: ConvergenceWarning: The max_iter was reached which means the coef_ did not converge\n",
            "  ConvergenceWarning,\n"
          ]
        },
        {
          "output_type": "stream",
          "name": "stdout",
          "text": [
            "[CV 1/5] END C=0.01, max_iter=300, penalty=l2, solver=saga;, score=0.674 total time=   6.0s\n"
          ]
        },
        {
          "output_type": "stream",
          "name": "stderr",
          "text": [
            "/usr/local/lib/python3.7/dist-packages/sklearn/linear_model/_sag.py:354: ConvergenceWarning: The max_iter was reached which means the coef_ did not converge\n",
            "  ConvergenceWarning,\n"
          ]
        },
        {
          "output_type": "stream",
          "name": "stdout",
          "text": [
            "[CV 2/5] END C=0.01, max_iter=300, penalty=l2, solver=saga;, score=0.683 total time=   6.1s\n"
          ]
        },
        {
          "output_type": "stream",
          "name": "stderr",
          "text": [
            "/usr/local/lib/python3.7/dist-packages/sklearn/linear_model/_sag.py:354: ConvergenceWarning: The max_iter was reached which means the coef_ did not converge\n",
            "  ConvergenceWarning,\n"
          ]
        },
        {
          "output_type": "stream",
          "name": "stdout",
          "text": [
            "[CV 3/5] END C=0.01, max_iter=300, penalty=l2, solver=saga;, score=0.697 total time=   6.2s\n"
          ]
        },
        {
          "output_type": "stream",
          "name": "stderr",
          "text": [
            "/usr/local/lib/python3.7/dist-packages/sklearn/linear_model/_sag.py:354: ConvergenceWarning: The max_iter was reached which means the coef_ did not converge\n",
            "  ConvergenceWarning,\n"
          ]
        },
        {
          "output_type": "stream",
          "name": "stdout",
          "text": [
            "[CV 4/5] END C=0.01, max_iter=300, penalty=l2, solver=saga;, score=0.696 total time=   5.9s\n"
          ]
        },
        {
          "output_type": "stream",
          "name": "stderr",
          "text": [
            "/usr/local/lib/python3.7/dist-packages/sklearn/linear_model/_sag.py:354: ConvergenceWarning: The max_iter was reached which means the coef_ did not converge\n",
            "  ConvergenceWarning,\n"
          ]
        },
        {
          "output_type": "stream",
          "name": "stdout",
          "text": [
            "[CV 5/5] END C=0.01, max_iter=300, penalty=l2, solver=saga;, score=0.691 total time=   5.9s\n",
            "[CV 1/5] END C=0.01, max_iter=400, penalty=l1, solver=newton-cg;, score=nan total time=   0.0s\n",
            "[CV 2/5] END C=0.01, max_iter=400, penalty=l1, solver=newton-cg;, score=nan total time=   0.0s\n",
            "[CV 3/5] END C=0.01, max_iter=400, penalty=l1, solver=newton-cg;, score=nan total time=   0.0s\n",
            "[CV 4/5] END C=0.01, max_iter=400, penalty=l1, solver=newton-cg;, score=nan total time=   0.0s\n",
            "[CV 5/5] END C=0.01, max_iter=400, penalty=l1, solver=newton-cg;, score=nan total time=   0.0s\n",
            "[CV 1/5] END C=0.01, max_iter=400, penalty=l1, solver=lbfgs;, score=nan total time=   0.0s\n",
            "[CV 2/5] END C=0.01, max_iter=400, penalty=l1, solver=lbfgs;, score=nan total time=   0.0s\n",
            "[CV 3/5] END C=0.01, max_iter=400, penalty=l1, solver=lbfgs;, score=nan total time=   0.0s\n",
            "[CV 4/5] END C=0.01, max_iter=400, penalty=l1, solver=lbfgs;, score=nan total time=   0.0s\n",
            "[CV 5/5] END C=0.01, max_iter=400, penalty=l1, solver=lbfgs;, score=nan total time=   0.0s\n",
            "[CV 1/5] END C=0.01, max_iter=400, penalty=l1, solver=liblinear;, score=0.591 total time=   0.7s\n",
            "[CV 2/5] END C=0.01, max_iter=400, penalty=l1, solver=liblinear;, score=0.587 total time=   0.5s\n",
            "[CV 3/5] END C=0.01, max_iter=400, penalty=l1, solver=liblinear;, score=0.577 total time=   0.8s\n",
            "[CV 4/5] END C=0.01, max_iter=400, penalty=l1, solver=liblinear;, score=0.588 total time=   0.7s\n",
            "[CV 5/5] END C=0.01, max_iter=400, penalty=l1, solver=liblinear;, score=0.585 total time=   0.7s\n",
            "[CV 1/5] END C=0.01, max_iter=400, penalty=l1, solver=sag;, score=nan total time=   0.0s\n",
            "[CV 2/5] END C=0.01, max_iter=400, penalty=l1, solver=sag;, score=nan total time=   0.0s\n",
            "[CV 3/5] END C=0.01, max_iter=400, penalty=l1, solver=sag;, score=nan total time=   0.0s\n",
            "[CV 4/5] END C=0.01, max_iter=400, penalty=l1, solver=sag;, score=nan total time=   0.0s\n",
            "[CV 5/5] END C=0.01, max_iter=400, penalty=l1, solver=sag;, score=nan total time=   0.0s\n",
            "[CV 1/5] END C=0.01, max_iter=400, penalty=l1, solver=saga;, score=0.587 total time=   6.8s\n",
            "[CV 2/5] END C=0.01, max_iter=400, penalty=l1, solver=saga;, score=0.584 total time=   7.0s\n",
            "[CV 3/5] END C=0.01, max_iter=400, penalty=l1, solver=saga;, score=0.585 total time=   7.3s\n",
            "[CV 4/5] END C=0.01, max_iter=400, penalty=l1, solver=saga;, score=0.584 total time=   6.3s\n",
            "[CV 5/5] END C=0.01, max_iter=400, penalty=l1, solver=saga;, score=0.591 total time=   6.7s\n",
            "[CV 1/5] END C=0.01, max_iter=400, penalty=l2, solver=newton-cg;, score=0.674 total time=  11.2s\n",
            "[CV 2/5] END C=0.01, max_iter=400, penalty=l2, solver=newton-cg;, score=0.682 total time=  12.7s\n",
            "[CV 3/5] END C=0.01, max_iter=400, penalty=l2, solver=newton-cg;, score=0.697 total time=  11.6s\n",
            "[CV 4/5] END C=0.01, max_iter=400, penalty=l2, solver=newton-cg;, score=0.696 total time=  11.4s\n",
            "[CV 5/5] END C=0.01, max_iter=400, penalty=l2, solver=newton-cg;, score=0.691 total time=  11.5s\n",
            "[CV 1/5] END C=0.01, max_iter=400, penalty=l2, solver=lbfgs;, score=0.674 total time=   7.8s\n",
            "[CV 2/5] END C=0.01, max_iter=400, penalty=l2, solver=lbfgs;, score=0.682 total time=   8.7s\n",
            "[CV 3/5] END C=0.01, max_iter=400, penalty=l2, solver=lbfgs;, score=0.697 total time=   8.4s\n",
            "[CV 4/5] END C=0.01, max_iter=400, penalty=l2, solver=lbfgs;, score=0.696 total time=   8.5s\n",
            "[CV 5/5] END C=0.01, max_iter=400, penalty=l2, solver=lbfgs;, score=0.691 total time=   8.1s\n",
            "[CV 1/5] END C=0.01, max_iter=400, penalty=l2, solver=liblinear;, score=0.660 total time=   0.4s\n",
            "[CV 2/5] END C=0.01, max_iter=400, penalty=l2, solver=liblinear;, score=0.665 total time=   0.4s\n",
            "[CV 3/5] END C=0.01, max_iter=400, penalty=l2, solver=liblinear;, score=0.686 total time=   0.5s\n",
            "[CV 4/5] END C=0.01, max_iter=400, penalty=l2, solver=liblinear;, score=0.681 total time=   0.4s\n",
            "[CV 5/5] END C=0.01, max_iter=400, penalty=l2, solver=liblinear;, score=0.680 total time=   0.5s\n",
            "[CV 1/5] END C=0.01, max_iter=400, penalty=l2, solver=sag;, score=0.674 total time=   2.2s\n",
            "[CV 2/5] END C=0.01, max_iter=400, penalty=l2, solver=sag;, score=0.682 total time=   2.1s\n",
            "[CV 3/5] END C=0.01, max_iter=400, penalty=l2, solver=sag;, score=0.697 total time=   2.1s\n",
            "[CV 4/5] END C=0.01, max_iter=400, penalty=l2, solver=sag;, score=0.696 total time=   2.1s\n",
            "[CV 5/5] END C=0.01, max_iter=400, penalty=l2, solver=sag;, score=0.691 total time=   2.2s\n",
            "[CV 1/5] END C=0.01, max_iter=400, penalty=l2, solver=saga;, score=0.674 total time=   7.2s\n",
            "[CV 2/5] END C=0.01, max_iter=400, penalty=l2, solver=saga;, score=0.683 total time=   6.8s\n",
            "[CV 3/5] END C=0.01, max_iter=400, penalty=l2, solver=saga;, score=0.697 total time=   7.3s\n",
            "[CV 4/5] END C=0.01, max_iter=400, penalty=l2, solver=saga;, score=0.696 total time=   7.3s\n",
            "[CV 5/5] END C=0.01, max_iter=400, penalty=l2, solver=saga;, score=0.692 total time=   7.2s\n",
            "[CV 1/5] END C=0.01, max_iter=500, penalty=l1, solver=newton-cg;, score=nan total time=   0.0s\n",
            "[CV 2/5] END C=0.01, max_iter=500, penalty=l1, solver=newton-cg;, score=nan total time=   0.0s\n",
            "[CV 3/5] END C=0.01, max_iter=500, penalty=l1, solver=newton-cg;, score=nan total time=   0.0s\n",
            "[CV 4/5] END C=0.01, max_iter=500, penalty=l1, solver=newton-cg;, score=nan total time=   0.0s\n",
            "[CV 5/5] END C=0.01, max_iter=500, penalty=l1, solver=newton-cg;, score=nan total time=   0.0s\n",
            "[CV 1/5] END C=0.01, max_iter=500, penalty=l1, solver=lbfgs;, score=nan total time=   0.0s\n",
            "[CV 2/5] END C=0.01, max_iter=500, penalty=l1, solver=lbfgs;, score=nan total time=   0.0s\n",
            "[CV 3/5] END C=0.01, max_iter=500, penalty=l1, solver=lbfgs;, score=nan total time=   0.0s\n",
            "[CV 4/5] END C=0.01, max_iter=500, penalty=l1, solver=lbfgs;, score=nan total time=   0.0s\n",
            "[CV 5/5] END C=0.01, max_iter=500, penalty=l1, solver=lbfgs;, score=nan total time=   0.0s\n",
            "[CV 1/5] END C=0.01, max_iter=500, penalty=l1, solver=liblinear;, score=0.591 total time=   0.7s\n",
            "[CV 2/5] END C=0.01, max_iter=500, penalty=l1, solver=liblinear;, score=0.587 total time=   0.6s\n",
            "[CV 3/5] END C=0.01, max_iter=500, penalty=l1, solver=liblinear;, score=0.577 total time=   0.8s\n",
            "[CV 4/5] END C=0.01, max_iter=500, penalty=l1, solver=liblinear;, score=0.588 total time=   0.7s\n",
            "[CV 5/5] END C=0.01, max_iter=500, penalty=l1, solver=liblinear;, score=0.585 total time=   0.6s\n",
            "[CV 1/5] END C=0.01, max_iter=500, penalty=l1, solver=sag;, score=nan total time=   0.0s\n",
            "[CV 2/5] END C=0.01, max_iter=500, penalty=l1, solver=sag;, score=nan total time=   0.0s\n",
            "[CV 3/5] END C=0.01, max_iter=500, penalty=l1, solver=sag;, score=nan total time=   0.0s\n",
            "[CV 4/5] END C=0.01, max_iter=500, penalty=l1, solver=sag;, score=nan total time=   0.0s\n",
            "[CV 5/5] END C=0.01, max_iter=500, penalty=l1, solver=sag;, score=nan total time=   0.0s\n",
            "[CV 1/5] END C=0.01, max_iter=500, penalty=l1, solver=saga;, score=0.587 total time=   6.9s\n",
            "[CV 2/5] END C=0.01, max_iter=500, penalty=l1, solver=saga;, score=0.584 total time=   6.6s\n",
            "[CV 3/5] END C=0.01, max_iter=500, penalty=l1, solver=saga;, score=0.585 total time=   7.1s\n",
            "[CV 4/5] END C=0.01, max_iter=500, penalty=l1, solver=saga;, score=0.584 total time=   6.2s\n",
            "[CV 5/5] END C=0.01, max_iter=500, penalty=l1, solver=saga;, score=0.591 total time=   6.7s\n",
            "[CV 1/5] END C=0.01, max_iter=500, penalty=l2, solver=newton-cg;, score=0.674 total time=  11.2s\n",
            "[CV 2/5] END C=0.01, max_iter=500, penalty=l2, solver=newton-cg;, score=0.682 total time=  12.6s\n",
            "[CV 3/5] END C=0.01, max_iter=500, penalty=l2, solver=newton-cg;, score=0.697 total time=  11.6s\n",
            "[CV 4/5] END C=0.01, max_iter=500, penalty=l2, solver=newton-cg;, score=0.696 total time=  11.5s\n",
            "[CV 5/5] END C=0.01, max_iter=500, penalty=l2, solver=newton-cg;, score=0.691 total time=  11.6s\n",
            "[CV 1/5] END C=0.01, max_iter=500, penalty=l2, solver=lbfgs;, score=0.674 total time=   8.1s\n",
            "[CV 2/5] END C=0.01, max_iter=500, penalty=l2, solver=lbfgs;, score=0.682 total time=   8.6s\n",
            "[CV 3/5] END C=0.01, max_iter=500, penalty=l2, solver=lbfgs;, score=0.697 total time=   8.5s\n",
            "[CV 4/5] END C=0.01, max_iter=500, penalty=l2, solver=lbfgs;, score=0.696 total time=   8.7s\n",
            "[CV 5/5] END C=0.01, max_iter=500, penalty=l2, solver=lbfgs;, score=0.691 total time=   8.1s\n",
            "[CV 1/5] END C=0.01, max_iter=500, penalty=l2, solver=liblinear;, score=0.660 total time=   0.5s\n",
            "[CV 2/5] END C=0.01, max_iter=500, penalty=l2, solver=liblinear;, score=0.665 total time=   0.5s\n",
            "[CV 3/5] END C=0.01, max_iter=500, penalty=l2, solver=liblinear;, score=0.686 total time=   0.5s\n",
            "[CV 4/5] END C=0.01, max_iter=500, penalty=l2, solver=liblinear;, score=0.681 total time=   0.5s\n",
            "[CV 5/5] END C=0.01, max_iter=500, penalty=l2, solver=liblinear;, score=0.680 total time=   0.5s\n",
            "[CV 1/5] END C=0.01, max_iter=500, penalty=l2, solver=sag;, score=0.674 total time=   2.3s\n",
            "[CV 2/5] END C=0.01, max_iter=500, penalty=l2, solver=sag;, score=0.682 total time=   2.2s\n",
            "[CV 3/5] END C=0.01, max_iter=500, penalty=l2, solver=sag;, score=0.697 total time=   2.2s\n",
            "[CV 4/5] END C=0.01, max_iter=500, penalty=l2, solver=sag;, score=0.696 total time=   2.2s\n",
            "[CV 5/5] END C=0.01, max_iter=500, penalty=l2, solver=sag;, score=0.691 total time=   2.2s\n",
            "[CV 1/5] END C=0.01, max_iter=500, penalty=l2, solver=saga;, score=0.674 total time=   7.4s\n",
            "[CV 2/5] END C=0.01, max_iter=500, penalty=l2, solver=saga;, score=0.683 total time=   6.9s\n",
            "[CV 3/5] END C=0.01, max_iter=500, penalty=l2, solver=saga;, score=0.697 total time=   7.2s\n",
            "[CV 4/5] END C=0.01, max_iter=500, penalty=l2, solver=saga;, score=0.696 total time=   7.2s\n",
            "[CV 5/5] END C=0.01, max_iter=500, penalty=l2, solver=saga;, score=0.692 total time=   7.1s\n",
            "[CV 1/5] END C=0.01, max_iter=600, penalty=l1, solver=newton-cg;, score=nan total time=   0.0s\n",
            "[CV 2/5] END C=0.01, max_iter=600, penalty=l1, solver=newton-cg;, score=nan total time=   0.0s\n",
            "[CV 3/5] END C=0.01, max_iter=600, penalty=l1, solver=newton-cg;, score=nan total time=   0.0s\n",
            "[CV 4/5] END C=0.01, max_iter=600, penalty=l1, solver=newton-cg;, score=nan total time=   0.0s\n",
            "[CV 5/5] END C=0.01, max_iter=600, penalty=l1, solver=newton-cg;, score=nan total time=   0.0s\n",
            "[CV 1/5] END C=0.01, max_iter=600, penalty=l1, solver=lbfgs;, score=nan total time=   0.0s\n",
            "[CV 2/5] END C=0.01, max_iter=600, penalty=l1, solver=lbfgs;, score=nan total time=   0.0s\n",
            "[CV 3/5] END C=0.01, max_iter=600, penalty=l1, solver=lbfgs;, score=nan total time=   0.0s\n",
            "[CV 4/5] END C=0.01, max_iter=600, penalty=l1, solver=lbfgs;, score=nan total time=   0.0s\n",
            "[CV 5/5] END C=0.01, max_iter=600, penalty=l1, solver=lbfgs;, score=nan total time=   0.0s\n",
            "[CV 1/5] END C=0.01, max_iter=600, penalty=l1, solver=liblinear;, score=0.591 total time=   0.6s\n",
            "[CV 2/5] END C=0.01, max_iter=600, penalty=l1, solver=liblinear;, score=0.587 total time=   0.5s\n",
            "[CV 3/5] END C=0.01, max_iter=600, penalty=l1, solver=liblinear;, score=0.577 total time=   0.6s\n",
            "[CV 4/5] END C=0.01, max_iter=600, penalty=l1, solver=liblinear;, score=0.588 total time=   0.6s\n",
            "[CV 5/5] END C=0.01, max_iter=600, penalty=l1, solver=liblinear;, score=0.585 total time=   0.6s\n",
            "[CV 1/5] END C=0.01, max_iter=600, penalty=l1, solver=sag;, score=nan total time=   0.0s\n",
            "[CV 2/5] END C=0.01, max_iter=600, penalty=l1, solver=sag;, score=nan total time=   0.0s\n",
            "[CV 3/5] END C=0.01, max_iter=600, penalty=l1, solver=sag;, score=nan total time=   0.0s\n",
            "[CV 4/5] END C=0.01, max_iter=600, penalty=l1, solver=sag;, score=nan total time=   0.0s\n",
            "[CV 5/5] END C=0.01, max_iter=600, penalty=l1, solver=sag;, score=nan total time=   0.0s\n",
            "[CV 1/5] END C=0.01, max_iter=600, penalty=l1, solver=saga;, score=0.587 total time=   6.8s\n",
            "[CV 2/5] END C=0.01, max_iter=600, penalty=l1, solver=saga;, score=0.584 total time=   6.9s\n",
            "[CV 3/5] END C=0.01, max_iter=600, penalty=l1, solver=saga;, score=0.585 total time=   7.3s\n",
            "[CV 4/5] END C=0.01, max_iter=600, penalty=l1, solver=saga;, score=0.584 total time=   6.1s\n",
            "[CV 5/5] END C=0.01, max_iter=600, penalty=l1, solver=saga;, score=0.591 total time=   6.7s\n",
            "[CV 1/5] END C=0.01, max_iter=600, penalty=l2, solver=newton-cg;, score=0.674 total time=  11.3s\n",
            "[CV 2/5] END C=0.01, max_iter=600, penalty=l2, solver=newton-cg;, score=0.682 total time=  12.4s\n",
            "[CV 3/5] END C=0.01, max_iter=600, penalty=l2, solver=newton-cg;, score=0.697 total time=  11.5s\n",
            "[CV 4/5] END C=0.01, max_iter=600, penalty=l2, solver=newton-cg;, score=0.696 total time=  11.4s\n",
            "[CV 5/5] END C=0.01, max_iter=600, penalty=l2, solver=newton-cg;, score=0.691 total time=  11.5s\n",
            "[CV 1/5] END C=0.01, max_iter=600, penalty=l2, solver=lbfgs;, score=0.674 total time=   8.3s\n",
            "[CV 2/5] END C=0.01, max_iter=600, penalty=l2, solver=lbfgs;, score=0.682 total time=   8.4s\n",
            "[CV 3/5] END C=0.01, max_iter=600, penalty=l2, solver=lbfgs;, score=0.697 total time=   8.4s\n",
            "[CV 4/5] END C=0.01, max_iter=600, penalty=l2, solver=lbfgs;, score=0.696 total time=   8.3s\n",
            "[CV 5/5] END C=0.01, max_iter=600, penalty=l2, solver=lbfgs;, score=0.691 total time=   8.2s\n",
            "[CV 1/5] END C=0.01, max_iter=600, penalty=l2, solver=liblinear;, score=0.660 total time=   0.5s\n",
            "[CV 2/5] END C=0.01, max_iter=600, penalty=l2, solver=liblinear;, score=0.665 total time=   0.5s\n",
            "[CV 3/5] END C=0.01, max_iter=600, penalty=l2, solver=liblinear;, score=0.686 total time=   0.5s\n",
            "[CV 4/5] END C=0.01, max_iter=600, penalty=l2, solver=liblinear;, score=0.681 total time=   0.4s\n",
            "[CV 5/5] END C=0.01, max_iter=600, penalty=l2, solver=liblinear;, score=0.680 total time=   0.5s\n",
            "[CV 1/5] END C=0.01, max_iter=600, penalty=l2, solver=sag;, score=0.674 total time=   2.2s\n",
            "[CV 2/5] END C=0.01, max_iter=600, penalty=l2, solver=sag;, score=0.682 total time=   2.1s\n",
            "[CV 3/5] END C=0.01, max_iter=600, penalty=l2, solver=sag;, score=0.697 total time=   2.1s\n",
            "[CV 4/5] END C=0.01, max_iter=600, penalty=l2, solver=sag;, score=0.696 total time=   2.1s\n",
            "[CV 5/5] END C=0.01, max_iter=600, penalty=l2, solver=sag;, score=0.691 total time=   2.2s\n",
            "[CV 1/5] END C=0.01, max_iter=600, penalty=l2, solver=saga;, score=0.674 total time=   7.5s\n",
            "[CV 2/5] END C=0.01, max_iter=600, penalty=l2, solver=saga;, score=0.683 total time=   7.0s\n",
            "[CV 3/5] END C=0.01, max_iter=600, penalty=l2, solver=saga;, score=0.697 total time=   7.2s\n",
            "[CV 4/5] END C=0.01, max_iter=600, penalty=l2, solver=saga;, score=0.696 total time=   7.5s\n",
            "[CV 5/5] END C=0.01, max_iter=600, penalty=l2, solver=saga;, score=0.692 total time=   7.2s\n",
            "[CV 1/5] END C=0.01, max_iter=700, penalty=l1, solver=newton-cg;, score=nan total time=   0.0s\n",
            "[CV 2/5] END C=0.01, max_iter=700, penalty=l1, solver=newton-cg;, score=nan total time=   0.0s\n",
            "[CV 3/5] END C=0.01, max_iter=700, penalty=l1, solver=newton-cg;, score=nan total time=   0.0s\n",
            "[CV 4/5] END C=0.01, max_iter=700, penalty=l1, solver=newton-cg;, score=nan total time=   0.0s\n",
            "[CV 5/5] END C=0.01, max_iter=700, penalty=l1, solver=newton-cg;, score=nan total time=   0.0s\n",
            "[CV 1/5] END C=0.01, max_iter=700, penalty=l1, solver=lbfgs;, score=nan total time=   0.0s\n",
            "[CV 2/5] END C=0.01, max_iter=700, penalty=l1, solver=lbfgs;, score=nan total time=   0.0s\n",
            "[CV 3/5] END C=0.01, max_iter=700, penalty=l1, solver=lbfgs;, score=nan total time=   0.0s\n",
            "[CV 4/5] END C=0.01, max_iter=700, penalty=l1, solver=lbfgs;, score=nan total time=   0.0s\n",
            "[CV 5/5] END C=0.01, max_iter=700, penalty=l1, solver=lbfgs;, score=nan total time=   0.0s\n",
            "[CV 1/5] END C=0.01, max_iter=700, penalty=l1, solver=liblinear;, score=0.591 total time=   0.6s\n",
            "[CV 2/5] END C=0.01, max_iter=700, penalty=l1, solver=liblinear;, score=0.587 total time=   0.6s\n",
            "[CV 3/5] END C=0.01, max_iter=700, penalty=l1, solver=liblinear;, score=0.577 total time=   0.7s\n",
            "[CV 4/5] END C=0.01, max_iter=700, penalty=l1, solver=liblinear;, score=0.588 total time=   0.8s\n",
            "[CV 5/5] END C=0.01, max_iter=700, penalty=l1, solver=liblinear;, score=0.585 total time=   0.7s\n",
            "[CV 1/5] END C=0.01, max_iter=700, penalty=l1, solver=sag;, score=nan total time=   0.0s\n",
            "[CV 2/5] END C=0.01, max_iter=700, penalty=l1, solver=sag;, score=nan total time=   0.0s\n",
            "[CV 3/5] END C=0.01, max_iter=700, penalty=l1, solver=sag;, score=nan total time=   0.0s\n",
            "[CV 4/5] END C=0.01, max_iter=700, penalty=l1, solver=sag;, score=nan total time=   0.0s\n",
            "[CV 5/5] END C=0.01, max_iter=700, penalty=l1, solver=sag;, score=nan total time=   0.0s\n",
            "[CV 1/5] END C=0.01, max_iter=700, penalty=l1, solver=saga;, score=0.587 total time=   6.8s\n",
            "[CV 2/5] END C=0.01, max_iter=700, penalty=l1, solver=saga;, score=0.584 total time=   7.0s\n",
            "[CV 3/5] END C=0.01, max_iter=700, penalty=l1, solver=saga;, score=0.585 total time=   7.4s\n",
            "[CV 4/5] END C=0.01, max_iter=700, penalty=l1, solver=saga;, score=0.584 total time=   6.2s\n",
            "[CV 5/5] END C=0.01, max_iter=700, penalty=l1, solver=saga;, score=0.591 total time=   6.9s\n",
            "[CV 1/5] END C=0.01, max_iter=700, penalty=l2, solver=newton-cg;, score=0.674 total time=  11.3s\n",
            "[CV 2/5] END C=0.01, max_iter=700, penalty=l2, solver=newton-cg;, score=0.682 total time=  12.6s\n",
            "[CV 3/5] END C=0.01, max_iter=700, penalty=l2, solver=newton-cg;, score=0.697 total time=  11.4s\n",
            "[CV 4/5] END C=0.01, max_iter=700, penalty=l2, solver=newton-cg;, score=0.696 total time=  11.4s\n",
            "[CV 5/5] END C=0.01, max_iter=700, penalty=l2, solver=newton-cg;, score=0.691 total time=  11.5s\n",
            "[CV 1/5] END C=0.01, max_iter=700, penalty=l2, solver=lbfgs;, score=0.674 total time=   8.5s\n",
            "[CV 2/5] END C=0.01, max_iter=700, penalty=l2, solver=lbfgs;, score=0.682 total time=   8.3s\n",
            "[CV 3/5] END C=0.01, max_iter=700, penalty=l2, solver=lbfgs;, score=0.697 total time=   8.4s\n",
            "[CV 4/5] END C=0.01, max_iter=700, penalty=l2, solver=lbfgs;, score=0.696 total time=   8.9s\n",
            "[CV 5/5] END C=0.01, max_iter=700, penalty=l2, solver=lbfgs;, score=0.691 total time=   8.2s\n",
            "[CV 1/5] END C=0.01, max_iter=700, penalty=l2, solver=liblinear;, score=0.660 total time=   0.4s\n",
            "[CV 2/5] END C=0.01, max_iter=700, penalty=l2, solver=liblinear;, score=0.665 total time=   0.5s\n",
            "[CV 3/5] END C=0.01, max_iter=700, penalty=l2, solver=liblinear;, score=0.686 total time=   0.4s\n",
            "[CV 4/5] END C=0.01, max_iter=700, penalty=l2, solver=liblinear;, score=0.681 total time=   0.4s\n",
            "[CV 5/5] END C=0.01, max_iter=700, penalty=l2, solver=liblinear;, score=0.680 total time=   0.5s\n",
            "[CV 1/5] END C=0.01, max_iter=700, penalty=l2, solver=sag;, score=0.674 total time=   2.3s\n",
            "[CV 2/5] END C=0.01, max_iter=700, penalty=l2, solver=sag;, score=0.682 total time=   2.1s\n",
            "[CV 3/5] END C=0.01, max_iter=700, penalty=l2, solver=sag;, score=0.697 total time=   2.2s\n",
            "[CV 4/5] END C=0.01, max_iter=700, penalty=l2, solver=sag;, score=0.696 total time=   2.1s\n",
            "[CV 5/5] END C=0.01, max_iter=700, penalty=l2, solver=sag;, score=0.691 total time=   2.2s\n",
            "[CV 1/5] END C=0.01, max_iter=700, penalty=l2, solver=saga;, score=0.674 total time=   7.4s\n",
            "[CV 2/5] END C=0.01, max_iter=700, penalty=l2, solver=saga;, score=0.683 total time=   7.0s\n",
            "[CV 3/5] END C=0.01, max_iter=700, penalty=l2, solver=saga;, score=0.697 total time=   7.4s\n",
            "[CV 4/5] END C=0.01, max_iter=700, penalty=l2, solver=saga;, score=0.696 total time=   7.4s\n",
            "[CV 5/5] END C=0.01, max_iter=700, penalty=l2, solver=saga;, score=0.692 total time=   7.4s\n",
            "[CV 1/5] END C=0.1, max_iter=100, penalty=l1, solver=newton-cg;, score=nan total time=   0.0s\n",
            "[CV 2/5] END C=0.1, max_iter=100, penalty=l1, solver=newton-cg;, score=nan total time=   0.0s\n",
            "[CV 3/5] END C=0.1, max_iter=100, penalty=l1, solver=newton-cg;, score=nan total time=   0.0s\n",
            "[CV 4/5] END C=0.1, max_iter=100, penalty=l1, solver=newton-cg;, score=nan total time=   0.0s\n",
            "[CV 5/5] END C=0.1, max_iter=100, penalty=l1, solver=newton-cg;, score=nan total time=   0.0s\n",
            "[CV 1/5] END C=0.1, max_iter=100, penalty=l1, solver=lbfgs;, score=nan total time=   0.0s\n",
            "[CV 2/5] END C=0.1, max_iter=100, penalty=l1, solver=lbfgs;, score=nan total time=   0.0s\n",
            "[CV 3/5] END C=0.1, max_iter=100, penalty=l1, solver=lbfgs;, score=nan total time=   0.0s\n",
            "[CV 4/5] END C=0.1, max_iter=100, penalty=l1, solver=lbfgs;, score=nan total time=   0.0s\n",
            "[CV 5/5] END C=0.1, max_iter=100, penalty=l1, solver=lbfgs;, score=nan total time=   0.0s\n",
            "[CV 1/5] END C=0.1, max_iter=100, penalty=l1, solver=liblinear;, score=0.667 total time=   0.8s\n",
            "[CV 2/5] END C=0.1, max_iter=100, penalty=l1, solver=liblinear;, score=0.656 total time=   0.9s\n",
            "[CV 3/5] END C=0.1, max_iter=100, penalty=l1, solver=liblinear;, score=0.688 total time=   0.9s\n",
            "[CV 4/5] END C=0.1, max_iter=100, penalty=l1, solver=liblinear;, score=0.679 total time=   0.9s\n",
            "[CV 5/5] END C=0.1, max_iter=100, penalty=l1, solver=liblinear;, score=0.686 total time=   0.9s\n",
            "[CV 1/5] END C=0.1, max_iter=100, penalty=l1, solver=sag;, score=nan total time=   0.0s\n",
            "[CV 2/5] END C=0.1, max_iter=100, penalty=l1, solver=sag;, score=nan total time=   0.0s\n",
            "[CV 3/5] END C=0.1, max_iter=100, penalty=l1, solver=sag;, score=nan total time=   0.0s\n",
            "[CV 4/5] END C=0.1, max_iter=100, penalty=l1, solver=sag;, score=nan total time=   0.0s\n",
            "[CV 5/5] END C=0.1, max_iter=100, penalty=l1, solver=sag;, score=nan total time=   0.0s\n"
          ]
        },
        {
          "output_type": "stream",
          "name": "stderr",
          "text": [
            "/usr/local/lib/python3.7/dist-packages/sklearn/linear_model/_sag.py:354: ConvergenceWarning: The max_iter was reached which means the coef_ did not converge\n",
            "  ConvergenceWarning,\n"
          ]
        },
        {
          "output_type": "stream",
          "name": "stdout",
          "text": [
            "[CV 1/5] END C=0.1, max_iter=100, penalty=l1, solver=saga;, score=0.674 total time=   3.5s\n"
          ]
        },
        {
          "output_type": "stream",
          "name": "stderr",
          "text": [
            "/usr/local/lib/python3.7/dist-packages/sklearn/linear_model/_sag.py:354: ConvergenceWarning: The max_iter was reached which means the coef_ did not converge\n",
            "  ConvergenceWarning,\n"
          ]
        },
        {
          "output_type": "stream",
          "name": "stdout",
          "text": [
            "[CV 2/5] END C=0.1, max_iter=100, penalty=l1, solver=saga;, score=0.666 total time=   3.5s\n"
          ]
        },
        {
          "output_type": "stream",
          "name": "stderr",
          "text": [
            "/usr/local/lib/python3.7/dist-packages/sklearn/linear_model/_sag.py:354: ConvergenceWarning: The max_iter was reached which means the coef_ did not converge\n",
            "  ConvergenceWarning,\n"
          ]
        },
        {
          "output_type": "stream",
          "name": "stdout",
          "text": [
            "[CV 3/5] END C=0.1, max_iter=100, penalty=l1, solver=saga;, score=0.690 total time=   3.5s\n"
          ]
        },
        {
          "output_type": "stream",
          "name": "stderr",
          "text": [
            "/usr/local/lib/python3.7/dist-packages/sklearn/linear_model/_sag.py:354: ConvergenceWarning: The max_iter was reached which means the coef_ did not converge\n",
            "  ConvergenceWarning,\n"
          ]
        },
        {
          "output_type": "stream",
          "name": "stdout",
          "text": [
            "[CV 4/5] END C=0.1, max_iter=100, penalty=l1, solver=saga;, score=0.689 total time=   3.5s\n"
          ]
        },
        {
          "output_type": "stream",
          "name": "stderr",
          "text": [
            "/usr/local/lib/python3.7/dist-packages/sklearn/linear_model/_sag.py:354: ConvergenceWarning: The max_iter was reached which means the coef_ did not converge\n",
            "  ConvergenceWarning,\n"
          ]
        },
        {
          "output_type": "stream",
          "name": "stdout",
          "text": [
            "[CV 5/5] END C=0.1, max_iter=100, penalty=l1, solver=saga;, score=0.693 total time=   3.7s\n",
            "[CV 1/5] END C=0.1, max_iter=100, penalty=l2, solver=newton-cg;, score=0.738 total time=  16.7s\n",
            "[CV 2/5] END C=0.1, max_iter=100, penalty=l2, solver=newton-cg;, score=0.732 total time=  16.4s\n",
            "[CV 3/5] END C=0.1, max_iter=100, penalty=l2, solver=newton-cg;, score=0.749 total time=  17.9s\n",
            "[CV 4/5] END C=0.1, max_iter=100, penalty=l2, solver=newton-cg;, score=0.749 total time=  17.6s\n",
            "[CV 5/5] END C=0.1, max_iter=100, penalty=l2, solver=newton-cg;, score=0.741 total time=  17.3s\n"
          ]
        },
        {
          "output_type": "stream",
          "name": "stderr",
          "text": [
            "/usr/local/lib/python3.7/dist-packages/sklearn/linear_model/_logistic.py:818: ConvergenceWarning: lbfgs failed to converge (status=1):\n",
            "STOP: TOTAL NO. of ITERATIONS REACHED LIMIT.\n",
            "\n",
            "Increase the number of iterations (max_iter) or scale the data as shown in:\n",
            "    https://scikit-learn.org/stable/modules/preprocessing.html\n",
            "Please also refer to the documentation for alternative solver options:\n",
            "    https://scikit-learn.org/stable/modules/linear_model.html#logistic-regression\n",
            "  extra_warning_msg=_LOGISTIC_SOLVER_CONVERGENCE_MSG,\n"
          ]
        },
        {
          "output_type": "stream",
          "name": "stdout",
          "text": [
            "[CV 1/5] END C=0.1, max_iter=100, penalty=l2, solver=lbfgs;, score=0.738 total time=  17.2s\n",
            "[CV 2/5] END C=0.1, max_iter=100, penalty=l2, solver=lbfgs;, score=0.732 total time=  17.5s\n"
          ]
        },
        {
          "output_type": "error",
          "ename": "KeyboardInterrupt",
          "evalue": "ignored",
          "traceback": [
            "\u001b[0;31m---------------------------------------------------------------------------\u001b[0m",
            "\u001b[0;31mKeyboardInterrupt\u001b[0m                         Traceback (most recent call last)",
            "\u001b[0;32m<ipython-input-91-5071e5fc010e>\u001b[0m in \u001b[0;36m<module>\u001b[0;34m()\u001b[0m\n\u001b[1;32m     15\u001b[0m \u001b[0;34m\u001b[0m\u001b[0m\n\u001b[1;32m     16\u001b[0m \u001b[0;31m# Instantiating the GridSearchCV object\u001b[0m\u001b[0;34m\u001b[0m\u001b[0;34m\u001b[0m\u001b[0;34m\u001b[0m\u001b[0m\n\u001b[0;32m---> 17\u001b[0;31m \u001b[0mlogreg_cv\u001b[0m \u001b[0;34m=\u001b[0m \u001b[0mGridSearchCV\u001b[0m\u001b[0;34m(\u001b[0m\u001b[0mlogreg\u001b[0m\u001b[0;34m,\u001b[0m \u001b[0mparam_grid\u001b[0m\u001b[0;34m,\u001b[0m \u001b[0mrefit\u001b[0m \u001b[0;34m=\u001b[0m \u001b[0;32mTrue\u001b[0m\u001b[0;34m,\u001b[0m \u001b[0mverbose\u001b[0m \u001b[0;34m=\u001b[0m \u001b[0;36m3\u001b[0m\u001b[0;34m,\u001b[0m \u001b[0mcv\u001b[0m \u001b[0;34m=\u001b[0m \u001b[0;36m5\u001b[0m\u001b[0;34m)\u001b[0m\u001b[0;34m.\u001b[0m\u001b[0mfit\u001b[0m\u001b[0;34m(\u001b[0m\u001b[0mcount_train\u001b[0m\u001b[0;34m,\u001b[0m \u001b[0my_train\u001b[0m\u001b[0;34m)\u001b[0m\u001b[0;34m\u001b[0m\u001b[0;34m\u001b[0m\u001b[0m\n\u001b[0m\u001b[1;32m     18\u001b[0m \u001b[0;34m\u001b[0m\u001b[0m\n\u001b[1;32m     19\u001b[0m \u001b[0;31m# Print the tuned parameters and score\u001b[0m\u001b[0;34m\u001b[0m\u001b[0;34m\u001b[0m\u001b[0;34m\u001b[0m\u001b[0m\n",
            "\u001b[0;32m/usr/local/lib/python3.7/dist-packages/sklearn/model_selection/_search.py\u001b[0m in \u001b[0;36mfit\u001b[0;34m(self, X, y, groups, **fit_params)\u001b[0m\n\u001b[1;32m    889\u001b[0m                 \u001b[0;32mreturn\u001b[0m \u001b[0mresults\u001b[0m\u001b[0;34m\u001b[0m\u001b[0;34m\u001b[0m\u001b[0m\n\u001b[1;32m    890\u001b[0m \u001b[0;34m\u001b[0m\u001b[0m\n\u001b[0;32m--> 891\u001b[0;31m             \u001b[0mself\u001b[0m\u001b[0;34m.\u001b[0m\u001b[0m_run_search\u001b[0m\u001b[0;34m(\u001b[0m\u001b[0mevaluate_candidates\u001b[0m\u001b[0;34m)\u001b[0m\u001b[0;34m\u001b[0m\u001b[0;34m\u001b[0m\u001b[0m\n\u001b[0m\u001b[1;32m    892\u001b[0m \u001b[0;34m\u001b[0m\u001b[0m\n\u001b[1;32m    893\u001b[0m             \u001b[0;31m# multimetric is determined here because in the case of a callable\u001b[0m\u001b[0;34m\u001b[0m\u001b[0;34m\u001b[0m\u001b[0;34m\u001b[0m\u001b[0m\n",
            "\u001b[0;32m/usr/local/lib/python3.7/dist-packages/sklearn/model_selection/_search.py\u001b[0m in \u001b[0;36m_run_search\u001b[0;34m(self, evaluate_candidates)\u001b[0m\n\u001b[1;32m   1390\u001b[0m     \u001b[0;32mdef\u001b[0m \u001b[0m_run_search\u001b[0m\u001b[0;34m(\u001b[0m\u001b[0mself\u001b[0m\u001b[0;34m,\u001b[0m \u001b[0mevaluate_candidates\u001b[0m\u001b[0;34m)\u001b[0m\u001b[0;34m:\u001b[0m\u001b[0;34m\u001b[0m\u001b[0;34m\u001b[0m\u001b[0m\n\u001b[1;32m   1391\u001b[0m         \u001b[0;34m\"\"\"Search all candidates in param_grid\"\"\"\u001b[0m\u001b[0;34m\u001b[0m\u001b[0;34m\u001b[0m\u001b[0m\n\u001b[0;32m-> 1392\u001b[0;31m         \u001b[0mevaluate_candidates\u001b[0m\u001b[0;34m(\u001b[0m\u001b[0mParameterGrid\u001b[0m\u001b[0;34m(\u001b[0m\u001b[0mself\u001b[0m\u001b[0;34m.\u001b[0m\u001b[0mparam_grid\u001b[0m\u001b[0;34m)\u001b[0m\u001b[0;34m)\u001b[0m\u001b[0;34m\u001b[0m\u001b[0;34m\u001b[0m\u001b[0m\n\u001b[0m\u001b[1;32m   1393\u001b[0m \u001b[0;34m\u001b[0m\u001b[0m\n\u001b[1;32m   1394\u001b[0m \u001b[0;34m\u001b[0m\u001b[0m\n",
            "\u001b[0;32m/usr/local/lib/python3.7/dist-packages/sklearn/model_selection/_search.py\u001b[0m in \u001b[0;36mevaluate_candidates\u001b[0;34m(candidate_params, cv, more_results)\u001b[0m\n\u001b[1;32m    849\u001b[0m                     )\n\u001b[1;32m    850\u001b[0m                     for (cand_idx, parameters), (split_idx, (train, test)) in product(\n\u001b[0;32m--> 851\u001b[0;31m                         \u001b[0menumerate\u001b[0m\u001b[0;34m(\u001b[0m\u001b[0mcandidate_params\u001b[0m\u001b[0;34m)\u001b[0m\u001b[0;34m,\u001b[0m \u001b[0menumerate\u001b[0m\u001b[0;34m(\u001b[0m\u001b[0mcv\u001b[0m\u001b[0;34m.\u001b[0m\u001b[0msplit\u001b[0m\u001b[0;34m(\u001b[0m\u001b[0mX\u001b[0m\u001b[0;34m,\u001b[0m \u001b[0my\u001b[0m\u001b[0;34m,\u001b[0m \u001b[0mgroups\u001b[0m\u001b[0;34m)\u001b[0m\u001b[0;34m)\u001b[0m\u001b[0;34m\u001b[0m\u001b[0;34m\u001b[0m\u001b[0m\n\u001b[0m\u001b[1;32m    852\u001b[0m                     )\n\u001b[1;32m    853\u001b[0m                 )\n",
            "\u001b[0;32m/usr/local/lib/python3.7/dist-packages/joblib/parallel.py\u001b[0m in \u001b[0;36m__call__\u001b[0;34m(self, iterable)\u001b[0m\n\u001b[1;32m   1044\u001b[0m                 \u001b[0mself\u001b[0m\u001b[0;34m.\u001b[0m\u001b[0m_iterating\u001b[0m \u001b[0;34m=\u001b[0m \u001b[0mself\u001b[0m\u001b[0;34m.\u001b[0m\u001b[0m_original_iterator\u001b[0m \u001b[0;32mis\u001b[0m \u001b[0;32mnot\u001b[0m \u001b[0;32mNone\u001b[0m\u001b[0;34m\u001b[0m\u001b[0;34m\u001b[0m\u001b[0m\n\u001b[1;32m   1045\u001b[0m \u001b[0;34m\u001b[0m\u001b[0m\n\u001b[0;32m-> 1046\u001b[0;31m             \u001b[0;32mwhile\u001b[0m \u001b[0mself\u001b[0m\u001b[0;34m.\u001b[0m\u001b[0mdispatch_one_batch\u001b[0m\u001b[0;34m(\u001b[0m\u001b[0miterator\u001b[0m\u001b[0;34m)\u001b[0m\u001b[0;34m:\u001b[0m\u001b[0;34m\u001b[0m\u001b[0;34m\u001b[0m\u001b[0m\n\u001b[0m\u001b[1;32m   1047\u001b[0m                 \u001b[0;32mpass\u001b[0m\u001b[0;34m\u001b[0m\u001b[0;34m\u001b[0m\u001b[0m\n\u001b[1;32m   1048\u001b[0m \u001b[0;34m\u001b[0m\u001b[0m\n",
            "\u001b[0;32m/usr/local/lib/python3.7/dist-packages/joblib/parallel.py\u001b[0m in \u001b[0;36mdispatch_one_batch\u001b[0;34m(self, iterator)\u001b[0m\n\u001b[1;32m    859\u001b[0m                 \u001b[0;32mreturn\u001b[0m \u001b[0;32mFalse\u001b[0m\u001b[0;34m\u001b[0m\u001b[0;34m\u001b[0m\u001b[0m\n\u001b[1;32m    860\u001b[0m             \u001b[0;32melse\u001b[0m\u001b[0;34m:\u001b[0m\u001b[0;34m\u001b[0m\u001b[0;34m\u001b[0m\u001b[0m\n\u001b[0;32m--> 861\u001b[0;31m                 \u001b[0mself\u001b[0m\u001b[0;34m.\u001b[0m\u001b[0m_dispatch\u001b[0m\u001b[0;34m(\u001b[0m\u001b[0mtasks\u001b[0m\u001b[0;34m)\u001b[0m\u001b[0;34m\u001b[0m\u001b[0;34m\u001b[0m\u001b[0m\n\u001b[0m\u001b[1;32m    862\u001b[0m                 \u001b[0;32mreturn\u001b[0m \u001b[0;32mTrue\u001b[0m\u001b[0;34m\u001b[0m\u001b[0;34m\u001b[0m\u001b[0m\n\u001b[1;32m    863\u001b[0m \u001b[0;34m\u001b[0m\u001b[0m\n",
            "\u001b[0;32m/usr/local/lib/python3.7/dist-packages/joblib/parallel.py\u001b[0m in \u001b[0;36m_dispatch\u001b[0;34m(self, batch)\u001b[0m\n\u001b[1;32m    777\u001b[0m         \u001b[0;32mwith\u001b[0m \u001b[0mself\u001b[0m\u001b[0;34m.\u001b[0m\u001b[0m_lock\u001b[0m\u001b[0;34m:\u001b[0m\u001b[0;34m\u001b[0m\u001b[0;34m\u001b[0m\u001b[0m\n\u001b[1;32m    778\u001b[0m             \u001b[0mjob_idx\u001b[0m \u001b[0;34m=\u001b[0m \u001b[0mlen\u001b[0m\u001b[0;34m(\u001b[0m\u001b[0mself\u001b[0m\u001b[0;34m.\u001b[0m\u001b[0m_jobs\u001b[0m\u001b[0;34m)\u001b[0m\u001b[0;34m\u001b[0m\u001b[0;34m\u001b[0m\u001b[0m\n\u001b[0;32m--> 779\u001b[0;31m             \u001b[0mjob\u001b[0m \u001b[0;34m=\u001b[0m \u001b[0mself\u001b[0m\u001b[0;34m.\u001b[0m\u001b[0m_backend\u001b[0m\u001b[0;34m.\u001b[0m\u001b[0mapply_async\u001b[0m\u001b[0;34m(\u001b[0m\u001b[0mbatch\u001b[0m\u001b[0;34m,\u001b[0m \u001b[0mcallback\u001b[0m\u001b[0;34m=\u001b[0m\u001b[0mcb\u001b[0m\u001b[0;34m)\u001b[0m\u001b[0;34m\u001b[0m\u001b[0;34m\u001b[0m\u001b[0m\n\u001b[0m\u001b[1;32m    780\u001b[0m             \u001b[0;31m# A job can complete so quickly than its callback is\u001b[0m\u001b[0;34m\u001b[0m\u001b[0;34m\u001b[0m\u001b[0;34m\u001b[0m\u001b[0m\n\u001b[1;32m    781\u001b[0m             \u001b[0;31m# called before we get here, causing self._jobs to\u001b[0m\u001b[0;34m\u001b[0m\u001b[0;34m\u001b[0m\u001b[0;34m\u001b[0m\u001b[0m\n",
            "\u001b[0;32m/usr/local/lib/python3.7/dist-packages/joblib/_parallel_backends.py\u001b[0m in \u001b[0;36mapply_async\u001b[0;34m(self, func, callback)\u001b[0m\n\u001b[1;32m    206\u001b[0m     \u001b[0;32mdef\u001b[0m \u001b[0mapply_async\u001b[0m\u001b[0;34m(\u001b[0m\u001b[0mself\u001b[0m\u001b[0;34m,\u001b[0m \u001b[0mfunc\u001b[0m\u001b[0;34m,\u001b[0m \u001b[0mcallback\u001b[0m\u001b[0;34m=\u001b[0m\u001b[0;32mNone\u001b[0m\u001b[0;34m)\u001b[0m\u001b[0;34m:\u001b[0m\u001b[0;34m\u001b[0m\u001b[0;34m\u001b[0m\u001b[0m\n\u001b[1;32m    207\u001b[0m         \u001b[0;34m\"\"\"Schedule a func to be run\"\"\"\u001b[0m\u001b[0;34m\u001b[0m\u001b[0;34m\u001b[0m\u001b[0m\n\u001b[0;32m--> 208\u001b[0;31m         \u001b[0mresult\u001b[0m \u001b[0;34m=\u001b[0m \u001b[0mImmediateResult\u001b[0m\u001b[0;34m(\u001b[0m\u001b[0mfunc\u001b[0m\u001b[0;34m)\u001b[0m\u001b[0;34m\u001b[0m\u001b[0;34m\u001b[0m\u001b[0m\n\u001b[0m\u001b[1;32m    209\u001b[0m         \u001b[0;32mif\u001b[0m \u001b[0mcallback\u001b[0m\u001b[0;34m:\u001b[0m\u001b[0;34m\u001b[0m\u001b[0;34m\u001b[0m\u001b[0m\n\u001b[1;32m    210\u001b[0m             \u001b[0mcallback\u001b[0m\u001b[0;34m(\u001b[0m\u001b[0mresult\u001b[0m\u001b[0;34m)\u001b[0m\u001b[0;34m\u001b[0m\u001b[0;34m\u001b[0m\u001b[0m\n",
            "\u001b[0;32m/usr/local/lib/python3.7/dist-packages/joblib/_parallel_backends.py\u001b[0m in \u001b[0;36m__init__\u001b[0;34m(self, batch)\u001b[0m\n\u001b[1;32m    570\u001b[0m         \u001b[0;31m# Don't delay the application, to avoid keeping the input\u001b[0m\u001b[0;34m\u001b[0m\u001b[0;34m\u001b[0m\u001b[0;34m\u001b[0m\u001b[0m\n\u001b[1;32m    571\u001b[0m         \u001b[0;31m# arguments in memory\u001b[0m\u001b[0;34m\u001b[0m\u001b[0;34m\u001b[0m\u001b[0;34m\u001b[0m\u001b[0m\n\u001b[0;32m--> 572\u001b[0;31m         \u001b[0mself\u001b[0m\u001b[0;34m.\u001b[0m\u001b[0mresults\u001b[0m \u001b[0;34m=\u001b[0m \u001b[0mbatch\u001b[0m\u001b[0;34m(\u001b[0m\u001b[0;34m)\u001b[0m\u001b[0;34m\u001b[0m\u001b[0;34m\u001b[0m\u001b[0m\n\u001b[0m\u001b[1;32m    573\u001b[0m \u001b[0;34m\u001b[0m\u001b[0m\n\u001b[1;32m    574\u001b[0m     \u001b[0;32mdef\u001b[0m \u001b[0mget\u001b[0m\u001b[0;34m(\u001b[0m\u001b[0mself\u001b[0m\u001b[0;34m)\u001b[0m\u001b[0;34m:\u001b[0m\u001b[0;34m\u001b[0m\u001b[0;34m\u001b[0m\u001b[0m\n",
            "\u001b[0;32m/usr/local/lib/python3.7/dist-packages/joblib/parallel.py\u001b[0m in \u001b[0;36m__call__\u001b[0;34m(self)\u001b[0m\n\u001b[1;32m    261\u001b[0m         \u001b[0;32mwith\u001b[0m \u001b[0mparallel_backend\u001b[0m\u001b[0;34m(\u001b[0m\u001b[0mself\u001b[0m\u001b[0;34m.\u001b[0m\u001b[0m_backend\u001b[0m\u001b[0;34m,\u001b[0m \u001b[0mn_jobs\u001b[0m\u001b[0;34m=\u001b[0m\u001b[0mself\u001b[0m\u001b[0;34m.\u001b[0m\u001b[0m_n_jobs\u001b[0m\u001b[0;34m)\u001b[0m\u001b[0;34m:\u001b[0m\u001b[0;34m\u001b[0m\u001b[0;34m\u001b[0m\u001b[0m\n\u001b[1;32m    262\u001b[0m             return [func(*args, **kwargs)\n\u001b[0;32m--> 263\u001b[0;31m                     for func, args, kwargs in self.items]\n\u001b[0m\u001b[1;32m    264\u001b[0m \u001b[0;34m\u001b[0m\u001b[0m\n\u001b[1;32m    265\u001b[0m     \u001b[0;32mdef\u001b[0m \u001b[0m__reduce__\u001b[0m\u001b[0;34m(\u001b[0m\u001b[0mself\u001b[0m\u001b[0;34m)\u001b[0m\u001b[0;34m:\u001b[0m\u001b[0;34m\u001b[0m\u001b[0;34m\u001b[0m\u001b[0m\n",
            "\u001b[0;32m/usr/local/lib/python3.7/dist-packages/joblib/parallel.py\u001b[0m in \u001b[0;36m<listcomp>\u001b[0;34m(.0)\u001b[0m\n\u001b[1;32m    261\u001b[0m         \u001b[0;32mwith\u001b[0m \u001b[0mparallel_backend\u001b[0m\u001b[0;34m(\u001b[0m\u001b[0mself\u001b[0m\u001b[0;34m.\u001b[0m\u001b[0m_backend\u001b[0m\u001b[0;34m,\u001b[0m \u001b[0mn_jobs\u001b[0m\u001b[0;34m=\u001b[0m\u001b[0mself\u001b[0m\u001b[0;34m.\u001b[0m\u001b[0m_n_jobs\u001b[0m\u001b[0;34m)\u001b[0m\u001b[0;34m:\u001b[0m\u001b[0;34m\u001b[0m\u001b[0;34m\u001b[0m\u001b[0m\n\u001b[1;32m    262\u001b[0m             return [func(*args, **kwargs)\n\u001b[0;32m--> 263\u001b[0;31m                     for func, args, kwargs in self.items]\n\u001b[0m\u001b[1;32m    264\u001b[0m \u001b[0;34m\u001b[0m\u001b[0m\n\u001b[1;32m    265\u001b[0m     \u001b[0;32mdef\u001b[0m \u001b[0m__reduce__\u001b[0m\u001b[0;34m(\u001b[0m\u001b[0mself\u001b[0m\u001b[0;34m)\u001b[0m\u001b[0;34m:\u001b[0m\u001b[0;34m\u001b[0m\u001b[0;34m\u001b[0m\u001b[0m\n",
            "\u001b[0;32m/usr/local/lib/python3.7/dist-packages/sklearn/utils/fixes.py\u001b[0m in \u001b[0;36m__call__\u001b[0;34m(self, *args, **kwargs)\u001b[0m\n\u001b[1;32m    209\u001b[0m     \u001b[0;32mdef\u001b[0m \u001b[0m__call__\u001b[0m\u001b[0;34m(\u001b[0m\u001b[0mself\u001b[0m\u001b[0;34m,\u001b[0m \u001b[0;34m*\u001b[0m\u001b[0margs\u001b[0m\u001b[0;34m,\u001b[0m \u001b[0;34m**\u001b[0m\u001b[0mkwargs\u001b[0m\u001b[0;34m)\u001b[0m\u001b[0;34m:\u001b[0m\u001b[0;34m\u001b[0m\u001b[0;34m\u001b[0m\u001b[0m\n\u001b[1;32m    210\u001b[0m         \u001b[0;32mwith\u001b[0m \u001b[0mconfig_context\u001b[0m\u001b[0;34m(\u001b[0m\u001b[0;34m**\u001b[0m\u001b[0mself\u001b[0m\u001b[0;34m.\u001b[0m\u001b[0mconfig\u001b[0m\u001b[0;34m)\u001b[0m\u001b[0;34m:\u001b[0m\u001b[0;34m\u001b[0m\u001b[0;34m\u001b[0m\u001b[0m\n\u001b[0;32m--> 211\u001b[0;31m             \u001b[0;32mreturn\u001b[0m \u001b[0mself\u001b[0m\u001b[0;34m.\u001b[0m\u001b[0mfunction\u001b[0m\u001b[0;34m(\u001b[0m\u001b[0;34m*\u001b[0m\u001b[0margs\u001b[0m\u001b[0;34m,\u001b[0m \u001b[0;34m**\u001b[0m\u001b[0mkwargs\u001b[0m\u001b[0;34m)\u001b[0m\u001b[0;34m\u001b[0m\u001b[0;34m\u001b[0m\u001b[0m\n\u001b[0m\u001b[1;32m    212\u001b[0m \u001b[0;34m\u001b[0m\u001b[0m\n\u001b[1;32m    213\u001b[0m \u001b[0;34m\u001b[0m\u001b[0m\n",
            "\u001b[0;32m/usr/local/lib/python3.7/dist-packages/sklearn/model_selection/_validation.py\u001b[0m in \u001b[0;36m_fit_and_score\u001b[0;34m(estimator, X, y, scorer, train, test, verbose, parameters, fit_params, return_train_score, return_parameters, return_n_test_samples, return_times, return_estimator, split_progress, candidate_progress, error_score)\u001b[0m\n\u001b[1;32m    679\u001b[0m             \u001b[0mestimator\u001b[0m\u001b[0;34m.\u001b[0m\u001b[0mfit\u001b[0m\u001b[0;34m(\u001b[0m\u001b[0mX_train\u001b[0m\u001b[0;34m,\u001b[0m \u001b[0;34m**\u001b[0m\u001b[0mfit_params\u001b[0m\u001b[0;34m)\u001b[0m\u001b[0;34m\u001b[0m\u001b[0;34m\u001b[0m\u001b[0m\n\u001b[1;32m    680\u001b[0m         \u001b[0;32melse\u001b[0m\u001b[0;34m:\u001b[0m\u001b[0;34m\u001b[0m\u001b[0;34m\u001b[0m\u001b[0m\n\u001b[0;32m--> 681\u001b[0;31m             \u001b[0mestimator\u001b[0m\u001b[0;34m.\u001b[0m\u001b[0mfit\u001b[0m\u001b[0;34m(\u001b[0m\u001b[0mX_train\u001b[0m\u001b[0;34m,\u001b[0m \u001b[0my_train\u001b[0m\u001b[0;34m,\u001b[0m \u001b[0;34m**\u001b[0m\u001b[0mfit_params\u001b[0m\u001b[0;34m)\u001b[0m\u001b[0;34m\u001b[0m\u001b[0;34m\u001b[0m\u001b[0m\n\u001b[0m\u001b[1;32m    682\u001b[0m \u001b[0;34m\u001b[0m\u001b[0m\n\u001b[1;32m    683\u001b[0m     \u001b[0;32mexcept\u001b[0m \u001b[0mException\u001b[0m\u001b[0;34m:\u001b[0m\u001b[0;34m\u001b[0m\u001b[0;34m\u001b[0m\u001b[0m\n",
            "\u001b[0;32m/usr/local/lib/python3.7/dist-packages/sklearn/linear_model/_logistic.py\u001b[0m in \u001b[0;36mfit\u001b[0;34m(self, X, y, sample_weight)\u001b[0m\n\u001b[1;32m   1612\u001b[0m                 \u001b[0msample_weight\u001b[0m\u001b[0;34m=\u001b[0m\u001b[0msample_weight\u001b[0m\u001b[0;34m,\u001b[0m\u001b[0;34m\u001b[0m\u001b[0;34m\u001b[0m\u001b[0m\n\u001b[1;32m   1613\u001b[0m             )\n\u001b[0;32m-> 1614\u001b[0;31m             \u001b[0;32mfor\u001b[0m \u001b[0mclass_\u001b[0m\u001b[0;34m,\u001b[0m \u001b[0mwarm_start_coef_\u001b[0m \u001b[0;32min\u001b[0m \u001b[0mzip\u001b[0m\u001b[0;34m(\u001b[0m\u001b[0mclasses_\u001b[0m\u001b[0;34m,\u001b[0m \u001b[0mwarm_start_coef\u001b[0m\u001b[0;34m)\u001b[0m\u001b[0;34m\u001b[0m\u001b[0;34m\u001b[0m\u001b[0m\n\u001b[0m\u001b[1;32m   1615\u001b[0m         )\n\u001b[1;32m   1616\u001b[0m \u001b[0;34m\u001b[0m\u001b[0m\n",
            "\u001b[0;32m/usr/local/lib/python3.7/dist-packages/joblib/parallel.py\u001b[0m in \u001b[0;36m__call__\u001b[0;34m(self, iterable)\u001b[0m\n\u001b[1;32m   1041\u001b[0m             \u001b[0;31m# remaining jobs.\u001b[0m\u001b[0;34m\u001b[0m\u001b[0;34m\u001b[0m\u001b[0;34m\u001b[0m\u001b[0m\n\u001b[1;32m   1042\u001b[0m             \u001b[0mself\u001b[0m\u001b[0;34m.\u001b[0m\u001b[0m_iterating\u001b[0m \u001b[0;34m=\u001b[0m \u001b[0;32mFalse\u001b[0m\u001b[0;34m\u001b[0m\u001b[0;34m\u001b[0m\u001b[0m\n\u001b[0;32m-> 1043\u001b[0;31m             \u001b[0;32mif\u001b[0m \u001b[0mself\u001b[0m\u001b[0;34m.\u001b[0m\u001b[0mdispatch_one_batch\u001b[0m\u001b[0;34m(\u001b[0m\u001b[0miterator\u001b[0m\u001b[0;34m)\u001b[0m\u001b[0;34m:\u001b[0m\u001b[0;34m\u001b[0m\u001b[0;34m\u001b[0m\u001b[0m\n\u001b[0m\u001b[1;32m   1044\u001b[0m                 \u001b[0mself\u001b[0m\u001b[0;34m.\u001b[0m\u001b[0m_iterating\u001b[0m \u001b[0;34m=\u001b[0m \u001b[0mself\u001b[0m\u001b[0;34m.\u001b[0m\u001b[0m_original_iterator\u001b[0m \u001b[0;32mis\u001b[0m \u001b[0;32mnot\u001b[0m \u001b[0;32mNone\u001b[0m\u001b[0;34m\u001b[0m\u001b[0;34m\u001b[0m\u001b[0m\n\u001b[1;32m   1045\u001b[0m \u001b[0;34m\u001b[0m\u001b[0m\n",
            "\u001b[0;32m/usr/local/lib/python3.7/dist-packages/joblib/parallel.py\u001b[0m in \u001b[0;36mdispatch_one_batch\u001b[0;34m(self, iterator)\u001b[0m\n\u001b[1;32m    859\u001b[0m                 \u001b[0;32mreturn\u001b[0m \u001b[0;32mFalse\u001b[0m\u001b[0;34m\u001b[0m\u001b[0;34m\u001b[0m\u001b[0m\n\u001b[1;32m    860\u001b[0m             \u001b[0;32melse\u001b[0m\u001b[0;34m:\u001b[0m\u001b[0;34m\u001b[0m\u001b[0;34m\u001b[0m\u001b[0m\n\u001b[0;32m--> 861\u001b[0;31m                 \u001b[0mself\u001b[0m\u001b[0;34m.\u001b[0m\u001b[0m_dispatch\u001b[0m\u001b[0;34m(\u001b[0m\u001b[0mtasks\u001b[0m\u001b[0;34m)\u001b[0m\u001b[0;34m\u001b[0m\u001b[0;34m\u001b[0m\u001b[0m\n\u001b[0m\u001b[1;32m    862\u001b[0m                 \u001b[0;32mreturn\u001b[0m \u001b[0;32mTrue\u001b[0m\u001b[0;34m\u001b[0m\u001b[0;34m\u001b[0m\u001b[0m\n\u001b[1;32m    863\u001b[0m \u001b[0;34m\u001b[0m\u001b[0m\n",
            "\u001b[0;32m/usr/local/lib/python3.7/dist-packages/joblib/parallel.py\u001b[0m in \u001b[0;36m_dispatch\u001b[0;34m(self, batch)\u001b[0m\n\u001b[1;32m    777\u001b[0m         \u001b[0;32mwith\u001b[0m \u001b[0mself\u001b[0m\u001b[0;34m.\u001b[0m\u001b[0m_lock\u001b[0m\u001b[0;34m:\u001b[0m\u001b[0;34m\u001b[0m\u001b[0;34m\u001b[0m\u001b[0m\n\u001b[1;32m    778\u001b[0m             \u001b[0mjob_idx\u001b[0m \u001b[0;34m=\u001b[0m \u001b[0mlen\u001b[0m\u001b[0;34m(\u001b[0m\u001b[0mself\u001b[0m\u001b[0;34m.\u001b[0m\u001b[0m_jobs\u001b[0m\u001b[0;34m)\u001b[0m\u001b[0;34m\u001b[0m\u001b[0;34m\u001b[0m\u001b[0m\n\u001b[0;32m--> 779\u001b[0;31m             \u001b[0mjob\u001b[0m \u001b[0;34m=\u001b[0m \u001b[0mself\u001b[0m\u001b[0;34m.\u001b[0m\u001b[0m_backend\u001b[0m\u001b[0;34m.\u001b[0m\u001b[0mapply_async\u001b[0m\u001b[0;34m(\u001b[0m\u001b[0mbatch\u001b[0m\u001b[0;34m,\u001b[0m \u001b[0mcallback\u001b[0m\u001b[0;34m=\u001b[0m\u001b[0mcb\u001b[0m\u001b[0;34m)\u001b[0m\u001b[0;34m\u001b[0m\u001b[0;34m\u001b[0m\u001b[0m\n\u001b[0m\u001b[1;32m    780\u001b[0m             \u001b[0;31m# A job can complete so quickly than its callback is\u001b[0m\u001b[0;34m\u001b[0m\u001b[0;34m\u001b[0m\u001b[0;34m\u001b[0m\u001b[0m\n\u001b[1;32m    781\u001b[0m             \u001b[0;31m# called before we get here, causing self._jobs to\u001b[0m\u001b[0;34m\u001b[0m\u001b[0;34m\u001b[0m\u001b[0;34m\u001b[0m\u001b[0m\n",
            "\u001b[0;32m/usr/local/lib/python3.7/dist-packages/joblib/_parallel_backends.py\u001b[0m in \u001b[0;36mapply_async\u001b[0;34m(self, func, callback)\u001b[0m\n\u001b[1;32m    206\u001b[0m     \u001b[0;32mdef\u001b[0m \u001b[0mapply_async\u001b[0m\u001b[0;34m(\u001b[0m\u001b[0mself\u001b[0m\u001b[0;34m,\u001b[0m \u001b[0mfunc\u001b[0m\u001b[0;34m,\u001b[0m \u001b[0mcallback\u001b[0m\u001b[0;34m=\u001b[0m\u001b[0;32mNone\u001b[0m\u001b[0;34m)\u001b[0m\u001b[0;34m:\u001b[0m\u001b[0;34m\u001b[0m\u001b[0;34m\u001b[0m\u001b[0m\n\u001b[1;32m    207\u001b[0m         \u001b[0;34m\"\"\"Schedule a func to be run\"\"\"\u001b[0m\u001b[0;34m\u001b[0m\u001b[0;34m\u001b[0m\u001b[0m\n\u001b[0;32m--> 208\u001b[0;31m         \u001b[0mresult\u001b[0m \u001b[0;34m=\u001b[0m \u001b[0mImmediateResult\u001b[0m\u001b[0;34m(\u001b[0m\u001b[0mfunc\u001b[0m\u001b[0;34m)\u001b[0m\u001b[0;34m\u001b[0m\u001b[0;34m\u001b[0m\u001b[0m\n\u001b[0m\u001b[1;32m    209\u001b[0m         \u001b[0;32mif\u001b[0m \u001b[0mcallback\u001b[0m\u001b[0;34m:\u001b[0m\u001b[0;34m\u001b[0m\u001b[0;34m\u001b[0m\u001b[0m\n\u001b[1;32m    210\u001b[0m             \u001b[0mcallback\u001b[0m\u001b[0;34m(\u001b[0m\u001b[0mresult\u001b[0m\u001b[0;34m)\u001b[0m\u001b[0;34m\u001b[0m\u001b[0;34m\u001b[0m\u001b[0m\n",
            "\u001b[0;32m/usr/local/lib/python3.7/dist-packages/joblib/_parallel_backends.py\u001b[0m in \u001b[0;36m__init__\u001b[0;34m(self, batch)\u001b[0m\n\u001b[1;32m    570\u001b[0m         \u001b[0;31m# Don't delay the application, to avoid keeping the input\u001b[0m\u001b[0;34m\u001b[0m\u001b[0;34m\u001b[0m\u001b[0;34m\u001b[0m\u001b[0m\n\u001b[1;32m    571\u001b[0m         \u001b[0;31m# arguments in memory\u001b[0m\u001b[0;34m\u001b[0m\u001b[0;34m\u001b[0m\u001b[0;34m\u001b[0m\u001b[0m\n\u001b[0;32m--> 572\u001b[0;31m         \u001b[0mself\u001b[0m\u001b[0;34m.\u001b[0m\u001b[0mresults\u001b[0m \u001b[0;34m=\u001b[0m \u001b[0mbatch\u001b[0m\u001b[0;34m(\u001b[0m\u001b[0;34m)\u001b[0m\u001b[0;34m\u001b[0m\u001b[0;34m\u001b[0m\u001b[0m\n\u001b[0m\u001b[1;32m    573\u001b[0m \u001b[0;34m\u001b[0m\u001b[0m\n\u001b[1;32m    574\u001b[0m     \u001b[0;32mdef\u001b[0m \u001b[0mget\u001b[0m\u001b[0;34m(\u001b[0m\u001b[0mself\u001b[0m\u001b[0;34m)\u001b[0m\u001b[0;34m:\u001b[0m\u001b[0;34m\u001b[0m\u001b[0;34m\u001b[0m\u001b[0m\n",
            "\u001b[0;32m/usr/local/lib/python3.7/dist-packages/joblib/parallel.py\u001b[0m in \u001b[0;36m__call__\u001b[0;34m(self)\u001b[0m\n\u001b[1;32m    261\u001b[0m         \u001b[0;32mwith\u001b[0m \u001b[0mparallel_backend\u001b[0m\u001b[0;34m(\u001b[0m\u001b[0mself\u001b[0m\u001b[0;34m.\u001b[0m\u001b[0m_backend\u001b[0m\u001b[0;34m,\u001b[0m \u001b[0mn_jobs\u001b[0m\u001b[0;34m=\u001b[0m\u001b[0mself\u001b[0m\u001b[0;34m.\u001b[0m\u001b[0m_n_jobs\u001b[0m\u001b[0;34m)\u001b[0m\u001b[0;34m:\u001b[0m\u001b[0;34m\u001b[0m\u001b[0;34m\u001b[0m\u001b[0m\n\u001b[1;32m    262\u001b[0m             return [func(*args, **kwargs)\n\u001b[0;32m--> 263\u001b[0;31m                     for func, args, kwargs in self.items]\n\u001b[0m\u001b[1;32m    264\u001b[0m \u001b[0;34m\u001b[0m\u001b[0m\n\u001b[1;32m    265\u001b[0m     \u001b[0;32mdef\u001b[0m \u001b[0m__reduce__\u001b[0m\u001b[0;34m(\u001b[0m\u001b[0mself\u001b[0m\u001b[0;34m)\u001b[0m\u001b[0;34m:\u001b[0m\u001b[0;34m\u001b[0m\u001b[0;34m\u001b[0m\u001b[0m\n",
            "\u001b[0;32m/usr/local/lib/python3.7/dist-packages/joblib/parallel.py\u001b[0m in \u001b[0;36m<listcomp>\u001b[0;34m(.0)\u001b[0m\n\u001b[1;32m    261\u001b[0m         \u001b[0;32mwith\u001b[0m \u001b[0mparallel_backend\u001b[0m\u001b[0;34m(\u001b[0m\u001b[0mself\u001b[0m\u001b[0;34m.\u001b[0m\u001b[0m_backend\u001b[0m\u001b[0;34m,\u001b[0m \u001b[0mn_jobs\u001b[0m\u001b[0;34m=\u001b[0m\u001b[0mself\u001b[0m\u001b[0;34m.\u001b[0m\u001b[0m_n_jobs\u001b[0m\u001b[0;34m)\u001b[0m\u001b[0;34m:\u001b[0m\u001b[0;34m\u001b[0m\u001b[0;34m\u001b[0m\u001b[0m\n\u001b[1;32m    262\u001b[0m             return [func(*args, **kwargs)\n\u001b[0;32m--> 263\u001b[0;31m                     for func, args, kwargs in self.items]\n\u001b[0m\u001b[1;32m    264\u001b[0m \u001b[0;34m\u001b[0m\u001b[0m\n\u001b[1;32m    265\u001b[0m     \u001b[0;32mdef\u001b[0m \u001b[0m__reduce__\u001b[0m\u001b[0;34m(\u001b[0m\u001b[0mself\u001b[0m\u001b[0;34m)\u001b[0m\u001b[0;34m:\u001b[0m\u001b[0;34m\u001b[0m\u001b[0;34m\u001b[0m\u001b[0m\n",
            "\u001b[0;32m/usr/local/lib/python3.7/dist-packages/sklearn/utils/fixes.py\u001b[0m in \u001b[0;36m__call__\u001b[0;34m(self, *args, **kwargs)\u001b[0m\n\u001b[1;32m    209\u001b[0m     \u001b[0;32mdef\u001b[0m \u001b[0m__call__\u001b[0m\u001b[0;34m(\u001b[0m\u001b[0mself\u001b[0m\u001b[0;34m,\u001b[0m \u001b[0;34m*\u001b[0m\u001b[0margs\u001b[0m\u001b[0;34m,\u001b[0m \u001b[0;34m**\u001b[0m\u001b[0mkwargs\u001b[0m\u001b[0;34m)\u001b[0m\u001b[0;34m:\u001b[0m\u001b[0;34m\u001b[0m\u001b[0;34m\u001b[0m\u001b[0m\n\u001b[1;32m    210\u001b[0m         \u001b[0;32mwith\u001b[0m \u001b[0mconfig_context\u001b[0m\u001b[0;34m(\u001b[0m\u001b[0;34m**\u001b[0m\u001b[0mself\u001b[0m\u001b[0;34m.\u001b[0m\u001b[0mconfig\u001b[0m\u001b[0;34m)\u001b[0m\u001b[0;34m:\u001b[0m\u001b[0;34m\u001b[0m\u001b[0;34m\u001b[0m\u001b[0m\n\u001b[0;32m--> 211\u001b[0;31m             \u001b[0;32mreturn\u001b[0m \u001b[0mself\u001b[0m\u001b[0;34m.\u001b[0m\u001b[0mfunction\u001b[0m\u001b[0;34m(\u001b[0m\u001b[0;34m*\u001b[0m\u001b[0margs\u001b[0m\u001b[0;34m,\u001b[0m \u001b[0;34m**\u001b[0m\u001b[0mkwargs\u001b[0m\u001b[0;34m)\u001b[0m\u001b[0;34m\u001b[0m\u001b[0;34m\u001b[0m\u001b[0m\n\u001b[0m\u001b[1;32m    212\u001b[0m \u001b[0;34m\u001b[0m\u001b[0m\n\u001b[1;32m    213\u001b[0m \u001b[0;34m\u001b[0m\u001b[0m\n",
            "\u001b[0;32m/usr/local/lib/python3.7/dist-packages/sklearn/linear_model/_logistic.py\u001b[0m in \u001b[0;36m_logistic_regression_path\u001b[0;34m(X, y, pos_class, Cs, fit_intercept, max_iter, tol, verbose, solver, coef, class_weight, dual, penalty, intercept_scaling, multi_class, random_state, check_input, max_squared_sum, sample_weight, l1_ratio)\u001b[0m\n\u001b[1;32m    810\u001b[0m                 \u001b[0mjac\u001b[0m\u001b[0;34m=\u001b[0m\u001b[0;32mTrue\u001b[0m\u001b[0;34m,\u001b[0m\u001b[0;34m\u001b[0m\u001b[0;34m\u001b[0m\u001b[0m\n\u001b[1;32m    811\u001b[0m                 \u001b[0margs\u001b[0m\u001b[0;34m=\u001b[0m\u001b[0;34m(\u001b[0m\u001b[0mX\u001b[0m\u001b[0;34m,\u001b[0m \u001b[0mtarget\u001b[0m\u001b[0;34m,\u001b[0m \u001b[0;36m1.0\u001b[0m \u001b[0;34m/\u001b[0m \u001b[0mC\u001b[0m\u001b[0;34m,\u001b[0m \u001b[0msample_weight\u001b[0m\u001b[0;34m)\u001b[0m\u001b[0;34m,\u001b[0m\u001b[0;34m\u001b[0m\u001b[0;34m\u001b[0m\u001b[0m\n\u001b[0;32m--> 812\u001b[0;31m                 \u001b[0moptions\u001b[0m\u001b[0;34m=\u001b[0m\u001b[0;34m{\u001b[0m\u001b[0;34m\"iprint\"\u001b[0m\u001b[0;34m:\u001b[0m \u001b[0miprint\u001b[0m\u001b[0;34m,\u001b[0m \u001b[0;34m\"gtol\"\u001b[0m\u001b[0;34m:\u001b[0m \u001b[0mtol\u001b[0m\u001b[0;34m,\u001b[0m \u001b[0;34m\"maxiter\"\u001b[0m\u001b[0;34m:\u001b[0m \u001b[0mmax_iter\u001b[0m\u001b[0;34m}\u001b[0m\u001b[0;34m,\u001b[0m\u001b[0;34m\u001b[0m\u001b[0;34m\u001b[0m\u001b[0m\n\u001b[0m\u001b[1;32m    813\u001b[0m             )\n\u001b[1;32m    814\u001b[0m             n_iter_i = _check_optimize_result(\n",
            "\u001b[0;32m/usr/local/lib/python3.7/dist-packages/scipy/optimize/_minimize.py\u001b[0m in \u001b[0;36mminimize\u001b[0;34m(fun, x0, args, method, jac, hess, hessp, bounds, constraints, tol, callback, options)\u001b[0m\n\u001b[1;32m    608\u001b[0m     \u001b[0;32melif\u001b[0m \u001b[0mmeth\u001b[0m \u001b[0;34m==\u001b[0m \u001b[0;34m'l-bfgs-b'\u001b[0m\u001b[0;34m:\u001b[0m\u001b[0;34m\u001b[0m\u001b[0;34m\u001b[0m\u001b[0m\n\u001b[1;32m    609\u001b[0m         return _minimize_lbfgsb(fun, x0, args, jac, bounds,\n\u001b[0;32m--> 610\u001b[0;31m                                 callback=callback, **options)\n\u001b[0m\u001b[1;32m    611\u001b[0m     \u001b[0;32melif\u001b[0m \u001b[0mmeth\u001b[0m \u001b[0;34m==\u001b[0m \u001b[0;34m'tnc'\u001b[0m\u001b[0;34m:\u001b[0m\u001b[0;34m\u001b[0m\u001b[0;34m\u001b[0m\u001b[0m\n\u001b[1;32m    612\u001b[0m         return _minimize_tnc(fun, x0, args, jac, bounds, callback=callback,\n",
            "\u001b[0;32m/usr/local/lib/python3.7/dist-packages/scipy/optimize/lbfgsb.py\u001b[0m in \u001b[0;36m_minimize_lbfgsb\u001b[0;34m(fun, x0, args, jac, bounds, disp, maxcor, ftol, gtol, eps, maxfun, maxiter, iprint, callback, maxls, **unknown_options)\u001b[0m\n\u001b[1;32m    343\u001b[0m             \u001b[0;31m# until the completion of the current minimization iteration.\u001b[0m\u001b[0;34m\u001b[0m\u001b[0;34m\u001b[0m\u001b[0;34m\u001b[0m\u001b[0m\n\u001b[1;32m    344\u001b[0m             \u001b[0;31m# Overwrite f and g:\u001b[0m\u001b[0;34m\u001b[0m\u001b[0;34m\u001b[0m\u001b[0;34m\u001b[0m\u001b[0m\n\u001b[0;32m--> 345\u001b[0;31m             \u001b[0mf\u001b[0m\u001b[0;34m,\u001b[0m \u001b[0mg\u001b[0m \u001b[0;34m=\u001b[0m \u001b[0mfunc_and_grad\u001b[0m\u001b[0;34m(\u001b[0m\u001b[0mx\u001b[0m\u001b[0;34m)\u001b[0m\u001b[0;34m\u001b[0m\u001b[0;34m\u001b[0m\u001b[0m\n\u001b[0m\u001b[1;32m    346\u001b[0m         \u001b[0;32melif\u001b[0m \u001b[0mtask_str\u001b[0m\u001b[0;34m.\u001b[0m\u001b[0mstartswith\u001b[0m\u001b[0;34m(\u001b[0m\u001b[0;34mb'NEW_X'\u001b[0m\u001b[0;34m)\u001b[0m\u001b[0;34m:\u001b[0m\u001b[0;34m\u001b[0m\u001b[0;34m\u001b[0m\u001b[0m\n\u001b[1;32m    347\u001b[0m             \u001b[0;31m# new iteration\u001b[0m\u001b[0;34m\u001b[0m\u001b[0;34m\u001b[0m\u001b[0;34m\u001b[0m\u001b[0m\n",
            "\u001b[0;32m/usr/local/lib/python3.7/dist-packages/scipy/optimize/lbfgsb.py\u001b[0m in \u001b[0;36mfunc_and_grad\u001b[0;34m(x)\u001b[0m\n\u001b[1;32m    293\u001b[0m     \u001b[0;32melse\u001b[0m\u001b[0;34m:\u001b[0m\u001b[0;34m\u001b[0m\u001b[0;34m\u001b[0m\u001b[0m\n\u001b[1;32m    294\u001b[0m         \u001b[0;32mdef\u001b[0m \u001b[0mfunc_and_grad\u001b[0m\u001b[0;34m(\u001b[0m\u001b[0mx\u001b[0m\u001b[0;34m)\u001b[0m\u001b[0;34m:\u001b[0m\u001b[0;34m\u001b[0m\u001b[0;34m\u001b[0m\u001b[0m\n\u001b[0;32m--> 295\u001b[0;31m             \u001b[0mf\u001b[0m \u001b[0;34m=\u001b[0m \u001b[0mfun\u001b[0m\u001b[0;34m(\u001b[0m\u001b[0mx\u001b[0m\u001b[0;34m,\u001b[0m \u001b[0;34m*\u001b[0m\u001b[0margs\u001b[0m\u001b[0;34m)\u001b[0m\u001b[0;34m\u001b[0m\u001b[0;34m\u001b[0m\u001b[0m\n\u001b[0m\u001b[1;32m    296\u001b[0m             \u001b[0mg\u001b[0m \u001b[0;34m=\u001b[0m \u001b[0mjac\u001b[0m\u001b[0;34m(\u001b[0m\u001b[0mx\u001b[0m\u001b[0;34m,\u001b[0m \u001b[0;34m*\u001b[0m\u001b[0margs\u001b[0m\u001b[0;34m)\u001b[0m\u001b[0;34m\u001b[0m\u001b[0;34m\u001b[0m\u001b[0m\n\u001b[1;32m    297\u001b[0m             \u001b[0;32mreturn\u001b[0m \u001b[0mf\u001b[0m\u001b[0;34m,\u001b[0m \u001b[0mg\u001b[0m\u001b[0;34m\u001b[0m\u001b[0;34m\u001b[0m\u001b[0m\n",
            "\u001b[0;32m/usr/local/lib/python3.7/dist-packages/scipy/optimize/optimize.py\u001b[0m in \u001b[0;36mfunction_wrapper\u001b[0;34m(*wrapper_args)\u001b[0m\n\u001b[1;32m    325\u001b[0m     \u001b[0;32mdef\u001b[0m \u001b[0mfunction_wrapper\u001b[0m\u001b[0;34m(\u001b[0m\u001b[0;34m*\u001b[0m\u001b[0mwrapper_args\u001b[0m\u001b[0;34m)\u001b[0m\u001b[0;34m:\u001b[0m\u001b[0;34m\u001b[0m\u001b[0;34m\u001b[0m\u001b[0m\n\u001b[1;32m    326\u001b[0m         \u001b[0mncalls\u001b[0m\u001b[0;34m[\u001b[0m\u001b[0;36m0\u001b[0m\u001b[0;34m]\u001b[0m \u001b[0;34m+=\u001b[0m \u001b[0;36m1\u001b[0m\u001b[0;34m\u001b[0m\u001b[0;34m\u001b[0m\u001b[0m\n\u001b[0;32m--> 327\u001b[0;31m         \u001b[0;32mreturn\u001b[0m \u001b[0mfunction\u001b[0m\u001b[0;34m(\u001b[0m\u001b[0;34m*\u001b[0m\u001b[0;34m(\u001b[0m\u001b[0mwrapper_args\u001b[0m \u001b[0;34m+\u001b[0m \u001b[0margs\u001b[0m\u001b[0;34m)\u001b[0m\u001b[0;34m)\u001b[0m\u001b[0;34m\u001b[0m\u001b[0;34m\u001b[0m\u001b[0m\n\u001b[0m\u001b[1;32m    328\u001b[0m \u001b[0;34m\u001b[0m\u001b[0m\n\u001b[1;32m    329\u001b[0m     \u001b[0;32mreturn\u001b[0m \u001b[0mncalls\u001b[0m\u001b[0;34m,\u001b[0m \u001b[0mfunction_wrapper\u001b[0m\u001b[0;34m\u001b[0m\u001b[0;34m\u001b[0m\u001b[0m\n",
            "\u001b[0;32m/usr/local/lib/python3.7/dist-packages/scipy/optimize/optimize.py\u001b[0m in \u001b[0;36m__call__\u001b[0;34m(self, x, *args)\u001b[0m\n\u001b[1;32m     63\u001b[0m     \u001b[0;32mdef\u001b[0m \u001b[0m__call__\u001b[0m\u001b[0;34m(\u001b[0m\u001b[0mself\u001b[0m\u001b[0;34m,\u001b[0m \u001b[0mx\u001b[0m\u001b[0;34m,\u001b[0m \u001b[0;34m*\u001b[0m\u001b[0margs\u001b[0m\u001b[0;34m)\u001b[0m\u001b[0;34m:\u001b[0m\u001b[0;34m\u001b[0m\u001b[0;34m\u001b[0m\u001b[0m\n\u001b[1;32m     64\u001b[0m         \u001b[0mself\u001b[0m\u001b[0;34m.\u001b[0m\u001b[0mx\u001b[0m \u001b[0;34m=\u001b[0m \u001b[0mnumpy\u001b[0m\u001b[0;34m.\u001b[0m\u001b[0masarray\u001b[0m\u001b[0;34m(\u001b[0m\u001b[0mx\u001b[0m\u001b[0;34m)\u001b[0m\u001b[0;34m.\u001b[0m\u001b[0mcopy\u001b[0m\u001b[0;34m(\u001b[0m\u001b[0;34m)\u001b[0m\u001b[0;34m\u001b[0m\u001b[0;34m\u001b[0m\u001b[0m\n\u001b[0;32m---> 65\u001b[0;31m         \u001b[0mfg\u001b[0m \u001b[0;34m=\u001b[0m \u001b[0mself\u001b[0m\u001b[0;34m.\u001b[0m\u001b[0mfun\u001b[0m\u001b[0;34m(\u001b[0m\u001b[0mx\u001b[0m\u001b[0;34m,\u001b[0m \u001b[0;34m*\u001b[0m\u001b[0margs\u001b[0m\u001b[0;34m)\u001b[0m\u001b[0;34m\u001b[0m\u001b[0;34m\u001b[0m\u001b[0m\n\u001b[0m\u001b[1;32m     66\u001b[0m         \u001b[0mself\u001b[0m\u001b[0;34m.\u001b[0m\u001b[0mjac\u001b[0m \u001b[0;34m=\u001b[0m \u001b[0mfg\u001b[0m\u001b[0;34m[\u001b[0m\u001b[0;36m1\u001b[0m\u001b[0;34m]\u001b[0m\u001b[0;34m\u001b[0m\u001b[0;34m\u001b[0m\u001b[0m\n\u001b[1;32m     67\u001b[0m         \u001b[0;32mreturn\u001b[0m \u001b[0mfg\u001b[0m\u001b[0;34m[\u001b[0m\u001b[0;36m0\u001b[0m\u001b[0;34m]\u001b[0m\u001b[0;34m\u001b[0m\u001b[0;34m\u001b[0m\u001b[0m\n",
            "\u001b[0;32m/usr/local/lib/python3.7/dist-packages/sklearn/linear_model/_logistic.py\u001b[0m in \u001b[0;36mfunc\u001b[0;34m(x, *args)\u001b[0m\n\u001b[1;32m    772\u001b[0m \u001b[0;34m\u001b[0m\u001b[0m\n\u001b[1;32m    773\u001b[0m             \u001b[0;32mdef\u001b[0m \u001b[0mfunc\u001b[0m\u001b[0;34m(\u001b[0m\u001b[0mx\u001b[0m\u001b[0;34m,\u001b[0m \u001b[0;34m*\u001b[0m\u001b[0margs\u001b[0m\u001b[0;34m)\u001b[0m\u001b[0;34m:\u001b[0m\u001b[0;34m\u001b[0m\u001b[0;34m\u001b[0m\u001b[0m\n\u001b[0;32m--> 774\u001b[0;31m                 \u001b[0;32mreturn\u001b[0m \u001b[0m_multinomial_loss_grad\u001b[0m\u001b[0;34m(\u001b[0m\u001b[0mx\u001b[0m\u001b[0;34m,\u001b[0m \u001b[0;34m*\u001b[0m\u001b[0margs\u001b[0m\u001b[0;34m)\u001b[0m\u001b[0;34m[\u001b[0m\u001b[0;36m0\u001b[0m\u001b[0;34m:\u001b[0m\u001b[0;36m2\u001b[0m\u001b[0;34m]\u001b[0m\u001b[0;34m\u001b[0m\u001b[0;34m\u001b[0m\u001b[0m\n\u001b[0m\u001b[1;32m    775\u001b[0m \u001b[0;34m\u001b[0m\u001b[0m\n\u001b[1;32m    776\u001b[0m         \u001b[0;32melif\u001b[0m \u001b[0msolver\u001b[0m \u001b[0;34m==\u001b[0m \u001b[0;34m\"newton-cg\"\u001b[0m\u001b[0;34m:\u001b[0m\u001b[0;34m\u001b[0m\u001b[0;34m\u001b[0m\u001b[0m\n",
            "\u001b[0;32m/usr/local/lib/python3.7/dist-packages/sklearn/linear_model/_logistic.py\u001b[0m in \u001b[0;36m_multinomial_loss_grad\u001b[0;34m(w, X, Y, alpha, sample_weight)\u001b[0m\n\u001b[1;32m    349\u001b[0m     \u001b[0msample_weight\u001b[0m \u001b[0;34m=\u001b[0m \u001b[0msample_weight\u001b[0m\u001b[0;34m[\u001b[0m\u001b[0;34m:\u001b[0m\u001b[0;34m,\u001b[0m \u001b[0mnp\u001b[0m\u001b[0;34m.\u001b[0m\u001b[0mnewaxis\u001b[0m\u001b[0;34m]\u001b[0m\u001b[0;34m\u001b[0m\u001b[0;34m\u001b[0m\u001b[0m\n\u001b[1;32m    350\u001b[0m     \u001b[0mdiff\u001b[0m \u001b[0;34m=\u001b[0m \u001b[0msample_weight\u001b[0m \u001b[0;34m*\u001b[0m \u001b[0;34m(\u001b[0m\u001b[0mp\u001b[0m \u001b[0;34m-\u001b[0m \u001b[0mY\u001b[0m\u001b[0;34m)\u001b[0m\u001b[0;34m\u001b[0m\u001b[0;34m\u001b[0m\u001b[0m\n\u001b[0;32m--> 351\u001b[0;31m     \u001b[0mgrad\u001b[0m\u001b[0;34m[\u001b[0m\u001b[0;34m:\u001b[0m\u001b[0;34m,\u001b[0m \u001b[0;34m:\u001b[0m\u001b[0mn_features\u001b[0m\u001b[0;34m]\u001b[0m \u001b[0;34m=\u001b[0m \u001b[0msafe_sparse_dot\u001b[0m\u001b[0;34m(\u001b[0m\u001b[0mdiff\u001b[0m\u001b[0;34m.\u001b[0m\u001b[0mT\u001b[0m\u001b[0;34m,\u001b[0m \u001b[0mX\u001b[0m\u001b[0;34m)\u001b[0m\u001b[0;34m\u001b[0m\u001b[0;34m\u001b[0m\u001b[0m\n\u001b[0m\u001b[1;32m    352\u001b[0m     \u001b[0mgrad\u001b[0m\u001b[0;34m[\u001b[0m\u001b[0;34m:\u001b[0m\u001b[0;34m,\u001b[0m \u001b[0;34m:\u001b[0m\u001b[0mn_features\u001b[0m\u001b[0;34m]\u001b[0m \u001b[0;34m+=\u001b[0m \u001b[0malpha\u001b[0m \u001b[0;34m*\u001b[0m \u001b[0mw\u001b[0m\u001b[0;34m\u001b[0m\u001b[0;34m\u001b[0m\u001b[0m\n\u001b[1;32m    353\u001b[0m     \u001b[0;32mif\u001b[0m \u001b[0mfit_intercept\u001b[0m\u001b[0;34m:\u001b[0m\u001b[0;34m\u001b[0m\u001b[0;34m\u001b[0m\u001b[0m\n",
            "\u001b[0;32m/usr/local/lib/python3.7/dist-packages/sklearn/utils/extmath.py\u001b[0m in \u001b[0;36msafe_sparse_dot\u001b[0;34m(a, b, dense_output)\u001b[0m\n\u001b[1;32m    151\u001b[0m             \u001b[0mret\u001b[0m \u001b[0;34m=\u001b[0m \u001b[0mnp\u001b[0m\u001b[0;34m.\u001b[0m\u001b[0mdot\u001b[0m\u001b[0;34m(\u001b[0m\u001b[0ma\u001b[0m\u001b[0;34m,\u001b[0m \u001b[0mb\u001b[0m\u001b[0;34m)\u001b[0m\u001b[0;34m\u001b[0m\u001b[0;34m\u001b[0m\u001b[0m\n\u001b[1;32m    152\u001b[0m     \u001b[0;32melse\u001b[0m\u001b[0;34m:\u001b[0m\u001b[0;34m\u001b[0m\u001b[0;34m\u001b[0m\u001b[0m\n\u001b[0;32m--> 153\u001b[0;31m         \u001b[0mret\u001b[0m \u001b[0;34m=\u001b[0m \u001b[0ma\u001b[0m \u001b[0;34m@\u001b[0m \u001b[0mb\u001b[0m\u001b[0;34m\u001b[0m\u001b[0;34m\u001b[0m\u001b[0m\n\u001b[0m\u001b[1;32m    154\u001b[0m \u001b[0;34m\u001b[0m\u001b[0m\n\u001b[1;32m    155\u001b[0m     if (\n",
            "\u001b[0;32m/usr/local/lib/python3.7/dist-packages/scipy/sparse/base.py\u001b[0m in \u001b[0;36m__rmatmul__\u001b[0;34m(self, other)\u001b[0m\n\u001b[1;32m    568\u001b[0m             raise ValueError(\"Scalar operands are not allowed, \"\n\u001b[1;32m    569\u001b[0m                              \"use '*' instead\")\n\u001b[0;32m--> 570\u001b[0;31m         \u001b[0;32mreturn\u001b[0m \u001b[0mself\u001b[0m\u001b[0;34m.\u001b[0m\u001b[0m__rmul__\u001b[0m\u001b[0;34m(\u001b[0m\u001b[0mother\u001b[0m\u001b[0;34m)\u001b[0m\u001b[0;34m\u001b[0m\u001b[0;34m\u001b[0m\u001b[0m\n\u001b[0m\u001b[1;32m    571\u001b[0m \u001b[0;34m\u001b[0m\u001b[0m\n\u001b[1;32m    572\u001b[0m     \u001b[0;31m####################\u001b[0m\u001b[0;34m\u001b[0m\u001b[0;34m\u001b[0m\u001b[0;34m\u001b[0m\u001b[0m\n",
            "\u001b[0;32m/usr/local/lib/python3.7/dist-packages/scipy/sparse/base.py\u001b[0m in \u001b[0;36m__rmul__\u001b[0;34m(self, other)\u001b[0m\n\u001b[1;32m    552\u001b[0m             \u001b[0;32mexcept\u001b[0m \u001b[0mAttributeError\u001b[0m\u001b[0;34m:\u001b[0m\u001b[0;34m\u001b[0m\u001b[0;34m\u001b[0m\u001b[0m\n\u001b[1;32m    553\u001b[0m                 \u001b[0mtr\u001b[0m \u001b[0;34m=\u001b[0m \u001b[0mnp\u001b[0m\u001b[0;34m.\u001b[0m\u001b[0masarray\u001b[0m\u001b[0;34m(\u001b[0m\u001b[0mother\u001b[0m\u001b[0;34m)\u001b[0m\u001b[0;34m.\u001b[0m\u001b[0mtranspose\u001b[0m\u001b[0;34m(\u001b[0m\u001b[0;34m)\u001b[0m\u001b[0;34m\u001b[0m\u001b[0;34m\u001b[0m\u001b[0m\n\u001b[0;32m--> 554\u001b[0;31m             \u001b[0;32mreturn\u001b[0m \u001b[0;34m(\u001b[0m\u001b[0mself\u001b[0m\u001b[0;34m.\u001b[0m\u001b[0mtranspose\u001b[0m\u001b[0;34m(\u001b[0m\u001b[0;34m)\u001b[0m \u001b[0;34m*\u001b[0m \u001b[0mtr\u001b[0m\u001b[0;34m)\u001b[0m\u001b[0;34m.\u001b[0m\u001b[0mtranspose\u001b[0m\u001b[0;34m(\u001b[0m\u001b[0;34m)\u001b[0m\u001b[0;34m\u001b[0m\u001b[0;34m\u001b[0m\u001b[0m\n\u001b[0m\u001b[1;32m    555\u001b[0m \u001b[0;34m\u001b[0m\u001b[0m\n\u001b[1;32m    556\u001b[0m     \u001b[0;31m#####################################\u001b[0m\u001b[0;34m\u001b[0m\u001b[0;34m\u001b[0m\u001b[0;34m\u001b[0m\u001b[0m\n",
            "\u001b[0;32m/usr/local/lib/python3.7/dist-packages/scipy/sparse/base.py\u001b[0m in \u001b[0;36m__mul__\u001b[0;34m(self, other)\u001b[0m\n\u001b[1;32m    473\u001b[0m                 \u001b[0;32mreturn\u001b[0m \u001b[0mself\u001b[0m\u001b[0;34m.\u001b[0m\u001b[0m_mul_vector\u001b[0m\u001b[0;34m(\u001b[0m\u001b[0mother\u001b[0m\u001b[0;34m.\u001b[0m\u001b[0mravel\u001b[0m\u001b[0;34m(\u001b[0m\u001b[0;34m)\u001b[0m\u001b[0;34m)\u001b[0m\u001b[0;34m.\u001b[0m\u001b[0mreshape\u001b[0m\u001b[0;34m(\u001b[0m\u001b[0mM\u001b[0m\u001b[0;34m,\u001b[0m \u001b[0;36m1\u001b[0m\u001b[0;34m)\u001b[0m\u001b[0;34m\u001b[0m\u001b[0;34m\u001b[0m\u001b[0m\n\u001b[1;32m    474\u001b[0m             \u001b[0;32melif\u001b[0m \u001b[0mother\u001b[0m\u001b[0;34m.\u001b[0m\u001b[0mndim\u001b[0m \u001b[0;34m==\u001b[0m \u001b[0;36m2\u001b[0m \u001b[0;32mand\u001b[0m \u001b[0mother\u001b[0m\u001b[0;34m.\u001b[0m\u001b[0mshape\u001b[0m\u001b[0;34m[\u001b[0m\u001b[0;36m0\u001b[0m\u001b[0;34m]\u001b[0m \u001b[0;34m==\u001b[0m \u001b[0mN\u001b[0m\u001b[0;34m:\u001b[0m\u001b[0;34m\u001b[0m\u001b[0;34m\u001b[0m\u001b[0m\n\u001b[0;32m--> 475\u001b[0;31m                 \u001b[0;32mreturn\u001b[0m \u001b[0mself\u001b[0m\u001b[0;34m.\u001b[0m\u001b[0m_mul_multivector\u001b[0m\u001b[0;34m(\u001b[0m\u001b[0mother\u001b[0m\u001b[0;34m)\u001b[0m\u001b[0;34m\u001b[0m\u001b[0;34m\u001b[0m\u001b[0m\n\u001b[0m\u001b[1;32m    476\u001b[0m \u001b[0;34m\u001b[0m\u001b[0m\n\u001b[1;32m    477\u001b[0m         \u001b[0;32mif\u001b[0m \u001b[0misscalarlike\u001b[0m\u001b[0;34m(\u001b[0m\u001b[0mother\u001b[0m\u001b[0;34m)\u001b[0m\u001b[0;34m:\u001b[0m\u001b[0;34m\u001b[0m\u001b[0;34m\u001b[0m\u001b[0m\n",
            "\u001b[0;32m/usr/local/lib/python3.7/dist-packages/scipy/sparse/compressed.py\u001b[0m in \u001b[0;36m_mul_multivector\u001b[0;34m(self, other)\u001b[0m\n\u001b[1;32m    485\u001b[0m         \u001b[0mfn\u001b[0m \u001b[0;34m=\u001b[0m \u001b[0mgetattr\u001b[0m\u001b[0;34m(\u001b[0m\u001b[0m_sparsetools\u001b[0m\u001b[0;34m,\u001b[0m \u001b[0mself\u001b[0m\u001b[0;34m.\u001b[0m\u001b[0mformat\u001b[0m \u001b[0;34m+\u001b[0m \u001b[0;34m'_matvecs'\u001b[0m\u001b[0;34m)\u001b[0m\u001b[0;34m\u001b[0m\u001b[0;34m\u001b[0m\u001b[0m\n\u001b[1;32m    486\u001b[0m         fn(M, N, n_vecs, self.indptr, self.indices, self.data,\n\u001b[0;32m--> 487\u001b[0;31m            other.ravel(), result.ravel())\n\u001b[0m\u001b[1;32m    488\u001b[0m \u001b[0;34m\u001b[0m\u001b[0m\n\u001b[1;32m    489\u001b[0m         \u001b[0;32mreturn\u001b[0m \u001b[0mresult\u001b[0m\u001b[0;34m\u001b[0m\u001b[0;34m\u001b[0m\u001b[0m\n",
            "\u001b[0;31mKeyboardInterrupt\u001b[0m: "
          ]
        }
      ]
    },
    {
      "cell_type": "code",
      "metadata": {
        "colab": {
          "base_uri": "https://localhost:8080/"
        },
        "id": "gX8_ZNC6fcrO",
        "outputId": "b5b715fd-1059-4efc-e0b2-fa1acb6e1c4f"
      },
      "source": [
        "lr=LogisticRegression(multi_class='multinomial', solver=\"saga\", random_state=100) #multi_class{‘auto’, ‘ovr’, ‘multinomial’}, \n",
        "#solver{‘newton-cg’, ‘lbfgs’, ‘liblinear’, ‘sag’, ‘saga’}, default=’lbfgs’\n",
        "\n",
        "lr.fit(count_train, y_train)\n",
        "lr_pred = lr.predict(count_test)\n",
        "metrics.accuracy_score(y_test ,lr_pred)\n"
      ],
      "id": "gX8_ZNC6fcrO",
      "execution_count": 58,
      "outputs": [
        {
          "output_type": "stream",
          "name": "stderr",
          "text": [
            "/usr/local/lib/python3.7/dist-packages/sklearn/linear_model/_sag.py:354: ConvergenceWarning: The max_iter was reached which means the coef_ did not converge\n",
            "  ConvergenceWarning,\n"
          ]
        },
        {
          "output_type": "execute_result",
          "data": {
            "text/plain": [
              "0.7498946481247366"
            ]
          },
          "metadata": {},
          "execution_count": 58
        }
      ]
    },
    {
      "cell_type": "code",
      "metadata": {
        "colab": {
          "base_uri": "https://localhost:8080/"
        },
        "id": "oixccybdfcun",
        "outputId": "80371af5-2560-4da7-b74f-ae8e7360da29"
      },
      "source": [
        "f1_score(y_test, lr_pred, average=\"macro\")"
      ],
      "id": "oixccybdfcun",
      "execution_count": 59,
      "outputs": [
        {
          "output_type": "execute_result",
          "data": {
            "text/plain": [
              "0.6557587686600752"
            ]
          },
          "metadata": {},
          "execution_count": 59
        }
      ]
    },
    {
      "cell_type": "markdown",
      "metadata": {
        "id": "i8YPR6Nppbg2"
      },
      "source": [
        "Ridge Classifier"
      ],
      "id": "i8YPR6Nppbg2"
    },
    {
      "cell_type": "code",
      "metadata": {
        "colab": {
          "base_uri": "https://localhost:8080/"
        },
        "id": "oMAesUV2pZC4",
        "outputId": "219b859e-151d-4cdf-d94e-44e84d68f5db"
      },
      "source": [
        "rc = RidgeClassifier()\n",
        "\n",
        "rrc=RidgeClassifier(alpha=1.0, solver='auto',tol=0.001).fit(count_train, y_train) #(alpha=1.0, solver='auto',tol=0.001).fit(count_train, y_train)\n",
        "#{‘auto’, ‘svd’, ‘cholesky’, ‘lsqr’, ‘sparse_cg’, ‘sag’, ‘saga’, ‘lbfgs’}\n",
        "\n",
        "rcc_pred = rrc.predict(count_test)\n",
        "\n",
        "print(metrics.accuracy_score(y_test ,rcc_pred))\n",
        "print(f1_score(y_test, rcc_pred, average=\"macro\"))"
      ],
      "id": "oMAesUV2pZC4",
      "execution_count": 60,
      "outputs": [
        {
          "output_type": "stream",
          "name": "stdout",
          "text": [
            "0.7458912768647282\n",
            "0.6596918744157119\n"
          ]
        }
      ]
    },
    {
      "cell_type": "code",
      "metadata": {
        "colab": {
          "base_uri": "https://localhost:8080/"
        },
        "id": "bdOR0HOv0foX",
        "outputId": "c369e091-6e3b-41d4-9c42-e5df29a82e5b"
      },
      "source": [
        "\n",
        "rrc=RidgeClassifier(alpha=10, solver='cholesky',tol=0.08, fit_intercept=False).fit(count_train, y_train) #(alpha=1.0, solver='auto',tol=0.001).fit(count_train, y_train)\n",
        "#{‘auto’, ‘svd’, ‘cholesky’, ‘lsqr’, ‘sparse_cg’, ‘sag’, ‘saga’, ‘lbfgs’}\n",
        "\n",
        "rcc_pred = rrc.predict(count_test)\n",
        "\n",
        "print(metrics.accuracy_score(y_test ,rcc_pred))\n",
        "print(f1_score(y_test, rcc_pred, average=\"macro\"))"
      ],
      "id": "bdOR0HOv0foX",
      "execution_count": 61,
      "outputs": [
        {
          "output_type": "stream",
          "name": "stdout",
          "text": [
            "0.7511588706278972\n",
            "0.6528527500795417\n"
          ]
        }
      ]
    },
    {
      "cell_type": "code",
      "metadata": {
        "colab": {
          "base_uri": "https://localhost:8080/"
        },
        "id": "7h02o7Dv0LGx",
        "outputId": "b5106d37-811e-4495-9442-4d3a724e2335"
      },
      "source": [
        "model = RidgeClassifier()\n",
        "alpha = [0.1, 0.2, 0.9, 1.0]\n",
        "# define grid search\n",
        "grid = dict(alpha=alpha)\n",
        "cv = RepeatedStratifiedKFold(n_splits=10, n_repeats=3, random_state=1)\n",
        "ridge = GridSearchCV(estimator=model, param_grid=grid, n_jobs=-1, cv=cv, scoring='accuracy',error_score=0).fit(count_train, y_train)\n",
        "ridge_pred = ridge.predict(count_test)\n",
        "metrics.accuracy_score(y_test ,ridge_pred)"
      ],
      "id": "7h02o7Dv0LGx",
      "execution_count": null,
      "outputs": [
        {
          "output_type": "execute_result",
          "data": {
            "text/plain": [
              "0.7458912768647282"
            ]
          },
          "metadata": {},
          "execution_count": 28
        }
      ]
    },
    {
      "cell_type": "code",
      "metadata": {
        "colab": {
          "base_uri": "https://localhost:8080/"
        },
        "id": "VI3gRN3epZFo",
        "outputId": "f4f359fa-09dc-4a0a-8430-240c579cb640"
      },
      "source": [
        "f1_score(y_test, lr_pred, average=\"macro\")"
      ],
      "id": "VI3gRN3epZFo",
      "execution_count": 29,
      "outputs": [
        {
          "output_type": "execute_result",
          "data": {
            "text/plain": [
              "0.6550919096119828"
            ]
          },
          "metadata": {},
          "execution_count": 29
        }
      ]
    },
    {
      "cell_type": "markdown",
      "metadata": {
        "id": "_44kZybQqIqL"
      },
      "source": [
        "MLP Classifier"
      ],
      "id": "_44kZybQqIqL"
    },
    {
      "cell_type": "code",
      "metadata": {
        "colab": {
          "base_uri": "https://localhost:8080/"
        },
        "id": "20NeKMP1qI5X",
        "outputId": "6cd558cd-ad0c-4223-ff65-bfc7d40ff2aa"
      },
      "source": [
        "\n",
        "from sklearn.neural_network import MLPClassifier\n",
        "mlp_clf = MLPClassifier(hidden_layer_sizes=(100,50,30),\n",
        "                        max_iter = 10,activation = 'tanh',\n",
        "                        solver = 'adam').fit(count_train, y_train)\n",
        "\n",
        "mlp_pred = mlp_clf.predict(count_test)\n",
        "\n",
        "print(metrics.accuracy_score(y_test ,mlp_pred))\n",
        "print(f1_score(y_test, mlp_pred, average=\"macro\"))\n"
      ],
      "id": "20NeKMP1qI5X",
      "execution_count": 62,
      "outputs": [
        {
          "output_type": "stream",
          "name": "stdout",
          "text": [
            "0.7488411293721028\n",
            "0.6627649692352936\n"
          ]
        },
        {
          "output_type": "stream",
          "name": "stderr",
          "text": [
            "/usr/local/lib/python3.7/dist-packages/sklearn/neural_network/_multilayer_perceptron.py:696: ConvergenceWarning: Stochastic Optimizer: Maximum iterations (10) reached and the optimization hasn't converged yet.\n",
            "  ConvergenceWarning,\n"
          ]
        }
      ]
    },
    {
      "cell_type": "code",
      "metadata": {
        "id": "BoLWq-O0qJGo"
      },
      "source": [
        "param_grid = {\n",
        "    'hidden_layer_sizes': [(150,100,50), (120,80,40), (100,50,30)],\n",
        "    'max_iter': [50, 100, 150],\n",
        "    'activation': ['tanh', 'relu'],\n",
        "    'solver': ['sgd', 'adam'],\n",
        "    'alpha': [0.0001, 0.05],\n",
        "    'learning_rate': ['constant','adaptive'],\n",
        "}\n",
        "grid = GridSearchCV(mlp_clf, param_grid, n_jobs= -1, cv=5)\n",
        "grid.fit(count_train, y_train)\n",
        "\n",
        "print(grid.best_params_) \n",
        "\n",
        "\n",
        "grid_predictions = grid.predict(count_test)"
      ],
      "id": "BoLWq-O0qJGo",
      "execution_count": null,
      "outputs": []
    },
    {
      "cell_type": "markdown",
      "metadata": {
        "id": "iKjbLLd1F3Wq"
      },
      "source": [
        "SVC"
      ],
      "id": "iKjbLLd1F3Wq"
    },
    {
      "cell_type": "code",
      "metadata": {
        "id": "b0d84867",
        "colab": {
          "base_uri": "https://localhost:8080/"
        },
        "outputId": "471216fd-6bad-478e-a324-fd211b7e017e"
      },
      "source": [
        "#svc = SVC(kernel='linear', gamma='auto', coef0=0.0000001, tol=0.0000002)   #,random_state=78)#{‘linear’, ‘poly’, ‘rbf’, ‘sigmoid’, ‘precomputed’}, default=’rbf’\n",
        "svc= SVC(kernel='rbf', C=10.0, random_state=1).fit(count_train, y_train)\n",
        "sv_pred = svc.predict(count_test)\n",
        "print(metrics.accuracy_score(y_test ,sv_pred))\n",
        "print(f1_score(y_test, sv_pred, average=\"macro\"))"
      ],
      "id": "b0d84867",
      "execution_count": 108,
      "outputs": [
        {
          "output_type": "stream",
          "name": "stdout",
          "text": [
            "0.7475769068689423\n",
            "0.6425191948546116\n"
          ]
        }
      ]
    },
    {
      "cell_type": "markdown",
      "metadata": {
        "id": "TXbVfDwwrwaf"
      },
      "source": [
        "Linear SVC"
      ],
      "id": "TXbVfDwwrwaf"
    },
    {
      "cell_type": "code",
      "metadata": {
        "colab": {
          "base_uri": "https://localhost:8080/"
        },
        "id": "V07MFIwZEN-V",
        "outputId": "a2cef75b-716c-49de-8ca5-a95ca1585fe7"
      },
      "source": [
        "svc = svm.LinearSVC().fit(count_train, y_train)\n",
        "sv_pred = svc.predict(count_test)\n",
        "print(metrics.accuracy_score(y_test ,sv_pred))\n",
        "print(f1_score(y_test, sv_pred, average=\"macro\"))"
      ],
      "id": "V07MFIwZEN-V",
      "execution_count": 106,
      "outputs": [
        {
          "output_type": "stream",
          "name": "stdout",
          "text": [
            "0.7511588706278972\n",
            "0.6638012039186718\n"
          ]
        }
      ]
    },
    {
      "cell_type": "code",
      "metadata": {
        "id": "83741bdd",
        "colab": {
          "base_uri": "https://localhost:8080/"
        },
        "outputId": "9c07ec82-4b67-4790-dd0d-a2fee7e376ff"
      },
      "source": [
        "conf_matrix = confusion_matrix(y_true=y_test, y_pred=sv_pred, labels=[-1, 0, 1, 2])\n",
        "conf_matrix"
      ],
      "id": "83741bdd",
      "execution_count": null,
      "outputs": [
        {
          "output_type": "execute_result",
          "data": {
            "text/plain": [
              "array([[  64,   22,  173,   19],\n",
              "       [   3,  158,  242,   22],\n",
              "       [   3,   52, 1555,  145],\n",
              "       [   3,    8,  160,  535]])"
            ]
          },
          "metadata": {},
          "execution_count": 52
        }
      ]
    },
    {
      "cell_type": "code",
      "metadata": {
        "id": "17d7c12e",
        "colab": {
          "base_uri": "https://localhost:8080/",
          "height": 357
        },
        "outputId": "5ee97c76-2ef6-489d-9b7f-4cd60e4cd5b1"
      },
      "source": [
        "fig, ax = plt.subplots(figsize=(5, 5))\n",
        "ax.matshow(conf_matrix, cmap=plt.cm.seismic, alpha=0.3)\n",
        "for i in range(conf_matrix.shape[0]):\n",
        "    for j in range(conf_matrix.shape[1]):\n",
        "        ax.text(x=j, y=i,s=conf_matrix[i, j], va='center', ha='center', size='xx-large')\n",
        " \n",
        "plt.xlabel('Predictions', fontsize=18)\n",
        "plt.ylabel('Actuals', fontsize=18)\n",
        "plt.title('Confusion Matrix', fontsize=18)\n",
        "plt.show()"
      ],
      "id": "17d7c12e",
      "execution_count": null,
      "outputs": [
        {
          "output_type": "display_data",
          "data": {
            "image/png": "[encoded data removed]",
            "text/plain": [
              "<Figure size 360x360 with 1 Axes>"
            ]
          },
          "metadata": {
            "needs_background": "light"
          }
        }
      ]
    },
    {
      "cell_type": "markdown",
      "metadata": {
        "id": "Ke9S3DGFYxpe"
      },
      "source": [
        "#Evaluating Models i.e Making Predictions on the Test Set:"
      ],
      "id": "Ke9S3DGFYxpe"
    },
    {
      "cell_type": "code",
      "metadata": {
        "id": "mFFo7TGrYs1-"
      },
      "source": [
        "# evaluate one or more ML models\n",
        "\n",
        "# Make training set predictions for each model\n",
        "pred_train_nb = nb_classifier.predict(count_train)  \n",
        "pred_test_nb = nb_classifier.predict(count_test) \n",
        "\n",
        "\n",
        "pred_train_rfc = rfc.predict(count_train) \n",
        "pred_test_rfc= rfc.predict(count_test)\n",
        "\n",
        "pred_train_lr = lr.predict(count_train) \n",
        "pred_test_lr= lr.predict(count_test)\n",
        "\n",
        "\n",
        "pred_train_rrc = rrc.predict(count_train) \n",
        "pred_test_rrc= rrc.predict(count_test)\n",
        "\n",
        "pred_train_mlp= mlp_clf.predict(count_train) \n",
        "pred_test_mlp= mlp_clf.predict(count_test)\n",
        "\n",
        "pred_train_svc= svc.predict(count_train) \n",
        "pred_test_svc= svc.predict(count_test)\n",
        "\n"
      ],
      "id": "mFFo7TGrYs1-",
      "execution_count": 68,
      "outputs": []
    },
    {
      "cell_type": "markdown",
      "metadata": {
        "id": "YE-4gIKBrLFA"
      },
      "source": [
        "# Comparing Model Performance: \n",
        "\n",
        "The Model is tested using and Error metrics which  enables us to track the efficiency and accuracy. The metrics we are using is called the F1_score. "
      ],
      "id": "YE-4gIKBrLFA"
    },
    {
      "cell_type": "markdown",
      "metadata": {
        "id": "6Je3Zmo4r9Dt"
      },
      "source": [
        "Formula\n",
        "\n"
      ],
      "id": "6Je3Zmo4r9Dt"
    },
    {
      "cell_type": "markdown",
      "metadata": {
        "id": "wK39-qybrLUw"
      },
      "source": [
        "### Model Performance Accuracy"
      ],
      "id": "wK39-qybrLUw"
    },
    {
      "cell_type": "code",
      "metadata": {
        "id": "EcQKPQBJZ8ru"
      },
      "source": [
        "# Compare model performance\n",
        "\n",
        "# Dictionary of results\n",
        "results_dict = {'Training accuracy_score':\n",
        "                    {\n",
        "                        \"Naive B\": metrics.accuracy_score(y_train ,pred_train_nb), \n",
        "                        \"FOREST\": metrics.accuracy_score(y_train ,pred_train_rfc),\n",
        "                        \"Logistic\":metrics.accuracy_score(y_train ,pred_train_lr),\n",
        "                        \"Ridge Classifier\": metrics.accuracy_score(y_train ,pred_train_rrc),\n",
        "                        \"MLP Classifier\": metrics.accuracy_score(y_train ,pred_train_mlp),\n",
        "                        \"Support Vector Classifier\": metrics.accuracy_score(y_train ,pred_train_svc)\n",
        "                      \n",
        "                     \n",
        "                     \n",
        "                    },\n",
        "                    'Test accuracy_score':\n",
        "                    {\n",
        "                        \"Naive B\": metrics.accuracy_score(y_test ,pred_test_nb),\n",
        "                        \"FOREST\": metrics.accuracy_score(y_test ,pred_test_rfc),\n",
        "                        \"Logistic\": metrics.accuracy_score(y_test ,pred_test_lr),\n",
        "                        \"Ridge Classifier\": metrics.accuracy_score(y_test ,pred_test_rrc),\n",
        "                        \"MLP Classifier\": metrics.accuracy_score(y_test,pred_test_mlp),\n",
        "                        \"Support Vector Classifier\": metrics.accuracy_score(y_test ,pred_test_svc)\n",
        "                    }\n",
        "                }\n"
      ],
      "id": "EcQKPQBJZ8ru",
      "execution_count": 72,
      "outputs": []
    },
    {
      "cell_type": "markdown",
      "metadata": {
        "id": "eNEiWqO_rrSr"
      },
      "source": [
        "### Model Performance F1_score"
      ],
      "id": "eNEiWqO_rrSr"
    },
    {
      "cell_type": "code",
      "metadata": {
        "id": "gUwY1CJ6onga"
      },
      "source": [
        "# Dictionary of results\n",
        "results_dict_scores = {'F1_score':\n",
        "                    {\n",
        "                        \"Naive B\": f1_score(y_test, pred_test_nb, average=\"macro\"), \n",
        "                        \"FOREST\": f1_score(y_test, pred_test_rfc, average=\"macro\"),\n",
        "                        \"Logistic\":f1_score(y_test, pred_test_lr, average=\"macro\"),\n",
        "                        \"Ridge Classifier\": f1_score(y_test, pred_test_rrc, average=\"macro\"),\n",
        "                        \"MLP Classifier\": f1_score(y_test, pred_test_mlp, average=\"macro\"),\n",
        "                        \"Support Vector Classifier\": f1_score(y_test, pred_test_svc, average=\"macro\")\n",
        "\n",
        "                    }\n",
        "                  \n",
        "                }"
      ],
      "id": "gUwY1CJ6onga",
      "execution_count": 73,
      "outputs": []
    },
    {
      "cell_type": "markdown",
      "metadata": {
        "id": "Q69DTvTJrZcD"
      },
      "source": [
        "# Results of all the models\n",
        "The results of the models are summarized and shown with regards to the Training and Testing RMSE."
      ],
      "id": "Q69DTvTJrZcD"
    },
    {
      "cell_type": "markdown",
      "metadata": {
        "id": "vjpliRFbseqV"
      },
      "source": [
        "### Results Based on Accuracy"
      ],
      "id": "vjpliRFbseqV"
    },
    {
      "cell_type": "code",
      "metadata": {
        "id": "O1V_D7XImRY1",
        "colab": {
          "base_uri": "https://localhost:8080/",
          "height": 234
        },
        "outputId": "d93970ea-d82d-4549-cd3c-f96f7c2cea4e"
      },
      "source": [
        "# Create dataframe from the dictionary of all the accuracy score results\n",
        "results_df = pd.DataFrame(data=results_dict)\n",
        "results_df"
      ],
      "id": "O1V_D7XImRY1",
      "execution_count": 74,
      "outputs": [
        {
          "output_type": "execute_result",
          "data": {
            "text/html": [
              "<div>\n",
              "<style scoped>\n",
              "    .dataframe tbody tr th:only-of-type {\n",
              "        vertical-align: middle;\n",
              "    }\n",
              "\n",
              "    .dataframe tbody tr th {\n",
              "        vertical-align: top;\n",
              "    }\n",
              "\n",
              "    .dataframe thead th {\n",
              "        text-align: right;\n",
              "    }\n",
              "</style>\n",
              "<table border=\"1\" class=\"dataframe\">\n",
              "  <thead>\n",
              "    <tr style=\"text-align: right;\">\n",
              "      <th></th>\n",
              "      <th>Training accuracy_score</th>\n",
              "      <th>Test accuracy_score</th>\n",
              "    </tr>\n",
              "  </thead>\n",
              "  <tbody>\n",
              "    <tr>\n",
              "      <th>Naive B</th>\n",
              "      <td>0.940034</td>\n",
              "      <td>0.705015</td>\n",
              "    </tr>\n",
              "    <tr>\n",
              "      <th>FOREST</th>\n",
              "      <td>0.999910</td>\n",
              "      <td>0.713864</td>\n",
              "    </tr>\n",
              "    <tr>\n",
              "      <th>Logistic</th>\n",
              "      <td>0.999729</td>\n",
              "      <td>0.749895</td>\n",
              "    </tr>\n",
              "    <tr>\n",
              "      <th>Ridge Classifier</th>\n",
              "      <td>0.998194</td>\n",
              "      <td>0.751159</td>\n",
              "    </tr>\n",
              "    <tr>\n",
              "      <th>MLP Classifier</th>\n",
              "      <td>0.999910</td>\n",
              "      <td>0.748841</td>\n",
              "    </tr>\n",
              "    <tr>\n",
              "      <th>Support Vector Classifier</th>\n",
              "      <td>0.999910</td>\n",
              "      <td>0.751159</td>\n",
              "    </tr>\n",
              "  </tbody>\n",
              "</table>\n",
              "</div>"
            ],
            "text/plain": [
              "                           Training accuracy_score  Test accuracy_score\n",
              "Naive B                                   0.940034             0.705015\n",
              "FOREST                                    0.999910             0.713864\n",
              "Logistic                                  0.999729             0.749895\n",
              "Ridge Classifier                          0.998194             0.751159\n",
              "MLP Classifier                            0.999910             0.748841\n",
              "Support Vector Classifier                 0.999910             0.751159"
            ]
          },
          "metadata": {},
          "execution_count": 74
        }
      ]
    },
    {
      "cell_type": "markdown",
      "metadata": {
        "id": "6yCTaRhmrb1g"
      },
      "source": [
        "### Results Based on F1_score"
      ],
      "id": "6yCTaRhmrb1g"
    },
    {
      "cell_type": "code",
      "metadata": {
        "id": "BKvN8JT0rBVc",
        "colab": {
          "base_uri": "https://localhost:8080/",
          "height": 234
        },
        "outputId": "109dc8c7-7394-4fc4-e5ab-53233f43e879"
      },
      "source": [
        "results_f1score = pd.DataFrame(data=results_dict_scores)\n",
        "results_f1score"
      ],
      "id": "BKvN8JT0rBVc",
      "execution_count": 76,
      "outputs": [
        {
          "output_type": "execute_result",
          "data": {
            "text/html": [
              "<div>\n",
              "<style scoped>\n",
              "    .dataframe tbody tr th:only-of-type {\n",
              "        vertical-align: middle;\n",
              "    }\n",
              "\n",
              "    .dataframe tbody tr th {\n",
              "        vertical-align: top;\n",
              "    }\n",
              "\n",
              "    .dataframe thead th {\n",
              "        text-align: right;\n",
              "    }\n",
              "</style>\n",
              "<table border=\"1\" class=\"dataframe\">\n",
              "  <thead>\n",
              "    <tr style=\"text-align: right;\">\n",
              "      <th></th>\n",
              "      <th>F1_score</th>\n",
              "    </tr>\n",
              "  </thead>\n",
              "  <tbody>\n",
              "    <tr>\n",
              "      <th>FOREST</th>\n",
              "      <td>0.544633</td>\n",
              "    </tr>\n",
              "    <tr>\n",
              "      <th>Logistic</th>\n",
              "      <td>0.655759</td>\n",
              "    </tr>\n",
              "    <tr>\n",
              "      <th>MLP Classifier</th>\n",
              "      <td>0.662765</td>\n",
              "    </tr>\n",
              "    <tr>\n",
              "      <th>Naive B</th>\n",
              "      <td>0.504983</td>\n",
              "    </tr>\n",
              "    <tr>\n",
              "      <th>Ridge Classifier</th>\n",
              "      <td>0.652853</td>\n",
              "    </tr>\n",
              "    <tr>\n",
              "      <th>Support Vector Classifier</th>\n",
              "      <td>0.663801</td>\n",
              "    </tr>\n",
              "  </tbody>\n",
              "</table>\n",
              "</div>"
            ],
            "text/plain": [
              "                           F1_score\n",
              "FOREST                     0.544633\n",
              "Logistic                   0.655759\n",
              "MLP Classifier             0.662765\n",
              "Naive B                    0.504983\n",
              "Ridge Classifier           0.652853\n",
              "Support Vector Classifier  0.663801"
            ]
          },
          "metadata": {},
          "execution_count": 76
        }
      ]
    },
    {
      "cell_type": "markdown",
      "metadata": {
        "id": "-Dln8kfsfHFH"
      },
      "source": [
        "###Models Consolidated"
      ],
      "id": "-Dln8kfsfHFH"
    },
    {
      "cell_type": "code",
      "metadata": {
        "colab": {
          "base_uri": "https://localhost:8080/"
        },
        "id": "27IshfJQeKg4",
        "outputId": "858305b9-de2e-46bd-a275-e5336d1e2784"
      },
      "source": [
        "# Creating a list of all the models to train\n",
        "Classifiers = [MultinomialNB(),RandomForestClassifier(), LogisticRegression(multi_class='ovr', solver=\"sag\", random_state=100), RidgeClassifier(alpha=1.0, solver='auto',tol=0.001), MLPClassifier(hidden_layer_sizes=(100,50,30),\n",
        "                        max_iter = 10,activation = 'tanh',\n",
        "                        solver = 'adam'), SVC(kernel = 'linear'), SVC(kernel = 'rbf'), DecisionTreeClassifier()]\n",
        "\n",
        "\n",
        "for n in range(0, len(Classifiers)):\n",
        "    text_clf = Pipeline([('clf', Classifiers[n])])\n",
        "    text_clf.fit(count_train, y_train)  \n",
        "    predictions = text_clf.predict(count_test)\n",
        "    \n",
        "    print(Classifiers[n])\n",
        "    print(metrics.confusion_matrix(y_test,predictions))\n",
        "    print(metrics.classification_report(y_test,predictions))\n",
        "    print('F1_score: ',metrics.f1_score(y_test,predictions, average = 'macro'))\n",
        "    print('New Model\\n')"
      ],
      "id": "27IshfJQeKg4",
      "execution_count": 78,
      "outputs": [
        {
          "output_type": "stream",
          "name": "stdout",
          "text": [
            "MultinomialNB()\n",
            "[[  53    2  323   11]\n",
            " [   2  102  565   37]\n",
            " [   0    4 2445  110]\n",
            " [   2    0  344  746]]\n",
            "              precision    recall  f1-score   support\n",
            "\n",
            "          -1       0.93      0.14      0.24       389\n",
            "           0       0.94      0.14      0.25       706\n",
            "           1       0.66      0.96      0.78      2559\n",
            "           2       0.83      0.68      0.75      1092\n",
            "\n",
            "    accuracy                           0.71      4746\n",
            "   macro avg       0.84      0.48      0.50      4746\n",
            "weighted avg       0.77      0.71      0.65      4746\n",
            "\n",
            "F1_score:  0.5049834781532239\n",
            "New Model\n",
            "\n",
            "RandomForestClassifier()\n",
            "[[  62   30  283   14]\n",
            " [   1  185  478   42]\n",
            " [   2   31 2390  136]\n",
            " [   2    7  330  753]]\n",
            "              precision    recall  f1-score   support\n",
            "\n",
            "          -1       0.93      0.16      0.27       389\n",
            "           0       0.73      0.26      0.39       706\n",
            "           1       0.69      0.93      0.79      2559\n",
            "           2       0.80      0.69      0.74      1092\n",
            "\n",
            "    accuracy                           0.71      4746\n",
            "   macro avg       0.79      0.51      0.55      4746\n",
            "weighted avg       0.74      0.71      0.68      4746\n",
            "\n",
            "F1_score:  0.5471154117940583\n",
            "New Model\n",
            "\n"
          ]
        },
        {
          "output_type": "stream",
          "name": "stderr",
          "text": [
            "/usr/local/lib/python3.7/dist-packages/sklearn/linear_model/_sag.py:354: ConvergenceWarning: The max_iter was reached which means the coef_ did not converge\n",
            "  ConvergenceWarning,\n",
            "/usr/local/lib/python3.7/dist-packages/sklearn/linear_model/_sag.py:354: ConvergenceWarning: The max_iter was reached which means the coef_ did not converge\n",
            "  ConvergenceWarning,\n",
            "/usr/local/lib/python3.7/dist-packages/sklearn/linear_model/_sag.py:354: ConvergenceWarning: The max_iter was reached which means the coef_ did not converge\n",
            "  ConvergenceWarning,\n",
            "/usr/local/lib/python3.7/dist-packages/sklearn/linear_model/_sag.py:354: ConvergenceWarning: The max_iter was reached which means the coef_ did not converge\n",
            "  ConvergenceWarning,\n"
          ]
        },
        {
          "output_type": "stream",
          "name": "stdout",
          "text": [
            "LogisticRegression(multi_class='ovr', random_state=100, solver='sag')\n",
            "[[ 152   49  169   19]\n",
            " [  30  301  319   56]\n",
            " [  21  102 2244  192]\n",
            " [   6   14  201  871]]\n",
            "              precision    recall  f1-score   support\n",
            "\n",
            "          -1       0.73      0.39      0.51       389\n",
            "           0       0.65      0.43      0.51       706\n",
            "           1       0.77      0.88      0.82      2559\n",
            "           2       0.77      0.80      0.78      1092\n",
            "\n",
            "    accuracy                           0.75      4746\n",
            "   macro avg       0.73      0.62      0.66      4746\n",
            "weighted avg       0.74      0.75      0.74      4746\n",
            "\n",
            "F1_score:  0.6550919096119828\n",
            "New Model\n",
            "\n",
            "RidgeClassifier()\n",
            "[[ 159   63  148   19]\n",
            " [  24  339  291   52]\n",
            " [  23  127 2194  215]\n",
            " [   6   33  205  848]]\n",
            "              precision    recall  f1-score   support\n",
            "\n",
            "          -1       0.75      0.41      0.53       389\n",
            "           0       0.60      0.48      0.53       706\n",
            "           1       0.77      0.86      0.81      2559\n",
            "           2       0.75      0.78      0.76      1092\n",
            "\n",
            "    accuracy                           0.75      4746\n",
            "   macro avg       0.72      0.63      0.66      4746\n",
            "weighted avg       0.74      0.75      0.74      4746\n",
            "\n",
            "F1_score:  0.6596918744157119\n",
            "New Model\n",
            "\n"
          ]
        },
        {
          "output_type": "stream",
          "name": "stderr",
          "text": [
            "/usr/local/lib/python3.7/dist-packages/sklearn/neural_network/_multilayer_perceptron.py:696: ConvergenceWarning: Stochastic Optimizer: Maximum iterations (10) reached and the optimization hasn't converged yet.\n",
            "  ConvergenceWarning,\n"
          ]
        },
        {
          "output_type": "stream",
          "name": "stdout",
          "text": [
            "MLPClassifier(activation='tanh', hidden_layer_sizes=(100, 50, 30), max_iter=10)\n",
            "[[ 160   68  144   17]\n",
            " [  23  337  295   51]\n",
            " [  20  159 2211  169]\n",
            " [   6   24  210  852]]\n",
            "              precision    recall  f1-score   support\n",
            "\n",
            "          -1       0.77      0.41      0.54       389\n",
            "           0       0.57      0.48      0.52       706\n",
            "           1       0.77      0.86      0.82      2559\n",
            "           2       0.78      0.78      0.78      1092\n",
            "\n",
            "    accuracy                           0.75      4746\n",
            "   macro avg       0.72      0.63      0.66      4746\n",
            "weighted avg       0.74      0.75      0.74      4746\n",
            "\n",
            "F1_score:  0.6633233226003652\n",
            "New Model\n",
            "\n",
            "SVC(kernel='linear')\n",
            "[[ 171   63  141   14]\n",
            " [  34  356  281   35]\n",
            " [  40  153 2181  185]\n",
            " [   5   31  187  869]]\n",
            "              precision    recall  f1-score   support\n",
            "\n",
            "          -1       0.68      0.44      0.54       389\n",
            "           0       0.59      0.50      0.54       706\n",
            "           1       0.78      0.85      0.82      2559\n",
            "           2       0.79      0.80      0.79      1092\n",
            "\n",
            "    accuracy                           0.75      4746\n",
            "   macro avg       0.71      0.65      0.67      4746\n",
            "weighted avg       0.75      0.75      0.75      4746\n",
            "\n",
            "F1_score:  0.671604250620598\n",
            "New Model\n",
            "\n",
            "SVC()\n",
            "[[  74   50  236   29]\n",
            " [   9  251  358   88]\n",
            " [   5   64 2217  273]\n",
            " [   1   11  175  905]]\n",
            "              precision    recall  f1-score   support\n",
            "\n",
            "          -1       0.83      0.19      0.31       389\n",
            "           0       0.67      0.36      0.46       706\n",
            "           1       0.74      0.87      0.80      2559\n",
            "           2       0.70      0.83      0.76      1092\n",
            "\n",
            "    accuracy                           0.73      4746\n",
            "   macro avg       0.74      0.56      0.58      4746\n",
            "weighted avg       0.73      0.73      0.70      4746\n",
            "\n",
            "F1_score:  0.5828730918621633\n",
            "New Model\n",
            "\n",
            "KNeighborsClassifier()\n",
            "[[  44  285   58    2]\n",
            " [   6  601   91    8]\n",
            " [  38 1469  995   57]\n",
            " [  11  474  348  259]]\n",
            "              precision    recall  f1-score   support\n",
            "\n",
            "          -1       0.44      0.11      0.18       389\n",
            "           0       0.21      0.85      0.34       706\n",
            "           1       0.67      0.39      0.49      2559\n",
            "           2       0.79      0.24      0.37      1092\n",
            "\n",
            "    accuracy                           0.40      4746\n",
            "   macro avg       0.53      0.40      0.34      4746\n",
            "weighted avg       0.61      0.40      0.41      4746\n",
            "\n",
            "F1_score:  0.3442240332681083\n",
            "New Model\n",
            "\n",
            "DecisionTreeClassifier()\n",
            "[[ 107   66  190   26]\n",
            " [  29  249  356   72]\n",
            " [  76  191 2033  259]\n",
            " [  19   37  284  752]]\n",
            "              precision    recall  f1-score   support\n",
            "\n",
            "          -1       0.46      0.28      0.35       389\n",
            "           0       0.46      0.35      0.40       706\n",
            "           1       0.71      0.79      0.75      2559\n",
            "           2       0.68      0.69      0.68      1092\n",
            "\n",
            "    accuracy                           0.66      4746\n",
            "   macro avg       0.58      0.53      0.54      4746\n",
            "weighted avg       0.65      0.66      0.65      4746\n",
            "\n",
            "F1_score:  0.5442784524065772\n",
            "New Model\n",
            "\n"
          ]
        }
      ]
    },
    {
      "cell_type": "code",
      "metadata": {
        "id": "E1SPa163BWOH",
        "colab": {
          "base_uri": "https://localhost:8080/",
          "height": 234
        },
        "outputId": "533a4ed5-2855-4480-eee2-b1c0fa065dc2"
      },
      "source": [
        "#pred = svc.predict(count_df_test)\n",
        "pred = rrc.predict(count_df_test)\n",
        "sub = pd.DataFrame({\"tweetid\":df_test['tweetid'], 'sentiment': pred})\n",
        "sub = sub.set_index('tweetid')\n",
        "sub.to_csv('submission.csv',index=True)\n",
        "sub.head()"
      ],
      "id": "E1SPa163BWOH",
      "execution_count": 79,
      "outputs": [
        {
          "output_type": "execute_result",
          "data": {
            "text/html": [
              "<div>\n",
              "<style scoped>\n",
              "    .dataframe tbody tr th:only-of-type {\n",
              "        vertical-align: middle;\n",
              "    }\n",
              "\n",
              "    .dataframe tbody tr th {\n",
              "        vertical-align: top;\n",
              "    }\n",
              "\n",
              "    .dataframe thead th {\n",
              "        text-align: right;\n",
              "    }\n",
              "</style>\n",
              "<table border=\"1\" class=\"dataframe\">\n",
              "  <thead>\n",
              "    <tr style=\"text-align: right;\">\n",
              "      <th></th>\n",
              "      <th>sentiment</th>\n",
              "    </tr>\n",
              "    <tr>\n",
              "      <th>tweetid</th>\n",
              "      <th></th>\n",
              "    </tr>\n",
              "  </thead>\n",
              "  <tbody>\n",
              "    <tr>\n",
              "      <th>169760</th>\n",
              "      <td>2</td>\n",
              "    </tr>\n",
              "    <tr>\n",
              "      <th>35326</th>\n",
              "      <td>1</td>\n",
              "    </tr>\n",
              "    <tr>\n",
              "      <th>224985</th>\n",
              "      <td>1</td>\n",
              "    </tr>\n",
              "    <tr>\n",
              "      <th>476263</th>\n",
              "      <td>1</td>\n",
              "    </tr>\n",
              "    <tr>\n",
              "      <th>872928</th>\n",
              "      <td>0</td>\n",
              "    </tr>\n",
              "  </tbody>\n",
              "</table>\n",
              "</div>"
            ],
            "text/plain": [
              "         sentiment\n",
              "tweetid           \n",
              "169760           2\n",
              "35326            1\n",
              "224985           1\n",
              "476263           1\n",
              "872928           0"
            ]
          },
          "metadata": {},
          "execution_count": 79
        }
      ]
    },
    {
      "cell_type": "markdown",
      "metadata": {
        "id": "PBnCEhBoc-C4"
      },
      "source": [
        "##Training and Testing Our data on balanced Dataset"
      ],
      "id": "PBnCEhBoc-C4"
    },
    {
      "cell_type": "markdown",
      "metadata": {
        "id": "5_adQ7OYL7Dh"
      },
      "source": [
        "###Class Imbalance Data "
      ],
      "id": "5_adQ7OYL7Dh"
    },
    {
      "cell_type": "code",
      "metadata": {
        "colab": {
          "base_uri": "https://localhost:8080/"
        },
        "id": "6xWUXdrcidT7",
        "outputId": "2a7f4092-6f62-422c-8c61-b4702b71600f"
      },
      "source": [
        "data = df.copy()\n",
        "data['sentiment'].value_counts()"
      ],
      "id": "6xWUXdrcidT7",
      "execution_count": 81,
      "outputs": [
        {
          "output_type": "execute_result",
          "data": {
            "text/plain": [
              " 1    8530\n",
              " 2    3640\n",
              " 0    2353\n",
              "-1    1296\n",
              "Name: sentiment, dtype: int64"
            ]
          },
          "metadata": {},
          "execution_count": 81
        }
      ]
    },
    {
      "cell_type": "code",
      "metadata": {
        "colab": {
          "base_uri": "https://localhost:8080/"
        },
        "id": "rVA2bltJidWd",
        "outputId": "682216a6-6530-47ca-dde3-6d7855fd7a56"
      },
      "source": [
        "# There are more instances of class 1 than class 2, class 0 and Class -1 in the data frame df.  \n",
        "\n",
        "# Separate the classes\n",
        "Cat_News = data[data['sentiment']==2]\n",
        "cat_Pro = data[data['sentiment']==1]\n",
        "cat_Neutral = data[data['sentiment']==0]\n",
        "cat_Anti= data[data['sentiment']==-1]\n",
        "\n",
        "# Upsample minority class to match the Majority Class\n",
        "Cat_News = resample(Cat_News,\n",
        "                             replace=True,  # sample with replacement\n",
        "                             n_samples=8530,  # to match majority class\n",
        "                             random_state=300)  # reproducible results\n",
        "cat_Neutral = resample(cat_Neutral,\n",
        "                             replace=True,  # sample with replacement\n",
        "                             n_samples=8530,  # to match majority class\n",
        "                             random_state=300)  # reproducible results\n",
        "cat_Anti = resample(cat_Anti,\n",
        "                             replace=True,  # sample with replacement\n",
        "                             n_samples=8530,  # to match majority class\n",
        "                             random_state=300)  # reproducible results\n",
        "\n",
        "# Combine majority class with upsampled minority class\n",
        "# Display new class counts\n",
        "\n",
        "Balanced = pd.concat([cat_Pro, Cat_News, cat_Neutral,cat_Anti])\n",
        "Balanced['sentiment'].value_counts()"
      ],
      "id": "rVA2bltJidWd",
      "execution_count": 84,
      "outputs": [
        {
          "output_type": "execute_result",
          "data": {
            "text/plain": [
              "-1    8530\n",
              " 2    8530\n",
              " 1    8530\n",
              " 0    8530\n",
              "Name: sentiment, dtype: int64"
            ]
          },
          "metadata": {},
          "execution_count": 84
        }
      ]
    },
    {
      "cell_type": "code",
      "metadata": {
        "id": "vTxOPjzXB4sd",
        "colab": {
          "base_uri": "https://localhost:8080/",
          "height": 710
        },
        "outputId": "effb6e0c-d17b-4aef-8f95-b3562b941c81"
      },
      "source": [
        "# Checking if data has been well-balanced\n",
        "sns.countplot(x = Balanced['sentiment'], data = data, palette='tab10')\n",
        "plt.title('Balanced Data')\n",
        "plt.show()"
      ],
      "id": "vTxOPjzXB4sd",
      "execution_count": 85,
      "outputs": [
        {
          "output_type": "display_data",
          "data": {
            "image/png": "[encoded data removed]",
            "text/plain": [
              "<Figure size 1080x720 with 1 Axes>"
            ]
          },
          "metadata": {
            "needs_background": "light"
          }
        }
      ]
    },
    {
      "cell_type": "code",
      "metadata": {
        "id": "FCd79CDtBWRO",
        "colab": {
          "base_uri": "https://localhost:8080/"
        },
        "outputId": "511038da-96b3-435f-f9db-061c154673ae"
      },
      "source": [
        "#Working with balanced data\n",
        "\n",
        "# Defining the features as well as the label\n",
        "X_new= Balanced['clean']\n",
        "#X_new = X_new.apply(cleaner)\n",
        "X_new=Balanced['clean']\n",
        "y_new = Balanced['sentiment']\n",
        "\n",
        "#Train and Test Split\n",
        "X_train1, X_test1, y_train1, y_test1 = train_test_split(X_new, y_new, test_size=0.40, stratify=y_new,random_state=42)\n",
        "\n",
        "count_vectorizer = CountVectorizer(lowercase = True, ngram_range=(1, 2), analyzer='word', max_df = 0.70, preprocessor=my_cool_preprocessor)#(lowercase = True, ngram_range=(1, 2), analyzer='word')\n",
        "count_train1 = count_vectorizer.fit_transform(X_train1.values)\n",
        "count_test1 = count_vectorizer.transform(X_test1.values)\n",
        "count_df_test1 = count_vectorizer.transform(df_test['clean'].values)\n",
        "\n",
        "\n",
        "for n in range(0, len(Classifiers)):\n",
        "    text_clf = Pipeline([('clf', Classifiers[n])])\n",
        "    text_clf.fit(count_train1, y_train1)  \n",
        "    predictions = text_clf.predict(count_test1)\n",
        "    \n",
        "    \n",
        "    print(Classifiers[n])\n",
        "    print(metrics.confusion_matrix(y_test1,predictions))\n",
        "    print(metrics.classification_report(y_test1,predictions))\n",
        "    print('F1_score: ',round(metrics.f1_score(y_test1,predictions, average = 'macro'),3))\n",
        "    print('-------------------------------------------------------')"
      ],
      "id": "FCd79CDtBWRO",
      "execution_count": 86,
      "outputs": [
        {
          "output_type": "stream",
          "name": "stdout",
          "text": [
            "MultinomialNB()\n",
            "[[3347   24   18   23]\n",
            " [ 145 3068  122   77]\n",
            " [ 253  309 2430  420]\n",
            " [  51   34  122 3205]]\n",
            "              precision    recall  f1-score   support\n",
            "\n",
            "          -1       0.88      0.98      0.93      3412\n",
            "           0       0.89      0.90      0.90      3412\n",
            "           1       0.90      0.71      0.80      3412\n",
            "           2       0.86      0.94      0.90      3412\n",
            "\n",
            "    accuracy                           0.88     13648\n",
            "   macro avg       0.88      0.88      0.88     13648\n",
            "weighted avg       0.88      0.88      0.88     13648\n",
            "\n",
            "F1_score:  0.88\n",
            "-------------------------------------------------------\n",
            "RandomForestClassifier()\n",
            "[[3357   27   28    0]\n",
            " [  26 3263  106   17]\n",
            " [  75  361 2561  415]\n",
            " [  18   66  147 3181]]\n",
            "              precision    recall  f1-score   support\n",
            "\n",
            "          -1       0.97      0.98      0.97      3412\n",
            "           0       0.88      0.96      0.92      3412\n",
            "           1       0.90      0.75      0.82      3412\n",
            "           2       0.88      0.93      0.91      3412\n",
            "\n",
            "    accuracy                           0.91     13648\n",
            "   macro avg       0.91      0.91      0.90     13648\n",
            "weighted avg       0.91      0.91      0.90     13648\n",
            "\n",
            "F1_score:  0.904\n",
            "-------------------------------------------------------\n"
          ]
        },
        {
          "output_type": "stream",
          "name": "stderr",
          "text": [
            "/usr/local/lib/python3.7/dist-packages/sklearn/linear_model/_sag.py:354: ConvergenceWarning: The max_iter was reached which means the coef_ did not converge\n",
            "  ConvergenceWarning,\n",
            "/usr/local/lib/python3.7/dist-packages/sklearn/linear_model/_sag.py:354: ConvergenceWarning: The max_iter was reached which means the coef_ did not converge\n",
            "  ConvergenceWarning,\n",
            "/usr/local/lib/python3.7/dist-packages/sklearn/linear_model/_sag.py:354: ConvergenceWarning: The max_iter was reached which means the coef_ did not converge\n",
            "  ConvergenceWarning,\n",
            "/usr/local/lib/python3.7/dist-packages/sklearn/linear_model/_sag.py:354: ConvergenceWarning: The max_iter was reached which means the coef_ did not converge\n",
            "  ConvergenceWarning,\n"
          ]
        },
        {
          "output_type": "stream",
          "name": "stdout",
          "text": [
            "LogisticRegression(multi_class='ovr', random_state=100, solver='sag')\n",
            "[[3368   33   11    0]\n",
            " [  31 3267   88   26]\n",
            " [  93  321 2642  356]\n",
            " [  17   51  111 3233]]\n",
            "              precision    recall  f1-score   support\n",
            "\n",
            "          -1       0.96      0.99      0.97      3412\n",
            "           0       0.89      0.96      0.92      3412\n",
            "           1       0.93      0.77      0.84      3412\n",
            "           2       0.89      0.95      0.92      3412\n",
            "\n",
            "    accuracy                           0.92     13648\n",
            "   macro avg       0.92      0.92      0.91     13648\n",
            "weighted avg       0.92      0.92      0.91     13648\n",
            "\n",
            "F1_score:  0.915\n",
            "-------------------------------------------------------\n",
            "RidgeClassifier()\n",
            "[[3368   29   12    3]\n",
            " [  30 3257  102   23]\n",
            " [  73  303 2677  359]\n",
            " [  13   59  142 3198]]\n",
            "              precision    recall  f1-score   support\n",
            "\n",
            "          -1       0.97      0.99      0.98      3412\n",
            "           0       0.89      0.95      0.92      3412\n",
            "           1       0.91      0.78      0.84      3412\n",
            "           2       0.89      0.94      0.91      3412\n",
            "\n",
            "    accuracy                           0.92     13648\n",
            "   macro avg       0.92      0.92      0.91     13648\n",
            "weighted avg       0.92      0.92      0.91     13648\n",
            "\n",
            "F1_score:  0.914\n",
            "-------------------------------------------------------\n"
          ]
        },
        {
          "output_type": "stream",
          "name": "stderr",
          "text": [
            "/usr/local/lib/python3.7/dist-packages/sklearn/neural_network/_multilayer_perceptron.py:696: ConvergenceWarning: Stochastic Optimizer: Maximum iterations (10) reached and the optimization hasn't converged yet.\n",
            "  ConvergenceWarning,\n"
          ]
        },
        {
          "output_type": "stream",
          "name": "stdout",
          "text": [
            "MLPClassifier(activation='tanh', hidden_layer_sizes=(100, 50, 30), max_iter=10)\n",
            "[[3371   29   12    0]\n",
            " [  39 3232  129   12]\n",
            " [  78  243 2840  251]\n",
            " [  23   54  166 3169]]\n",
            "              precision    recall  f1-score   support\n",
            "\n",
            "          -1       0.96      0.99      0.97      3412\n",
            "           0       0.91      0.95      0.93      3412\n",
            "           1       0.90      0.83      0.87      3412\n",
            "           2       0.92      0.93      0.93      3412\n",
            "\n",
            "    accuracy                           0.92     13648\n",
            "   macro avg       0.92      0.92      0.92     13648\n",
            "weighted avg       0.92      0.92      0.92     13648\n",
            "\n",
            "F1_score:  0.923\n",
            "-------------------------------------------------------\n",
            "SVC(kernel='linear')\n",
            "[[3361   34   17    0]\n",
            " [  30 3269  100   13]\n",
            " [  85  355 2673  299]\n",
            " [  12   79  139 3182]]\n",
            "              precision    recall  f1-score   support\n",
            "\n",
            "          -1       0.96      0.99      0.97      3412\n",
            "           0       0.87      0.96      0.91      3412\n",
            "           1       0.91      0.78      0.84      3412\n",
            "           2       0.91      0.93      0.92      3412\n",
            "\n",
            "    accuracy                           0.91     13648\n",
            "   macro avg       0.92      0.91      0.91     13648\n",
            "weighted avg       0.92      0.91      0.91     13648\n",
            "\n",
            "F1_score:  0.913\n",
            "-------------------------------------------------------\n",
            "SVC()\n",
            "[[3329   56   20    7]\n",
            " [  25 3222  107   58]\n",
            " [  64  383 2350  615]\n",
            " [   9   60   90 3253]]\n",
            "              precision    recall  f1-score   support\n",
            "\n",
            "          -1       0.97      0.98      0.97      3412\n",
            "           0       0.87      0.94      0.90      3412\n",
            "           1       0.92      0.69      0.79      3412\n",
            "           2       0.83      0.95      0.89      3412\n",
            "\n",
            "    accuracy                           0.89     13648\n",
            "   macro avg       0.89      0.89      0.89     13648\n",
            "weighted avg       0.89      0.89      0.89     13648\n",
            "\n",
            "F1_score:  0.887\n",
            "-------------------------------------------------------\n",
            "KNeighborsClassifier()\n",
            "[[3082  326    0    4]\n",
            " [ 182 3201    5   24]\n",
            " [ 374 2328  620   90]\n",
            " [  97 1643   26 1646]]\n",
            "              precision    recall  f1-score   support\n",
            "\n",
            "          -1       0.83      0.90      0.86      3412\n",
            "           0       0.43      0.94      0.59      3412\n",
            "           1       0.95      0.18      0.31      3412\n",
            "           2       0.93      0.48      0.64      3412\n",
            "\n",
            "    accuracy                           0.63     13648\n",
            "   macro avg       0.78      0.63      0.60     13648\n",
            "weighted avg       0.78      0.63      0.60     13648\n",
            "\n",
            "F1_score:  0.598\n",
            "-------------------------------------------------------\n",
            "DecisionTreeClassifier()\n",
            "[[3366   28   16    2]\n",
            " [  51 3237   98   26]\n",
            " [ 230  511 2244  427]\n",
            " [  28  113  158 3113]]\n",
            "              precision    recall  f1-score   support\n",
            "\n",
            "          -1       0.92      0.99      0.95      3412\n",
            "           0       0.83      0.95      0.89      3412\n",
            "           1       0.89      0.66      0.76      3412\n",
            "           2       0.87      0.91      0.89      3412\n",
            "\n",
            "    accuracy                           0.88     13648\n",
            "   macro avg       0.88      0.88      0.87     13648\n",
            "weighted avg       0.88      0.88      0.87     13648\n",
            "\n",
            "F1_score:  0.871\n",
            "-------------------------------------------------------\n"
          ]
        }
      ]
    },
    {
      "cell_type": "markdown",
      "metadata": {
        "id": "E6TV-1CHey4L"
      },
      "source": [
        "#Final Model Selected From Balanced Data Set"
      ],
      "id": "E6TV-1CHey4L"
    },
    {
      "cell_type": "markdown",
      "metadata": {
        "id": "eQtxBCrue8Xf"
      },
      "source": [
        "Logistic Regression"
      ],
      "id": "eQtxBCrue8Xf"
    },
    {
      "cell_type": "code",
      "metadata": {
        "id": "WYOX61K1DxVs",
        "colab": {
          "base_uri": "https://localhost:8080/"
        },
        "outputId": "f0630cd4-2f6a-46ba-d57b-cbf33c84a4a1"
      },
      "source": [
        "lr1=LogisticRegression() #multi_class{‘auto’, ‘ovr’, ‘multinomial’}, \n",
        "#solver{‘newton-cg’, ‘lbfgs’, ‘liblinear’, ‘sag’, ‘saga’}, default=’lbfgs’\n",
        "\n",
        "lr1.fit(count_train1, y_train1)\n",
        "lr_pred1 = lr1.predict(count_test1)\n",
        "metrics.accuracy_score(y_test1 ,lr_pred1)\n",
        "f1_score(y_test1, lr_pred1, average=\"macro\")"
      ],
      "id": "WYOX61K1DxVs",
      "execution_count": null,
      "outputs": [
        {
          "output_type": "stream",
          "name": "stderr",
          "text": [
            "/usr/local/lib/python3.7/dist-packages/sklearn/linear_model/_logistic.py:818: ConvergenceWarning: lbfgs failed to converge (status=1):\n",
            "STOP: TOTAL NO. of ITERATIONS REACHED LIMIT.\n",
            "\n",
            "Increase the number of iterations (max_iter) or scale the data as shown in:\n",
            "    https://scikit-learn.org/stable/modules/preprocessing.html\n",
            "Please also refer to the documentation for alternative solver options:\n",
            "    https://scikit-learn.org/stable/modules/linear_model.html#logistic-regression\n",
            "  extra_warning_msg=_LOGISTIC_SOLVER_CONVERGENCE_MSG,\n"
          ]
        },
        {
          "output_type": "execute_result",
          "data": {
            "text/plain": [
              "0.8910517537454319"
            ]
          },
          "metadata": {},
          "execution_count": 52
        }
      ]
    },
    {
      "cell_type": "code",
      "metadata": {
        "id": "xT6UCF59BWXE",
        "colab": {
          "base_uri": "https://localhost:8080/"
        },
        "outputId": "48b6b325-5617-4db0-9a2d-e70b975709dc"
      },
      "source": [
        "f1_score(y_test1, lr_pred1, average=\"macro\")"
      ],
      "id": "xT6UCF59BWXE",
      "execution_count": null,
      "outputs": [
        {
          "output_type": "execute_result",
          "data": {
            "text/plain": [
              "0.8910517537454319"
            ]
          },
          "metadata": {},
          "execution_count": 53
        }
      ]
    },
    {
      "cell_type": "markdown",
      "metadata": {
        "id": "D-FeWsNGAMDC"
      },
      "source": [
        "SVC"
      ],
      "id": "D-FeWsNGAMDC"
    },
    {
      "cell_type": "code",
      "metadata": {
        "colab": {
          "base_uri": "https://localhost:8080/"
        },
        "id": "o9tMZDw2ALJx",
        "outputId": "7987cd33-894b-4a69-851e-1dc8fa1c4e42"
      },
      "source": [
        "#svc = SVC(kernel='linear', gamma='auto', coef0=0.0000001, tol=0.0000002)   #,random_state=78)#{‘linear’, ‘poly’, ‘rbf’, ‘sigmoid’, ‘precomputed’}, default=’rbf’\n",
        "svc1= SVC(kernel='linear', C=10.0, random_state=1)\n",
        "svc1.fit(count_train1, y_train1)\n",
        "sv_pred1 = svc1.predict(count_test1)\n",
        "print(metrics.accuracy_score(y_test1 ,sv_pred1))\n",
        "print(f1_score(y_test1, sv_pred1, average=\"macro\"))"
      ],
      "id": "o9tMZDw2ALJx",
      "execution_count": null,
      "outputs": [
        {
          "output_type": "stream",
          "name": "stdout",
          "text": [
            "0.8746069182389937\n",
            "0.8786387495645687\n"
          ]
        }
      ]
    },
    {
      "cell_type": "markdown",
      "metadata": {
        "id": "3RJ4rz_HNw8w"
      },
      "source": [
        "RF"
      ],
      "id": "3RJ4rz_HNw8w"
    },
    {
      "cell_type": "code",
      "metadata": {
        "id": "PdIIqy31NveW",
        "colab": {
          "base_uri": "https://localhost:8080/"
        },
        "outputId": "608c846b-90d3-489d-926f-34a8515d8513"
      },
      "source": [
        "from sklearn.ensemble import RandomForestClassifier\n",
        "rfc1 = RandomForestClassifier()\n",
        "rfc1.fit(count_train1, y_train1)\n",
        "rfc_pred1 = rfc1.predict(count_test1)\n",
        "print(metrics.accuracy_score(y_test1 ,rfc_pred1))\n",
        "print(f1_score(y_test1, rfc_pred1, average=\"macro\"))"
      ],
      "id": "PdIIqy31NveW",
      "execution_count": null,
      "outputs": [
        {
          "output_type": "stream",
          "name": "stdout",
          "text": [
            "0.8759827044025157\n",
            "0.8809954765512442\n"
          ]
        }
      ]
    },
    {
      "cell_type": "markdown",
      "metadata": {
        "id": "4m4uewY2kE4E"
      },
      "source": [
        "### The Chosen Model Summary⏰"
      ],
      "id": "4m4uewY2kE4E"
    },
    {
      "cell_type": "markdown",
      "metadata": {
        "id": "gaRkmS-SkFBJ"
      },
      "source": [
        ""
      ],
      "id": "gaRkmS-SkFBJ"
    },
    {
      "cell_type": "markdown",
      "metadata": {
        "id": "jT5hXiFNkKp2"
      },
      "source": [
        ""
      ],
      "id": "jT5hXiFNkKp2"
    },
    {
      "cell_type": "markdown",
      "metadata": {
        "id": "8QR2mnfgF-nJ"
      },
      "source": [
        "### Submission"
      ],
      "id": "8QR2mnfgF-nJ"
    },
    {
      "cell_type": "code",
      "metadata": {
        "id": "1ddc2688"
      },
      "source": [
        "#pred = svc.predict(count_df_test)\n",
        "pred = lr1.predict(count_df_test1)"
      ],
      "id": "1ddc2688",
      "execution_count": null,
      "outputs": []
    },
    {
      "cell_type": "code",
      "metadata": {
        "id": "acfdf860",
        "colab": {
          "base_uri": "https://localhost:8080/",
          "height": 234
        },
        "outputId": "82952350-6b16-44fe-cfee-01496f766c80"
      },
      "source": [
        "sub = pd.DataFrame({\"tweetid\":df_test['tweetid'], 'sentiment': pred})\n",
        "sub = sub.set_index('tweetid')\n",
        "sub.to_csv('submission.csv',index=True)\n",
        "sub.head()"
      ],
      "id": "acfdf860",
      "execution_count": null,
      "outputs": [
        {
          "output_type": "execute_result",
          "data": {
            "text/html": [
              "<div>\n",
              "<style scoped>\n",
              "    .dataframe tbody tr th:only-of-type {\n",
              "        vertical-align: middle;\n",
              "    }\n",
              "\n",
              "    .dataframe tbody tr th {\n",
              "        vertical-align: top;\n",
              "    }\n",
              "\n",
              "    .dataframe thead th {\n",
              "        text-align: right;\n",
              "    }\n",
              "</style>\n",
              "<table border=\"1\" class=\"dataframe\">\n",
              "  <thead>\n",
              "    <tr style=\"text-align: right;\">\n",
              "      <th></th>\n",
              "      <th>sentiment</th>\n",
              "    </tr>\n",
              "    <tr>\n",
              "      <th>tweetid</th>\n",
              "      <th></th>\n",
              "    </tr>\n",
              "  </thead>\n",
              "  <tbody>\n",
              "    <tr>\n",
              "      <th>169760</th>\n",
              "      <td>1</td>\n",
              "    </tr>\n",
              "    <tr>\n",
              "      <th>35326</th>\n",
              "      <td>0</td>\n",
              "    </tr>\n",
              "    <tr>\n",
              "      <th>224985</th>\n",
              "      <td>1</td>\n",
              "    </tr>\n",
              "    <tr>\n",
              "      <th>476263</th>\n",
              "      <td>1</td>\n",
              "    </tr>\n",
              "    <tr>\n",
              "      <th>872928</th>\n",
              "      <td>0</td>\n",
              "    </tr>\n",
              "  </tbody>\n",
              "</table>\n",
              "</div>"
            ],
            "text/plain": [
              "         sentiment\n",
              "tweetid           \n",
              "169760           1\n",
              "35326            0\n",
              "224985           1\n",
              "476263           1\n",
              "872928           0"
            ]
          },
          "metadata": {},
          "execution_count": 57
        }
      ]
    }
  ]
}